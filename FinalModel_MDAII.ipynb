{
 "cells": [
  {
   "cell_type": "markdown",
   "id": "1c67ea50",
   "metadata": {},
   "source": [
    "<img width=\"400\" style=\"float:left\" \n",
    "     src=\"https://as2.ftcdn.net/v2/jpg/05/63/00/99/1000_F_563009962_XqxlJbVHZQwPgIHk71I3vIa44SKCSR7w.jpg\" />`"
   ]
  },
  {
   "cell_type": "markdown",
   "id": "6b761001",
   "metadata": {},
   "source": [
    "# Group Assignment MDA II - Group 1\n",
    "\n",
    "Juliana Haddad | Bernardo Santos | Yoshiki Kitagawa | Hernan Fermin | Philippa Quadt\n",
    "\n",
    "November 15th, 2024\n"
   ]
  },
  {
   "cell_type": "markdown",
   "id": "afe9cee7",
   "metadata": {},
   "source": [
    "This notebook is organized in the following sections:\n",
    "\n",
    "* [Description](#0)\n",
    "* [Data Preparation & Cleaning](#1)\n",
    "  * [Notebook Environment Setup](#1.1)\n",
    "  * [Data Source](#1.2)\n",
    "  * [Data Cleaning](#1.3)\n",
    "  * [Data Merging](#1.4)\n",
    "  * [Preprocessing](#1.5)\n",
    "  * [Handlig Null Values](#1.6)\n",
    "  * [Dropping Null Values](#1.7)\n",
    "* [Exploratory Data Analysis](#2) \n",
    "* [Logisitc Regression (Predict the IMDB Score) based on features](#3)\n",
    "* [Linear Regression (Predict Future IMDB Scores)](#4)\n",
    "* [Logistic Regression (Predict Type of Content (Movie or TV Series) based on features](#5)\n"
   ]
  },
  {
   "cell_type": "markdown",
   "id": "c8e46d11",
   "metadata": {
    "jp-MarkdownHeadingCollapsed": true
   },
   "source": [
    "<a id='0'></a>\n",
    "## Starting Spark Session"
   ]
  },
  {
   "cell_type": "markdown",
   "id": "5b6903f3",
   "metadata": {},
   "source": [
    "The main objective of this project is to empower streaming platforms with actionable insights into user preferences and content performance, enabling data-driven decisions for content investment and user engagement maximization."
   ]
  },
  {
   "cell_type": "code",
   "execution_count": 1,
   "id": "dcbbc9c0-ebec-4f0b-b615-dc6625c2102a",
   "metadata": {},
   "outputs": [
    {
     "name": "stderr",
     "output_type": "stream",
     "text": [
      "24/11/19 20:25:07 WARN Utils: Your hostname, osbdet resolves to a loopback address: 127.0.0.1; using 10.0.2.15 instead (on interface enp0s1)\n",
      "24/11/19 20:25:07 WARN Utils: Set SPARK_LOCAL_IP if you need to bind to another address\n",
      "Setting default log level to \"WARN\".\n",
      "To adjust logging level use sc.setLogLevel(newLevel). For SparkR, use setLogLevel(newLevel).\n",
      "24/11/19 20:25:13 WARN NativeCodeLoader: Unable to load native-hadoop library for your platform... using builtin-java classes where applicable\n"
     ]
    }
   ],
   "source": [
    "from pyspark.sql.session import SparkSession\n",
    "spark = SparkSession.builder.appName(\"StreamingServiceData\").getOrCreate()"
   ]
  },
  {
   "cell_type": "markdown",
   "id": "326a6ad0-3551-4abe-9ffc-01990d20230e",
   "metadata": {},
   "source": [
    "<a id='1.1'></a>\n",
    "### Notebook Environment Setup "
   ]
  },
  {
   "cell_type": "markdown",
   "id": "5f07852b",
   "metadata": {},
   "source": [
    "As it happened with the first Spark applications we created, **we need to create a [Spark Session](https://spark.apache.org/docs/latest/api/python/reference/pyspark.sql/api/pyspark.sql.SparkSession.html)** before we can specify the input source bringing the events in. The Spark Session *is the entry point to programming Spark with the DataFrame API (High-level API)*."
   ]
  },
  {
   "cell_type": "markdown",
   "id": "bae2f006",
   "metadata": {},
   "source": [
    "<a id='1.2'></a>\n",
    "## Data Ingestion with Hadoop HDFS"
   ]
  },
  {
   "cell_type": "markdown",
   "id": "53779a96",
   "metadata": {},
   "source": [
    "The code shows how we use Hadoop HDFS to store and manage large datasets for platforms like Netflix and Amazon. Hadoop allows us to handle these datasets efficiently because it is designed for distributed storage and processing, making it ideal for large-scale projects. By using Hadoop, we ensure that our data is easily accessible and scalable, which is crucial for analyzing and processing high volumes of data in Spark."
   ]
  },
  {
   "cell_type": "markdown",
   "id": "78bc8bc7-9471-403d-b64a-80c17c13dd7b",
   "metadata": {},
   "source": [
    "### Hadoop HDFS"
   ]
  },
  {
   "cell_type": "code",
   "execution_count": 2,
   "id": "fefa1c24-0c94-4f94-b487-cae478331152",
   "metadata": {},
   "outputs": [],
   "source": [
    "Netflix = spark.read \\\n",
    "    .option(\"header\", \"true\") \\\n",
    "    .option(\"inferSchema\", \"true\") \\\n",
    "    .csv(\"hdfs://localhost:9000/datalake/raw/streaming/Netflix/\") \\\n",
    "    .distinct()"
   ]
  },
  {
   "cell_type": "code",
   "execution_count": 3,
   "id": "194c43c6-8251-4003-94b8-47371226d97a",
   "metadata": {},
   "outputs": [],
   "source": [
    "Amazon = spark.read \\\n",
    "    .option(\"header\", \"true\") \\\n",
    "    .option(\"inferSchema\", \"true\") \\\n",
    "    .csv(\"hdfs://localhost:9000/datalake/raw/streaming/Amazon/\") \\\n",
    "    .distinct()"
   ]
  },
  {
   "cell_type": "code",
   "execution_count": 4,
   "id": "3937443c-28f8-4615-96e8-dccd301e8593",
   "metadata": {},
   "outputs": [],
   "source": [
    "HBO = spark.read \\\n",
    "    .option(\"header\", \"true\") \\\n",
    "    .option(\"inferSchema\", \"true\") \\\n",
    "    .csv(\"hdfs://localhost:9000/datalake/raw/streaming/HBO/\") \\\n",
    "    .distinct()"
   ]
  },
  {
   "cell_type": "code",
   "execution_count": 5,
   "id": "7c7558bc-7c63-46c0-8125-7e9e28f680db",
   "metadata": {},
   "outputs": [],
   "source": [
    "Hulu = spark.read \\\n",
    "    .option(\"header\", \"true\") \\\n",
    "    .option(\"inferSchema\", \"true\") \\\n",
    "    .csv(\"hdfs://localhost:9000/datalake/raw/streaming/Hulu/\") \\\n",
    "    .distinct()"
   ]
  },
  {
   "cell_type": "code",
   "execution_count": 6,
   "id": "c55cbfd7-b122-41bb-ab71-f06adfd07823",
   "metadata": {},
   "outputs": [],
   "source": [
    "AppleTV = spark.read \\\n",
    "    .option(\"header\", \"true\") \\\n",
    "    .option(\"inferSchema\", \"true\") \\\n",
    "    .csv(\"hdfs://localhost:9000/datalake/raw/streaming/AppleTV/\") \\\n",
    "    .distinct()"
   ]
  },
  {
   "cell_type": "code",
   "execution_count": 7,
   "id": "871d6911-072c-4b84-b8e6-4a520e0d2886",
   "metadata": {},
   "outputs": [
    {
     "name": "stderr",
     "output_type": "stream",
     "text": [
      "[Stage 10:=============================>                            (1 + 1) / 2]\r"
     ]
    },
    {
     "name": "stdout",
     "output_type": "stream",
     "text": [
      "+--------------------+-------------------+---------+--------------------+-----------+----------+-----------------+------------+--------------------+\n",
      "|                 url|              title|     type|              genres|releaseYear|    imdbId|imdbAverageRating|imdbNumVotes|  availableCountries|\n",
      "+--------------------+-------------------+---------+--------------------+-----------+----------+-----------------+------------+--------------------+\n",
      "|https://www.amazo...|            Gattaca|    Movie|Drama, Sci-Fi, Th...|       1997| tt0119177|              7.7|    329178.0|                  NL|\n",
      "|https://www.amazo...|I Escaped My Killer|TV Series|               Crime|       2015| tt4949988|              6.8|         5.0|                  US|\n",
      "|https://www.amazo...|          Rush Hour|    Movie|Action, Comedy, C...|       1998| tt0120812|                7|    302077.0|CI, DK, FI, GH, J...|\n",
      "|https://www.amazo...|       Chainsaw Man|TV Series|Action, Adventure...|       2022|tt13616990|              8.4|     63824.0|ID, JP, MY, PH, S...|\n",
      "|https://www.amazo...|          Alexander|    Movie|Action, Biography...|       2004| tt0346491|              5.6|    178192.0|                  ES|\n",
      "+--------------------+-------------------+---------+--------------------+-----------+----------+-----------------+------------+--------------------+\n",
      "only showing top 5 rows\n",
      "\n"
     ]
    },
    {
     "name": "stderr",
     "output_type": "stream",
     "text": [
      "                                                                                \r"
     ]
    }
   ],
   "source": [
    "Amazon.show(5)  # Show first 5 rows to take a look and understand the dataset "
   ]
  },
  {
   "cell_type": "markdown",
   "id": "25ceb110",
   "metadata": {},
   "source": [
    "This foundational step involves merging data, cleaning it, and preparing a single unified dataset for analysis. Proper data preparation ensures consistency and reliability for downstream analyses.\n",
    "\n",
    "We'll use the **[Netflix, Hulu, HBO, AppleTV & Amazon dataset](https://www.kaggle.com/datasets/octopusteam/full-apple-tv-dataset?resource=download)** "
   ]
  },
  {
   "cell_type": "markdown",
   "id": "aa3f33f3-c7aa-4ab1-8830-341ba702f5a5",
   "metadata": {
    "jp-MarkdownHeadingCollapsed": true
   },
   "source": [
    "<a id='1'></a>\n",
    "## Data Preparation & Cleaning"
   ]
  },
  {
   "cell_type": "markdown",
   "id": "9fcd10e9",
   "metadata": {},
   "source": [
    "<a id='1.3'></a>\n",
    "### Data cleaning"
   ]
  },
  {
   "cell_type": "markdown",
   "id": "a4565a06",
   "metadata": {},
   "source": [
    "Here, we clean the data by dropping unnecessary columns like 'url' and 'imdbId' that do not contribute to our analysis. Removing these columns simplifies the dataset and improves processing efficiency. To differentiate the data from various streaming platforms, we add a 'Company' column to each DataFrame. This step allows for easier filtering and analysis based on the source platform."
   ]
  },
  {
   "cell_type": "code",
   "execution_count": 9,
   "id": "946943aa-1b71-46f0-bcd3-e8c48e01246c",
   "metadata": {},
   "outputs": [],
   "source": [
    "# Dropping irrelevant columns\n",
    "Netflix = Netflix.drop('url', 'imdbId')\n",
    "Amazon = Amazon.drop('url', 'imdbId')\n",
    "HBO = HBO.drop('url', 'imdbId')\n",
    "Hulu = Hulu.drop('url', 'imdbId')\n",
    "AppleTV = AppleTV.drop('url', 'imdbId')"
   ]
  },
  {
   "cell_type": "code",
   "execution_count": 11,
   "id": "05b710c7-26fd-4945-8b05-a088448ef1dd",
   "metadata": {},
   "outputs": [],
   "source": [
    "from pyspark.sql.functions import lit\n",
    "\n",
    "# Adding Company ID\n",
    "Netflix = Netflix.withColumn('Company', lit('Netflix'))\n",
    "Amazon = Amazon.withColumn('Company', lit('Amazon'))\n",
    "HBO = HBO.withColumn('Company', lit('HBO'))\n",
    "Hulu = Hulu.withColumn('Company', lit('Hulu'))\n",
    "AppleTV = AppleTV.withColumn('Company', lit('AppleTV'))"
   ]
  },
  {
   "cell_type": "markdown",
   "id": "71f371dd-ff90-439a-8793-452a40679d20",
   "metadata": {},
   "source": [
    "<a id='1.4'></a>\n",
    "### Data Merging"
   ]
  },
  {
   "cell_type": "markdown",
   "id": "070e6056",
   "metadata": {},
   "source": [
    "This section involves combining all individual DataFrames into one comprehensive DataFrame using the .union() method. We are working now with one dataset : `all_data`"
   ]
  },
  {
   "cell_type": "code",
   "execution_count": 12,
   "id": "aff01a45-1eae-46b5-bbbe-8a86c3db4a5f",
   "metadata": {},
   "outputs": [
    {
     "name": "stderr",
     "output_type": "stream",
     "text": [
      "[Stage 15:>   (0 + 1) / 1][Stage 16:>   (0 + 1) / 1][Stage 17:>   (0 + 0) / 1]1]\r"
     ]
    },
    {
     "name": "stdout",
     "output_type": "stream",
     "text": [
      "+--------------------+-----+--------------------+-----------+-----------------+------------+--------------------+-------+\n",
      "|               title| type|              genres|releaseYear|imdbAverageRating|imdbNumVotes|  availableCountries|Company|\n",
      "+--------------------+-----+--------------------+-----------+-----------------+------------+--------------------+-------+\n",
      "|              8 Mile|Movie|        Drama, Music|       2002|              7.2|    329282.0|AD, AE, AG, AL, A...|Netflix|\n",
      "|         Constantine|Movie|Action, Fantasy, ...|       2005|                7|    382616.0|AD, AT, BE, CH, D...|Netflix|\n",
      "|              Jaws 2|Movie|Adventure, Horror...|       1978|              5.8|     86507.0|                  US|Netflix|\n",
      "|   Life Is Beautiful|Movie|Comedy, Drama, Ro...|       1997|              8.6|    757111.0|              IT, SM|Netflix|\n",
      "|The Pursuit of Ha...|Movie|    Biography, Drama|       2006|                8|    574448.0|AD, AG, AO, AR, B...|Netflix|\n",
      "+--------------------+-----+--------------------+-----------+-----------------+------------+--------------------+-------+\n",
      "only showing top 5 rows\n",
      "\n"
     ]
    },
    {
     "name": "stderr",
     "output_type": "stream",
     "text": [
      "                                                                                \r"
     ]
    }
   ],
   "source": [
    "# Combining all DataFrames into one\n",
    "all_data = Netflix.union(Amazon).union(HBO).union(Hulu).union(AppleTV)\n",
    "\n",
    "all_data.show(5)\n",
    "\n",
    "# Saving the merged DataFrame to a new CSV file named \"MergedCompany.csv\"\n",
    "# all_data.to_csv('MergedCompany.csv', index=False)"
   ]
  },
  {
   "cell_type": "markdown",
   "id": "ea0de363-a0dd-4b1d-b9c6-d1a05b815d67",
   "metadata": {},
   "source": [
    "<a id='1.5'></a>\n",
    "### Preprocessing"
   ]
  },
  {
   "cell_type": "markdown",
   "id": "83ccbd90",
   "metadata": {},
   "source": [
    "##### New column : `NumberofCountries`"
   ]
  },
  {
   "cell_type": "code",
   "execution_count": 13,
   "id": "9b9fdee1-8d3c-44a9-93e2-80f8aa5e23cd",
   "metadata": {},
   "outputs": [
    {
     "name": "stderr",
     "output_type": "stream",
     "text": [
      "[Stage 25:=============================>                            (1 + 1) / 2]\r"
     ]
    },
    {
     "name": "stdout",
     "output_type": "stream",
     "text": [
      "+--------------------+---------+--------------------+-----------+-----------------+------------+-------+-----------------+\n",
      "|               title|     type|              genres|releaseYear|imdbAverageRating|imdbNumVotes|Company|NumberOfCountries|\n",
      "+--------------------+---------+--------------------+-----------+-----------------+------------+-------+-----------------+\n",
      "|              8 Mile|    Movie|        Drama, Music|       2002|              7.2|    329282.0|Netflix|              130|\n",
      "|         Constantine|    Movie|Action, Fantasy, ...|       2005|                7|    382616.0|Netflix|               21|\n",
      "|              Jaws 2|    Movie|Adventure, Horror...|       1978|              5.8|     86507.0|Netflix|                1|\n",
      "|   Life Is Beautiful|    Movie|Comedy, Drama, Ro...|       1997|              8.6|    757111.0|Netflix|                2|\n",
      "|The Pursuit of Ha...|    Movie|    Biography, Drama|       2006|                8|    574448.0|Netflix|               67|\n",
      "|           Halloween|    Movie|              Horror|       2007|                6|    132844.0|Netflix|               42|\n",
      "|              Closer|    Movie|      Drama, Romance|       2004|              7.2|    239623.0|Netflix|              103|\n",
      "|            Maverick|    Movie|Action, Adventure...|       1994|                7|    120932.0|Netflix|                1|\n",
      "|            Top Gear|TV Series|Adventure, Sport,...|       2002|              8.7|    129407.0|Netflix|                1|\n",
      "|           Star Trek|TV Series|Action, Adventure...|       1966|              8.4|     94904.0|Netflix|              122|\n",
      "|           Shameless|TV Series|       Comedy, Drama|       2011|              8.5|    298417.0|Netflix|               24|\n",
      "|                Love|TV Series|Comedy, Drama, Ro...|       2016|              7.6|     46680.0|Netflix|              128|\n",
      "|     The Night Agent|TV Series|Action, Drama, Th...|       2023|              7.5|    116912.0|Netflix|              129|\n",
      "|    Black Money Love|TV Series|Action, Crime, Drama|       2014|              7.5|      7900.0|Netflix|              116|\n",
      "|            Somebody|TV Series|Crime, Drama, Thr...|       2022|                6|      2499.0|Netflix|              129|\n",
      "|        Super Crooks|TV Series|Action, Adventure...|       2021|              7.1|      3462.0|Netflix|              129|\n",
      "|        Our Universe|TV Series|         Documentary|       2022|              7.6|      3122.0|Netflix|              129|\n",
      "|My Neighbors the ...|    Movie|Animation, Comedy...|       1999|              7.1|     16453.0|Netflix|              128|\n",
      "|     Furry Vengeance|    Movie|      Comedy, Family|       2010|              3.9|     18501.0|Netflix|                7|\n",
      "|  Godzilla Minus One|    Movie|Action, Adventure...|       2023|              7.7|    153309.0|Netflix|              128|\n",
      "+--------------------+---------+--------------------+-----------+-----------------+------------+-------+-----------------+\n",
      "only showing top 20 rows\n",
      "\n"
     ]
    },
    {
     "name": "stderr",
     "output_type": "stream",
     "text": [
      "                                                                                \r"
     ]
    }
   ],
   "source": [
    "from pyspark.sql.functions import when, split, size, col\n",
    "\n",
    "# Counting the number of countries\n",
    "all_data = all_data.withColumn(\n",
    "    \"NumberOfCountries\",\n",
    "    when(col(\"availableCountries\").isNotNull(), size(split(col(\"availableCountries\"), \",\"))).otherwise(0)\n",
    ")\n",
    "\n",
    "# Dropping availableCountries which is no longer needed\n",
    "all_data = all_data.drop(\"availableCountries\")\n",
    "all_data.show()\n"
   ]
  },
  {
   "cell_type": "markdown",
   "id": "31fb6404-d6c8-4016-9cb0-e29e25740349",
   "metadata": {},
   "source": [
    "##### New column : `ReleaseYear` & `ReleaseDecade`"
   ]
  },
  {
   "cell_type": "code",
   "execution_count": 14,
   "id": "7e569ccf-f051-4045-81f1-8478e1c2d3b4",
   "metadata": {},
   "outputs": [
    {
     "name": "stdout",
     "output_type": "stream",
     "text": [
      "+--------------------+---------+--------------------+-----------+-----------------+------------+-------+-----------------+\n",
      "|               title|     type|              genres|releaseYear|imdbAverageRating|imdbNumVotes|Company|NumberOfCountries|\n",
      "+--------------------+---------+--------------------+-----------+-----------------+------------+-------+-----------------+\n",
      "|              8 Mile|    Movie|        Drama, Music|       2002|              7.2|    329282.0|Netflix|              130|\n",
      "|         Constantine|    Movie|Action, Fantasy, ...|       2005|                7|    382616.0|Netflix|               21|\n",
      "|              Jaws 2|    Movie|Adventure, Horror...|       1978|              5.8|     86507.0|Netflix|                1|\n",
      "|   Life Is Beautiful|    Movie|Comedy, Drama, Ro...|       1997|              8.6|    757111.0|Netflix|                2|\n",
      "|The Pursuit of Ha...|    Movie|    Biography, Drama|       2006|                8|    574448.0|Netflix|               67|\n",
      "|           Halloween|    Movie|              Horror|       2007|                6|    132844.0|Netflix|               42|\n",
      "|              Closer|    Movie|      Drama, Romance|       2004|              7.2|    239623.0|Netflix|              103|\n",
      "|            Maverick|    Movie|Action, Adventure...|       1994|                7|    120932.0|Netflix|                1|\n",
      "|            Top Gear|TV Series|Adventure, Sport,...|       2002|              8.7|    129407.0|Netflix|                1|\n",
      "|           Star Trek|TV Series|Action, Adventure...|       1966|              8.4|     94904.0|Netflix|              122|\n",
      "|           Shameless|TV Series|       Comedy, Drama|       2011|              8.5|    298417.0|Netflix|               24|\n",
      "|                Love|TV Series|Comedy, Drama, Ro...|       2016|              7.6|     46680.0|Netflix|              128|\n",
      "|     The Night Agent|TV Series|Action, Drama, Th...|       2023|              7.5|    116912.0|Netflix|              129|\n",
      "|    Black Money Love|TV Series|Action, Crime, Drama|       2014|              7.5|      7900.0|Netflix|              116|\n",
      "|            Somebody|TV Series|Crime, Drama, Thr...|       2022|                6|      2499.0|Netflix|              129|\n",
      "|        Super Crooks|TV Series|Action, Adventure...|       2021|              7.1|      3462.0|Netflix|              129|\n",
      "|        Our Universe|TV Series|         Documentary|       2022|              7.6|      3122.0|Netflix|              129|\n",
      "|My Neighbors the ...|    Movie|Animation, Comedy...|       1999|              7.1|     16453.0|Netflix|              128|\n",
      "|     Furry Vengeance|    Movie|      Comedy, Family|       2010|              3.9|     18501.0|Netflix|                7|\n",
      "|  Godzilla Minus One|    Movie|Action, Adventure...|       2023|              7.7|    153309.0|Netflix|              128|\n",
      "+--------------------+---------+--------------------+-----------+-----------------+------------+-------+-----------------+\n",
      "only showing top 20 rows\n",
      "\n"
     ]
    }
   ],
   "source": [
    "from pyspark.sql.functions import to_date, year, col\n",
    "\n",
    "# Converting releaseYear to date format\n",
    "all_data = all_data.withColumn(\n",
    "    \"releaseYear\", \n",
    "    when(col(\"releaseYear\").isNotNull(), year(to_date(col(\"releaseYear\").cast(\"string\"), \"yyyy\"))).cast(\"int\")\n",
    ")\n",
    "\n",
    "all_data.show()"
   ]
  },
  {
   "cell_type": "code",
   "execution_count": 15,
   "id": "f6d983db",
   "metadata": {},
   "outputs": [
    {
     "name": "stdout",
     "output_type": "stream",
     "text": [
      "+-----------+-------------+\n",
      "|releaseYear|releaseDecade|\n",
      "+-----------+-------------+\n",
      "|       2002|        2000s|\n",
      "|       2005|        2000s|\n",
      "|       1978|        1970s|\n",
      "|       1997|        1990s|\n",
      "|       2006|        2000s|\n",
      "|       2007|        2000s|\n",
      "|       2004|        2000s|\n",
      "|       1994|        1990s|\n",
      "|       2002|        2000s|\n",
      "|       1966|        1960s|\n",
      "|       2011|        2010s|\n",
      "|       2016|        2010s|\n",
      "|       2023|        2020s|\n",
      "|       2014|        2010s|\n",
      "|       2022|        2020s|\n",
      "|       2021|        2020s|\n",
      "|       2022|        2020s|\n",
      "|       1999|        1990s|\n",
      "|       2010|        2010s|\n",
      "|       2023|        2020s|\n",
      "+-----------+-------------+\n",
      "only showing top 20 rows\n",
      "\n"
     ]
    }
   ],
   "source": [
    "from pyspark.sql.functions import floor, col, concat, lit\n",
    "\n",
    "# Bucketing the releaseYear into decades\n",
    "all_data = all_data.withColumn(\n",
    "    \"releaseDecade\", \n",
    "    concat((floor(col(\"releaseYear\") / 10) * 10).cast(\"string\"), lit(\"s\"))\n",
    ")\n",
    "\n",
    "all_data.select(\"releaseYear\", \"releaseDecade\").show()"
   ]
  },
  {
   "cell_type": "markdown",
   "id": "2ce1bdbf-386a-4333-9af9-b1c25a84e0a8",
   "metadata": {},
   "source": [
    "##### Genre Cleaning (dividing into extra genres, NEG)"
   ]
  },
  {
   "cell_type": "markdown",
   "id": "ad20d298",
   "metadata": {},
   "source": [
    "To better analyze genre data, this section splits the 'genres' column into separate columns (e.g., 'genre1', 'genre2', 'genre3'). Any null values in these new columns are replaced with 'NEG' to indicate no genre classification, allowing the model to handle missing information effectively."
   ]
  },
  {
   "cell_type": "code",
   "execution_count": 16,
   "id": "fc141f7a-319a-4f52-a754-37d5ce259c0d",
   "metadata": {},
   "outputs": [
    {
     "name": "stdout",
     "output_type": "stream",
     "text": [
      "+--------------------+---------+-----------+-----------------+------------+-------+-----------------+-------------+-----------+----------+----------+\n",
      "|               title|     type|releaseYear|imdbAverageRating|imdbNumVotes|Company|NumberOfCountries|releaseDecade|     genre1|    genre2|    genre3|\n",
      "+--------------------+---------+-----------+-----------------+------------+-------+-----------------+-------------+-----------+----------+----------+\n",
      "|              8 Mile|    Movie|       2002|              7.2|    329282.0|Netflix|              130|        2000s|      Drama|     Music|       NEG|\n",
      "|         Constantine|    Movie|       2005|                7|    382616.0|Netflix|               21|        2000s|     Action|   Fantasy|    Horror|\n",
      "|              Jaws 2|    Movie|       1978|              5.8|     86507.0|Netflix|                1|        1970s|  Adventure|    Horror|  Thriller|\n",
      "|   Life Is Beautiful|    Movie|       1997|              8.6|    757111.0|Netflix|                2|        1990s|     Comedy|     Drama|   Romance|\n",
      "|The Pursuit of Ha...|    Movie|       2006|                8|    574448.0|Netflix|               67|        2000s|  Biography|     Drama|       NEG|\n",
      "|           Halloween|    Movie|       2007|                6|    132844.0|Netflix|               42|        2000s|     Horror|       NEG|       NEG|\n",
      "|              Closer|    Movie|       2004|              7.2|    239623.0|Netflix|              103|        2000s|      Drama|   Romance|       NEG|\n",
      "|            Maverick|    Movie|       1994|                7|    120932.0|Netflix|                1|        1990s|     Action| Adventure|    Comedy|\n",
      "|            Top Gear|TV Series|       2002|              8.7|    129407.0|Netflix|                1|        2000s|  Adventure|     Sport| Talk-Show|\n",
      "|           Star Trek|TV Series|       1966|              8.4|     94904.0|Netflix|              122|        1960s|     Action| Adventure|    Sci-Fi|\n",
      "|           Shameless|TV Series|       2011|              8.5|    298417.0|Netflix|               24|        2010s|     Comedy|     Drama|       NEG|\n",
      "|                Love|TV Series|       2016|              7.6|     46680.0|Netflix|              128|        2010s|     Comedy|     Drama|   Romance|\n",
      "|     The Night Agent|TV Series|       2023|              7.5|    116912.0|Netflix|              129|        2020s|     Action|     Drama|  Thriller|\n",
      "|    Black Money Love|TV Series|       2014|              7.5|      7900.0|Netflix|              116|        2010s|     Action|     Crime|     Drama|\n",
      "|            Somebody|TV Series|       2022|                6|      2499.0|Netflix|              129|        2020s|      Crime|     Drama|  Thriller|\n",
      "|        Super Crooks|TV Series|       2021|              7.1|      3462.0|Netflix|              129|        2020s|     Action| Adventure| Animation|\n",
      "|        Our Universe|TV Series|       2022|              7.6|      3122.0|Netflix|              129|        2020s|Documentary|       NEG|       NEG|\n",
      "|My Neighbors the ...|    Movie|       1999|              7.1|     16453.0|Netflix|              128|        1990s|  Animation|    Comedy|    Family|\n",
      "|     Furry Vengeance|    Movie|       2010|              3.9|     18501.0|Netflix|                7|        2010s|     Comedy|    Family|       NEG|\n",
      "|  Godzilla Minus One|    Movie|       2023|              7.7|    153309.0|Netflix|              128|        2020s|     Action| Adventure|     Drama|\n",
      "+--------------------+---------+-----------+-----------------+------------+-------+-----------------+-------------+-----------+----------+----------+\n",
      "only showing top 20 rows\n",
      "\n",
      "Rows where genre3 has more than one genre:\n",
      "+-----+----+-----------+-----------------+------------+-------+-----------------+-------------+------+------+------+\n",
      "|title|type|releaseYear|imdbAverageRating|imdbNumVotes|Company|NumberOfCountries|releaseDecade|genre1|genre2|genre3|\n",
      "+-----+----+-----------+-----------------+------------+-------+-----------------+-------------+------+------+------+\n",
      "+-----+----+-----------+-----------------+------------+-------+-----------------+-------------+------+------+------+\n",
      "\n"
     ]
    }
   ],
   "source": [
    "from pyspark.sql.functions import col\n",
    "\n",
    "# Splitting the genres column into genre1, genre2, and genre3\n",
    "all_data = all_data.withColumn(\"genre1\", split(col(\"genres\"), \",\").getItem(0)) \\\n",
    "                   .withColumn(\"genre2\", split(col(\"genres\"), \",\").getItem(1)) \\\n",
    "                   .withColumn(\"genre3\", split(col(\"genres\"), \",\").getItem(2))\n",
    "\n",
    "# Dropping the original genres column as it is no longer needed\n",
    "all_data = all_data.drop(\"genres\")\n",
    "\n",
    "# Replacing null values in the new columns with 'NEG' - No Extra Genre\n",
    "all_data = all_data.fillna({\"genre1\": \"NEG\", \"genre2\": \"NEG\", \"genre3\": \"NEG\"})\n",
    "\n",
    "all_data.show()\n",
    "\n",
    "#Checking for errors in genre 3, if the original genre column had more than 3 genres, we would need more genre columns\n",
    "\n",
    "# Filtering rows where genre3 has more than one genre\n",
    "rows_with_multi_genre_in_genre3 = all_data.filter(col(\"genre3\").contains(\",\"))\n",
    "\n",
    "print(\"Rows where genre3 has more than one genre:\")\n",
    "rows_with_multi_genre_in_genre3.show()"
   ]
  },
  {
   "cell_type": "markdown",
   "id": "3def0662",
   "metadata": {},
   "source": [
    "##### OHE Column `type`"
   ]
  },
  {
   "cell_type": "markdown",
   "id": "7a5861fd",
   "metadata": {},
   "source": [
    "This section encodes the 'type' column, transforming categorical data into numerical data by mapping 'Movie' as 1 and 'TV Series' as 0. This step is essential for any subsequent machine learning models requiring numerical inputs."
   ]
  },
  {
   "cell_type": "code",
   "execution_count": 17,
   "id": "b3c13977",
   "metadata": {},
   "outputs": [
    {
     "name": "stdout",
     "output_type": "stream",
     "text": [
      "Number of different types:\n",
      "+-------------+-----+\n",
      "|         type|count|\n",
      "+-------------+-----+\n",
      "| \"\" Princess\"|    3|\n",
      "|    TV Series|23299|\n",
      "|        Movie|66243|\n",
      "+-------------+-----+\n",
      "\n"
     ]
    }
   ],
   "source": [
    "from pyspark.sql import functions as F\n",
    "\n",
    "# Counting the number of occurrences of each unique type\n",
    "type_counts = all_data.groupBy(\"type\").count()\n",
    "print(\"Number of different types:\")\n",
    "type_counts.show()"
   ]
  },
  {
   "cell_type": "code",
   "execution_count": 18,
   "id": "8ddcb12c",
   "metadata": {},
   "outputs": [
    {
     "name": "stdout",
     "output_type": "stream",
     "text": [
      "+--------------------+----+-----------+-----------------+------------+-------+-----------------+-------------+-----------+----------+----------+\n",
      "|               title|type|releaseYear|imdbAverageRating|imdbNumVotes|Company|NumberOfCountries|releaseDecade|     genre1|    genre2|    genre3|\n",
      "+--------------------+----+-----------+-----------------+------------+-------+-----------------+-------------+-----------+----------+----------+\n",
      "|              8 Mile|   1|       2002|              7.2|    329282.0|Netflix|              130|        2000s|      Drama|     Music|       NEG|\n",
      "|         Constantine|   1|       2005|                7|    382616.0|Netflix|               21|        2000s|     Action|   Fantasy|    Horror|\n",
      "|              Jaws 2|   1|       1978|              5.8|     86507.0|Netflix|                1|        1970s|  Adventure|    Horror|  Thriller|\n",
      "|   Life Is Beautiful|   1|       1997|              8.6|    757111.0|Netflix|                2|        1990s|     Comedy|     Drama|   Romance|\n",
      "|The Pursuit of Ha...|   1|       2006|                8|    574448.0|Netflix|               67|        2000s|  Biography|     Drama|       NEG|\n",
      "|           Halloween|   1|       2007|                6|    132844.0|Netflix|               42|        2000s|     Horror|       NEG|       NEG|\n",
      "|              Closer|   1|       2004|              7.2|    239623.0|Netflix|              103|        2000s|      Drama|   Romance|       NEG|\n",
      "|            Maverick|   1|       1994|                7|    120932.0|Netflix|                1|        1990s|     Action| Adventure|    Comedy|\n",
      "|            Top Gear|   0|       2002|              8.7|    129407.0|Netflix|                1|        2000s|  Adventure|     Sport| Talk-Show|\n",
      "|           Star Trek|   0|       1966|              8.4|     94904.0|Netflix|              122|        1960s|     Action| Adventure|    Sci-Fi|\n",
      "|           Shameless|   0|       2011|              8.5|    298417.0|Netflix|               24|        2010s|     Comedy|     Drama|       NEG|\n",
      "|                Love|   0|       2016|              7.6|     46680.0|Netflix|              128|        2010s|     Comedy|     Drama|   Romance|\n",
      "|     The Night Agent|   0|       2023|              7.5|    116912.0|Netflix|              129|        2020s|     Action|     Drama|  Thriller|\n",
      "|    Black Money Love|   0|       2014|              7.5|      7900.0|Netflix|              116|        2010s|     Action|     Crime|     Drama|\n",
      "|            Somebody|   0|       2022|                6|      2499.0|Netflix|              129|        2020s|      Crime|     Drama|  Thriller|\n",
      "|        Super Crooks|   0|       2021|              7.1|      3462.0|Netflix|              129|        2020s|     Action| Adventure| Animation|\n",
      "|        Our Universe|   0|       2022|              7.6|      3122.0|Netflix|              129|        2020s|Documentary|       NEG|       NEG|\n",
      "|My Neighbors the ...|   1|       1999|              7.1|     16453.0|Netflix|              128|        1990s|  Animation|    Comedy|    Family|\n",
      "|     Furry Vengeance|   1|       2010|              3.9|     18501.0|Netflix|                7|        2010s|     Comedy|    Family|       NEG|\n",
      "|  Godzilla Minus One|   1|       2023|              7.7|    153309.0|Netflix|              128|        2020s|     Action| Adventure|     Drama|\n",
      "+--------------------+----+-----------+-----------------+------------+-------+-----------------+-------------+-----------+----------+----------+\n",
      "only showing top 20 rows\n",
      "\n"
     ]
    }
   ],
   "source": [
    "# Encoding the 'type' column: Movie = 1, TV Series = 0\n",
    "all_data = all_data.withColumn(\"type\", when(col(\"type\") == \"Movie\", 1).otherwise(0))\n",
    "all_data.show()"
   ]
  },
  {
   "cell_type": "markdown",
   "id": "46983edc-3db6-4e9b-a888-063127449b96",
   "metadata": {},
   "source": [
    "<a id='1.6'></a>\n",
    "### Handling Null Values"
   ]
  },
  {
   "cell_type": "markdown",
   "id": "cf83b31c",
   "metadata": {},
   "source": [
    "Handling missing data is crucial for accurate analysis. This part checks for null values in the merged dataset and identifies nulls within each streaming platform's data. Understanding where nulls exist helps inform decisions about data cleaning strategies."
   ]
  },
  {
   "cell_type": "code",
   "execution_count": 19,
   "id": "ea091a2e",
   "metadata": {},
   "outputs": [
    {
     "name": "stdout",
     "output_type": "stream",
     "text": [
      "+-----+----+-----------+-----------------+------------+-------+-----------------+-------------+------+------+------+\n",
      "|title|type|releaseYear|imdbAverageRating|imdbNumVotes|Company|NumberOfCountries|releaseDecade|genre1|genre2|genre3|\n",
      "+-----+----+-----------+-----------------+------------+-------+-----------------+-------------+------+------+------+\n",
      "| 2728|   0|        153|             5077|        5077|      0|                0|          153|     0|     0|     0|\n",
      "+-----+----+-----------+-----------------+------------+-------+-----------------+-------------+------+------+------+\n",
      "\n",
      "+-----+----+-----------+-----------------+------------+-------+-----------------+-------------+------+------+------+\n",
      "|title|type|releaseYear|imdbAverageRating|imdbNumVotes|Company|NumberOfCountries|releaseDecade|genre1|genre2|genre3|\n",
      "+-----+----+-----------+-----------------+------------+-------+-----------------+-------------+------+------+------+\n",
      "|  325|   0|         14|              817|         817|      0|                0|           14|     0|     0|     0|\n",
      "+-----+----+-----------+-----------------+------------+-------+-----------------+-------------+------+------+------+\n",
      "\n",
      "Number of rows in AppleTV data: 13464\n",
      "Null values in Hulu data:\n",
      "+-----+----+-----------+-----------------+------------+-------+-----------------+-------------+------+------+------+\n",
      "|title|type|releaseYear|imdbAverageRating|imdbNumVotes|Company|NumberOfCountries|releaseDecade|genre1|genre2|genre3|\n",
      "+-----+----+-----------+-----------------+------------+-------+-----------------+-------------+------+------+------+\n",
      "|  291|   0|          7|              485|         485|      0|                0|            7|     0|     0|     0|\n",
      "+-----+----+-----------+-----------------+------------+-------+-----------------+-------------+------+------+------+\n",
      "\n",
      "Number of rows in Hulu data: 7506\n",
      "Null values in Netflix data:\n",
      "+-----+----+-----------+-----------------+------------+-------+-----------------+-------------+------+------+------+\n",
      "|title|type|releaseYear|imdbAverageRating|imdbNumVotes|Company|NumberOfCountries|releaseDecade|genre1|genre2|genre3|\n",
      "+-----+----+-----------+-----------------+------------+-------+-----------------+-------------+------+------+------+\n",
      "|  420|   0|         13|              553|         553|      0|                0|           13|     0|     0|     0|\n",
      "+-----+----+-----------+-----------------+------------+-------+-----------------+-------------+------+------+------+\n",
      "\n",
      "Number of rows in Netflix data: 14201\n",
      "Null values in Amazon data:\n",
      "+-----+----+-----------+-----------------+------------+-------+-----------------+-------------+------+------+------+\n",
      "|title|type|releaseYear|imdbAverageRating|imdbNumVotes|Company|NumberOfCountries|releaseDecade|genre1|genre2|genre3|\n",
      "+-----+----+-----------+-----------------+------------+-------+-----------------+-------------+------+------+------+\n",
      "| 1209|   0|        101|             2650|        2650|      0|                0|          101|     0|     0|     0|\n",
      "+-----+----+-----------+-----------------+------------+-------+-----------------+-------------+------+------+------+\n",
      "\n",
      "Number of rows in Amazon data: 46873\n",
      "Null values in HBO data:\n",
      "+-----+----+-----------+-----------------+------------+-------+-----------------+-------------+------+------+------+\n",
      "|title|type|releaseYear|imdbAverageRating|imdbNumVotes|Company|NumberOfCountries|releaseDecade|genre1|genre2|genre3|\n",
      "+-----+----+-----------+-----------------+------------+-------+-----------------+-------------+------+------+------+\n",
      "|  483|   0|         18|              572|         572|      0|                0|           18|     0|     0|     0|\n",
      "+-----+----+-----------+-----------------+------------+-------+-----------------+-------------+------+------+------+\n",
      "\n",
      "Number of rows in HBO data: 7501\n",
      "Number of rows in AppleTV data where title, imdbAverageRating, and imdbNumVotes are all null: 325\n"
     ]
    }
   ],
   "source": [
    "from pyspark.sql.functions import col, sum\n",
    "\n",
    "# Checking for null values in each column in the merged DataFrame\n",
    "null_counts = all_data.select([(sum(col(c).isNull().cast(\"int\")).alias(c)) for c in all_data.columns])\n",
    "null_counts.show()\n",
    "\n",
    "# In the section below, we analyze the null values for each company to check if there is any unbalance \n",
    "# Finding null values for AppleTV\n",
    "apple_tv_nulls = all_data.filter(all_data.Company == 'AppleTV').select(\n",
    "    [(sum(col(c).isNull().cast(\"int\")).alias(c)) for c in all_data.columns]\n",
    ")\n",
    "apple_tv_nulls.show()\n",
    "\n",
    "# Counting rows in AppleTV data\n",
    "num_rows_apple_tv = all_data.filter(all_data.Company == 'AppleTV').count()\n",
    "print(\"Number of rows in AppleTV data:\", num_rows_apple_tv)\n",
    "\n",
    "from pyspark.sql.functions import col, sum\n",
    "\n",
    "# Finding null values for Hulu\n",
    "Hulu_nulls = all_data.filter(all_data.Company == 'Hulu').select(\n",
    "    [(sum(col(c).isNull().cast(\"int\")).alias(c)) for c in all_data.columns]\n",
    ")\n",
    "print(\"Null values in Hulu data:\")\n",
    "Hulu_nulls.show()\n",
    "\n",
    "# Counting rows in Hulu data\n",
    "num_rows_Hulu = all_data.filter(all_data.Company == 'Hulu').count()\n",
    "print(\"Number of rows in Hulu data:\", num_rows_Hulu)\n",
    "\n",
    "# Finding null values for Netflix\n",
    "Netflix_nulls = all_data.filter(all_data.Company == 'Netflix').select(\n",
    "    [(sum(col(c).isNull().cast(\"int\")).alias(c)) for c in all_data.columns]\n",
    ")\n",
    "print(\"Null values in Netflix data:\")\n",
    "Netflix_nulls.show()\n",
    "\n",
    "# Counting rows in Netflix data\n",
    "num_rows_Netflix = all_data.filter(all_data.Company == 'Netflix').count()\n",
    "print(\"Number of rows in Netflix data:\", num_rows_Netflix)\n",
    "\n",
    "from pyspark.sql.functions import col, sum\n",
    "\n",
    "# Finding null values for Amazon\n",
    "Amazon_nulls = all_data.filter(all_data.Company == 'Amazon').select(\n",
    "    [(sum(col(c).isNull().cast(\"int\")).alias(c)) for c in all_data.columns]\n",
    ")\n",
    "print(\"Null values in Amazon data:\")\n",
    "Amazon_nulls.show()\n",
    "\n",
    "# Counting rows in Amazon data\n",
    "num_rows_Amazon = all_data.filter(all_data.Company == 'Amazon').count()\n",
    "print(\"Number of rows in Amazon data:\", num_rows_Amazon)\n",
    "\n",
    "# Finding null values for HBO\n",
    "HBO_nulls = all_data.filter(all_data.Company == 'HBO').select(\n",
    "    [(sum(col(c).isNull().cast(\"int\")).alias(c)) for c in all_data.columns]\n",
    ")\n",
    "print(\"Null values in HBO data:\")\n",
    "HBO_nulls.show()\n",
    "\n",
    "# Counting rows in HBO data\n",
    "num_rows_HBO = all_data.filter(all_data.Company == 'HBO').count()\n",
    "print(\"Number of rows in HBO data:\", num_rows_HBO)\n",
    "\n",
    "\n",
    "# Filtering AppleTV data and count rows where all three columns are null\n",
    "all_three_null = all_data.filter(\n",
    "    (col(\"Company\") == \"AppleTV\") & \n",
    "    col(\"title\").isNull() & \n",
    "    col(\"imdbAverageRating\").isNull() & \n",
    "    col(\"imdbNumVotes\").isNull()\n",
    ").count()\n",
    "\n",
    "print(\"Number of rows in AppleTV data where title, imdbAverageRating, and imdbNumVotes are all null:\", all_three_null)"
   ]
  },
  {
   "cell_type": "markdown",
   "id": "49264880-8e84-45c5-a748-3f2aaa480ea1",
   "metadata": {},
   "source": [
    "<a id='1.7'></a>\n",
    "### Dropping Null Values"
   ]
  },
  {
   "cell_type": "code",
   "execution_count": 20,
   "id": "2a496ff9-5fe6-4257-bea9-dc7dfa1c4a2a",
   "metadata": {},
   "outputs": [
    {
     "name": "stdout",
     "output_type": "stream",
     "text": [
      "Null values in each numeric column:\n"
     ]
    },
    {
     "name": "stderr",
     "output_type": "stream",
     "text": [
      "[Stage 189:>                                                        (0 + 1) / 1]\r"
     ]
    },
    {
     "name": "stdout",
     "output_type": "stream",
     "text": [
      "+-----+----+-----------+-----------------+------------+-------+-----------------+-------------+------+------+------+\n",
      "|title|type|releaseYear|imdbAverageRating|imdbNumVotes|Company|NumberOfCountries|releaseDecade|genre1|genre2|genre3|\n",
      "+-----+----+-----------+-----------------+------------+-------+-----------------+-------------+------+------+------+\n",
      "|    0|   0|          0|                0|           0|      0|                0|            0|     0|     0|     0|\n",
      "+-----+----+-----------+-----------------+------------+-------+-----------------+-------------+------+------+------+\n",
      "\n"
     ]
    },
    {
     "name": "stderr",
     "output_type": "stream",
     "text": [
      "                                                                                \r"
     ]
    }
   ],
   "source": [
    "from pyspark.sql.functions import col, sum\n",
    "\n",
    "all_data = all_data.dropna(subset=['title', 'genre1', 'genre2', 'genre3', 'releaseYear', 'imdbAverageRating', 'imdbNumVotes'])\n",
    "null_counts = all_data.select([(sum(col(c).isNull().cast(\"int\")).alias(c)) for c in all_data.columns])\n",
    "print(\"Null values in each numeric column:\")\n",
    "null_counts.show()"
   ]
  },
  {
   "cell_type": "markdown",
   "id": "00d04e5f-c79d-46fe-a428-20373deb8a7b",
   "metadata": {
    "jp-MarkdownHeadingCollapsed": true
   },
   "source": [
    "<a id='2'></a>\n",
    "## ⁠Explanatory Data Analysis"
   ]
  },
  {
   "cell_type": "markdown",
   "id": "7d1145ae",
   "metadata": {},
   "source": [
    "##### 1. Distribution of IMDb Average Ratings (2000-2024)"
   ]
  },
  {
   "cell_type": "markdown",
   "id": "dfa3a79f",
   "metadata": {},
   "source": [
    "This section visualizes the distribution of IMDb ratings for content released between 2000 and 2024. The histogram helps identify the most common rating range and highlight any skewness or outliers in the data. Insights from this analysis can guide understanding of audience reception trends over time and the consistency of rating quality across different years.\n",
    "\n",
    "The chart indicates a steady increase in the average IMDb rating of movies over time, with a notable improvement starting around 2015. This suggests that the quality of movies, as perceived by viewers, has generally improved over the years, particularly in recent years\n",
    "\n",
    "Platforms should consider investing in more recent, high-quality productions that align with the upward trend in ratings. This could mean focusing on newer releases that are already receiving positive feedback or working with production studios that have consistently delivered high-rated content. "
   ]
  },
  {
   "cell_type": "code",
   "execution_count": 21,
   "id": "b0115c11-7ca7-444a-8fbb-222981c68528",
   "metadata": {},
   "outputs": [
    {
     "name": "stderr",
     "output_type": "stream",
     "text": [
      "                                                                                \r"
     ]
    },
    {
     "data": {
      "text/plain": [
       "<Figure size 1200x600 with 0 Axes>"
      ]
     },
     "execution_count": 21,
     "metadata": {},
     "output_type": "execute_result"
    },
    {
     "data": {
      "text/plain": [
       "<BarContainer object of 25 artists>"
      ]
     },
     "execution_count": 21,
     "metadata": {},
     "output_type": "execute_result"
    },
    {
     "data": {
      "text/plain": [
       "Text(0.5, 0, 'Release Year')"
      ]
     },
     "execution_count": 21,
     "metadata": {},
     "output_type": "execute_result"
    },
    {
     "data": {
      "text/plain": [
       "Text(0, 0.5, 'Average IMDb Rating')"
      ]
     },
     "execution_count": 21,
     "metadata": {},
     "output_type": "execute_result"
    },
    {
     "data": {
      "text/plain": [
       "Text(0.5, 1.0, 'Average IMDb Rating per Year (2000 – 2024)')"
      ]
     },
     "execution_count": 21,
     "metadata": {},
     "output_type": "execute_result"
    },
    {
     "data": {
      "text/plain": [
       "(5.0, 10.0)"
      ]
     },
     "execution_count": 21,
     "metadata": {},
     "output_type": "execute_result"
    },
    {
     "data": {
      "text/plain": [
       "(array([1995., 2000., 2005., 2010., 2015., 2020., 2025., 2030.]),\n",
       " [Text(1995.0, 0, '1995'),\n",
       "  Text(2000.0, 0, '2000'),\n",
       "  Text(2005.0, 0, '2005'),\n",
       "  Text(2010.0, 0, '2010'),\n",
       "  Text(2015.0, 0, '2015'),\n",
       "  Text(2020.0, 0, '2020'),\n",
       "  Text(2025.0, 0, '2025'),\n",
       "  Text(2030.0, 0, '2030')])"
      ]
     },
     "execution_count": 21,
     "metadata": {},
     "output_type": "execute_result"
    },
    {
     "data": {
      "image/png": "[encoded data removed]",
      "text/plain": [
       "<Figure size 1200x600 with 1 Axes>"
      ]
     },
     "metadata": {},
     "output_type": "display_data"
    }
   ],
   "source": [
    "import matplotlib.pyplot as plt\n",
    "from pyspark.sql.functions import col, avg\n",
    "\n",
    "# Filter and aggregate data in PySpark\n",
    "filtered_data = all_data.filter((col(\"releaseYear\") >= 2000) & (col(\"releaseYear\") <= 2024)) \\\n",
    "                        .groupBy(\"releaseYear\") \\\n",
    "                        .agg(avg(\"imdbAverageRating\").alias(\"averageIMDbRating\")) \\\n",
    "                        .orderBy(\"releaseYear\")\n",
    "\n",
    "# Convert to pandas for plotting\n",
    "filtered_data_pd = filtered_data.toPandas()\n",
    "\n",
    "# Plotting with matplotlib\n",
    "plt.figure(figsize=(12, 6))\n",
    "plt.bar(filtered_data_pd['releaseYear'], filtered_data_pd['averageIMDbRating'], width=0.8)\n",
    "\n",
    "# Customizing the plot\n",
    "plt.xlabel('Release Year')\n",
    "plt.ylabel('Average IMDb Rating')\n",
    "plt.title('Average IMDb Rating per Year (2000 – 2024)')\n",
    "plt.ylim(5, 10)  # Set y-axis limit to 10\n",
    "plt.xticks(rotation=90)\n",
    "plt.tight_layout()\n",
    "plt.show()"
   ]
  },
  {
   "cell_type": "markdown",
   "id": "85fcc683-4bbd-4075-b46e-ed1d5c1a70be",
   "metadata": {},
   "source": [
    "##### 2. Unique Genres Analysis"
   ]
  },
  {
   "cell_type": "markdown",
   "id": "0ff1d72c",
   "metadata": {},
   "source": [
    "The total number of unique genres can indicate the extent of genre coverage and niche content that platforms may cater to. This data helps identify content gaps or areas for potential expansion.\n",
    "\n",
    "The analysis identified 32 unique genres within the dataset. This diversity of genres highlights the range of content that platforms currently offer, from popular genres like Drama and Comedy to niche categories such as Game-Show and Biography. The variety suggests that platforms aim to cater to a broad audience with varied preferences.\n",
    "\n",
    "Platforms should evaluate which of these genres attract the highest engagement and ratings. Investing in underrepresented but emerging genres could help capture niche audiences and create differentiation from competitors."
   ]
  },
  {
   "cell_type": "code",
   "execution_count": 22,
   "id": "1a3ea546-677a-4bde-a0c9-e921d06f117d",
   "metadata": {},
   "outputs": [
    {
     "name": "stdout",
     "output_type": "stream",
     "text": [
      "Unique genres in genre1:\n"
     ]
    },
    {
     "name": "stderr",
     "output_type": "stream",
     "text": [
      "[Stage 266:>                (0 + 1) / 1][Stage 267:>                (0 + 1) / 1]\r"
     ]
    },
    {
     "name": "stdout",
     "output_type": "stream",
     "text": [
      "+-----------+\n",
      "|     genre1|\n",
      "+-----------+\n",
      "|      Crime|\n",
      "|    Romance|\n",
      "|   Thriller|\n",
      "|  Adventure|\n",
      "|      Drama|\n",
      "|        War|\n",
      "|Documentary|\n",
      "| Reality-TV|\n",
      "|     Family|\n",
      "|  Game-Show|\n",
      "|    Fantasy|\n",
      "|    History|\n",
      "|    Mystery|\n",
      "|    Musical|\n",
      "|  Animation|\n",
      "|      Music|\n",
      "|     Horror|\n",
      "|    Western|\n",
      "|  Biography|\n",
      "|     Comedy|\n",
      "+-----------+\n",
      "only showing top 20 rows\n",
      "\n",
      "Total number of unique genres in genre1: 32\n"
     ]
    },
    {
     "name": "stderr",
     "output_type": "stream",
     "text": [
      "                                                                                \r"
     ]
    }
   ],
   "source": [
    "# Get unique genres in genre1\n",
    "unique_genres_genre1 = all_data.select(\"genre1\").distinct()\n",
    "\n",
    "# Count the number of unique genres in genre1\n",
    "num_unique_genres_genre1 = unique_genres_genre1.count()\n",
    "\n",
    "# Show the unique genres\n",
    "print(\"Unique genres in genre1:\")\n",
    "unique_genres_genre1.show()\n",
    "\n",
    "# Print the total count of unique genres\n",
    "print(\"Total number of unique genres in genre1:\", num_unique_genres_genre1)\n"
   ]
  },
  {
   "cell_type": "markdown",
   "id": "5f3ccaf8",
   "metadata": {},
   "source": [
    "##### 3. Genre Occurence visualization"
   ]
  },
  {
   "cell_type": "markdown",
   "id": "d00c9401",
   "metadata": {},
   "source": [
    " By analyzing which genres are most and least represented, platforms can strategize on content curation and understand user preferences. It can also be a basis for recommendations for increasing investment in popular or emerging genres.\n",
    "\n",
    "The pie chart shows the distribution of main genres in the dataset. The most represented genres are Comedy and Drama, each making up approximately 21.3% of the total content. Action follows at 18.4%, indicating that these genres dominate the offerings across platforms. On the other hand, genres like Documentary, Animation, Biography, and Horror have smaller shares, indicating more niche content.\n",
    "\n",
    "Platforms should consider investing in genres like Comedy, Drama, and Action, as these are proven to attract a large audience base. However, focusing on underrepresented genres such as Documentaries and Animations could appeal to specialized audiences and differentiate the platform."
   ]
  },
  {
   "cell_type": "code",
   "execution_count": 23,
   "id": "45c721a4-7f3c-4760-8814-edd627f2e432",
   "metadata": {},
   "outputs": [
    {
     "name": "stderr",
     "output_type": "stream",
     "text": [
      "/tmp/ipykernel_2554/646646397.py:13: SettingWithCopyWarning: \n",
      "A value is trying to be set on a copy of a slice from a DataFrame\n",
      "\n",
      "See the caveats in the documentation: https://pandas.pydata.org/pandas-docs/stable/user_guide/indexing.html#returning-a-view-versus-a-copy\n",
      "  genre1_counts_modified.loc['Others'] = genre1_counts_pd[genre1_counts_pd['count'] < threshold].sum()\n"
     ]
    },
    {
     "data": {
      "text/plain": [
       "<Figure size 1000x800 with 0 Axes>"
      ]
     },
     "execution_count": 23,
     "metadata": {},
     "output_type": "execute_result"
    },
    {
     "data": {
      "text/plain": [
       "([<matplotlib.patches.Wedge at 0xffff43a525d0>,\n",
       "  <matplotlib.patches.Wedge at 0xffff41093750>,\n",
       "  <matplotlib.patches.Wedge at 0xffff410a0fd0>,\n",
       "  <matplotlib.patches.Wedge at 0xffff410a0510>,\n",
       "  <matplotlib.patches.Wedge at 0xffff410a3c50>,\n",
       "  <matplotlib.patches.Wedge at 0xffff410ad650>,\n",
       "  <matplotlib.patches.Wedge at 0xffff410aec10>,\n",
       "  <matplotlib.patches.Wedge at 0xffff410bc350>,\n",
       "  <matplotlib.patches.Wedge at 0xffff410bdf10>,\n",
       "  <matplotlib.patches.Wedge at 0xffff410ad450>],\n",
       " [Text(-0.9900236670439533, 0.479430014384627, 'Crime'),\n",
       "  Text(-1.099768169288616, 0.022582599929282608, 'Adventure'),\n",
       "  Text(-0.7420437487317681, -0.8120166716072427, 'Drama'),\n",
       "  Text(0.15027411068314137, -1.089686969573552, 'Documentary'),\n",
       "  Text(0.47856452050428333, -0.990442325284267, 'Animation'),\n",
       "  Text(0.6998162833877014, -0.8486796624789736, 'Horror'),\n",
       "  Text(0.8942036050058044, -0.6406246270591096, 'Biography'),\n",
       "  Text(1.0841683409724931, 0.1859543181347293, 'Comedy'),\n",
       "  Text(0.17095645229663323, 1.086634203132843, 'Action'),\n",
       "  Text(-0.6627886331424138, 0.8779016048380428, 'Others')],\n",
       " [Text(-0.5400129092967018, 0.2615072805734329, '7.9%'),\n",
       "  Text(-0.5998735468846996, 0.012317781779608695, '5.8%'),\n",
       "  Text(-0.40475113567187354, -0.4429181845130414, '21.3%'),\n",
       "  Text(0.08196769673625891, -0.5943747106764828, '6.7%'),\n",
       "  Text(0.26103519300233635, -0.5402412683368728, '3.3%'),\n",
       "  Text(0.381717972756928, -0.46291617953398556, '4.3%'),\n",
       "  Text(0.4877474209122569, -0.3494316147595143, '3.9%'),\n",
       "  Text(0.5913645496213598, 0.1014296280734887, '21.3%'),\n",
       "  Text(0.09324897397998176, 0.5927095653451872, '18.4%'),\n",
       "  Text(-0.3615210726231347, 0.47885542082075055, '7.2%')])"
      ]
     },
     "execution_count": 23,
     "metadata": {},
     "output_type": "execute_result"
    },
    {
     "data": {
      "text/plain": [
       "Text(0.5, 1.0, 'Distribution of Main Genres')"
      ]
     },
     "execution_count": 23,
     "metadata": {},
     "output_type": "execute_result"
    },
    {
     "data": {
      "image/png": "[encoded data removed]",
      "text/plain": [
       "<Figure size 1000x800 with 1 Axes>"
      ]
     },
     "metadata": {},
     "output_type": "display_data"
    }
   ],
   "source": [
    "import matplotlib.pyplot as plt\n",
    "from pyspark.sql.functions import col\n",
    "\n",
    "# Count occurrences of each genre in genre1\n",
    "genre1_counts = all_data.groupBy(\"genre1\").count()\n",
    "\n",
    "# Convert to pandas for further manipulation\n",
    "genre1_counts_pd = genre1_counts.toPandas().set_index(\"genre1\")\n",
    "\n",
    "# Calculate the threshold and group genres below 3% into 'Others'\n",
    "threshold = 0.03 * genre1_counts_pd['count'].sum()\n",
    "genre1_counts_modified = genre1_counts_pd[genre1_counts_pd['count'] >= threshold]\n",
    "genre1_counts_modified.loc['Others'] = genre1_counts_pd[genre1_counts_pd['count'] < threshold].sum()\n",
    "\n",
    "# Plot the pie chart for genre1 with 'Others' included\n",
    "plt.figure(figsize=(10, 8))\n",
    "plt.pie(genre1_counts_modified['count'], labels=genre1_counts_modified.index, autopct='%1.1f%%', startangle=140)\n",
    "plt.title('Distribution of Main Genres')\n",
    "plt.tight_layout()\n",
    "plt.show()"
   ]
  },
  {
   "cell_type": "markdown",
   "id": "66bca97a",
   "metadata": {},
   "source": [
    "##### 4. Average IMDb rating by platform"
   ]
  },
  {
   "cell_type": "markdown",
   "id": "b6a73421",
   "metadata": {},
   "source": [
    "The results show how platforms compare in terms of the average quality of their content based on viewer ratings. These average IMDb ratings highlight how different platforms fare in terms of viewer satisfaction, potentially influencing future content production and acquisition strategies.\n",
    "\n",
    "The bar chart shows the average IMDb ratings for content on various platforms. HBO leads with an average rating of approximately 6.78, indicating that it consistently offers highly-rated content. Hulu, Netflix, and AppleTV have similar average ratings ranging from about 6.47 to 6.76, suggesting comparable quality among these platforms. Amazon trails with an average rating of approximately 6.02, which is notably lower than the others."
   ]
  },
  {
   "cell_type": "code",
   "execution_count": 24,
   "id": "92081fe9-103d-4142-87c0-e8e952c5af72",
   "metadata": {},
   "outputs": [
    {
     "name": "stdout",
     "output_type": "stream",
     "text": [
      "+-------+----------------------+\n",
      "|Company|avg(imdbAverageRating)|\n",
      "+-------+----------------------+\n",
      "|    HBO|     6.782060912306097|\n",
      "|   Hulu|    6.7055128241196655|\n",
      "|Netflix|       6.5290979742174|\n",
      "|AppleTV|     6.478445484919671|\n",
      "| Amazon|     6.021939307865038|\n",
      "+-------+----------------------+\n",
      "\n"
     ]
    },
    {
     "data": {
      "text/plain": [
       "<Figure size 1000x600 with 0 Axes>"
      ]
     },
     "execution_count": 24,
     "metadata": {},
     "output_type": "execute_result"
    },
    {
     "data": {
      "text/plain": [
       "<BarContainer object of 5 artists>"
      ]
     },
     "execution_count": 24,
     "metadata": {},
     "output_type": "execute_result"
    },
    {
     "data": {
      "text/plain": [
       "Text(0.5, 0, 'Platform')"
      ]
     },
     "execution_count": 24,
     "metadata": {},
     "output_type": "execute_result"
    },
    {
     "data": {
      "text/plain": [
       "Text(0, 0.5, 'Average IMDb Rating')"
      ]
     },
     "execution_count": 24,
     "metadata": {},
     "output_type": "execute_result"
    },
    {
     "data": {
      "text/plain": [
       "Text(0.5, 1.0, 'Average IMDb Rating by Platform')"
      ]
     },
     "execution_count": 24,
     "metadata": {},
     "output_type": "execute_result"
    },
    {
     "data": {
      "image/png": "[encoded data removed]",
      "text/plain": [
       "<Figure size 1000x600 with 1 Axes>"
      ]
     },
     "metadata": {},
     "output_type": "display_data"
    }
   ],
   "source": [
    "from pyspark.sql.functions import col\n",
    "\n",
    "# Convert imdbAverageRating to float type\n",
    "all_data = all_data.withColumn(\"imdbAverageRating\", col(\"imdbAverageRating\").cast(\"float\"))\n",
    "\n",
    "# Calculate the average IMDb rating by platform (Company)\n",
    "avg_rating_by_platform = all_data.groupBy(\"Company\").avg(\"imdbAverageRating\").orderBy(\"avg(imdbAverageRating)\", ascending=False)\n",
    "avg_rating_by_platform.show()\n",
    "\n",
    "avg_rating_by_platform_pd = avg_rating_by_platform.toPandas()\n",
    "\n",
    "import matplotlib.pyplot as plt\n",
    "\n",
    "# Plot Average Rating by Platform\n",
    "plt.figure(figsize=(10, 6))\n",
    "plt.bar(avg_rating_by_platform_pd['Company'], avg_rating_by_platform_pd['avg(imdbAverageRating)'])\n",
    "plt.xlabel('Platform')\n",
    "plt.ylabel('Average IMDb Rating')\n",
    "plt.title('Average IMDb Rating by Platform')\n",
    "plt.show()\n"
   ]
  },
  {
   "cell_type": "markdown",
   "id": "0937eab4",
   "metadata": {},
   "source": [
    "##### 5. Top 10 Movies by IMDb Average Rating Across All Platforms"
   ]
  },
  {
   "cell_type": "markdown",
   "id": "aaa1d332-d0ef-45fd-9507-60d59402d2ba",
   "metadata": {},
   "source": [
    "The table shows the top 10 movies by IMDb average rating across different platforms. Notably, Amazon dominates this list with highly-rated documentaries like Rumba in the Jungle and The Lost Spirits, showing that niche, high-quality documentaries can achieve excellent viewer ratings. The list also includes content from Netflix and HBO, highlighting that different platforms can achieve top ratings with distinct content types, such as crime dramas and nature documentaries.\n",
    "\n",
    "Platforms should take note of the types of content that achieve the highest ratings\n",
    "For Amazon, investing further in high-quality documentaries can solidify its reputation in this genre. \n"
   ]
  },
  {
   "cell_type": "code",
   "execution_count": 25,
   "id": "09567c7f-36da-4741-8b9a-178da9455d0f",
   "metadata": {},
   "outputs": [
    {
     "name": "stdout",
     "output_type": "stream",
     "text": [
      "+--------------------+----+-----------+-----------------+------------+-------+-----------------+-------------+-----------+------------+---------+\n",
      "|               title|type|releaseYear|imdbAverageRating|imdbNumVotes|Company|NumberOfCountries|releaseDecade|     genre1|      genre2|   genre3|\n",
      "+--------------------+----+-----------+-----------------+------------+-------+-----------------+-------------+-----------+------------+---------+\n",
      "|Rumba in the Jung...|   1|       2018|              9.9|        10.0| Amazon|                7|        2010s|Documentary|         NEG|      NEG|\n",
      "|    The Lost Spirits|   1|       2009|              9.8|        10.0| Amazon|                3|        2000s|Documentary|         NEG|      NEG|\n",
      "|The Trash Goes Ou...|   1|       2024|              9.8|        18.0| Amazon|                3|        2020s|Documentary|         NEG|      NEG|\n",
      "|      The Chemo Club|   1|       2016|              9.7|        27.0| Amazon|                3|        2010s|     Comedy|         NEG|      NEG|\n",
      "|        Breaking Bad|   0|       2008|              9.5|   2222701.0|Netflix|              121|        2000s|      Crime|       Drama| Thriller|\n",
      "|El Comando del Di...|   1|       2013|              9.5|        16.0| Amazon|               18|        2010s|     Action|         NEG|      NEG|\n",
      "|     Planet Earth II|   0|       2016|              9.5|    161347.0|    HBO|                7|        2010s|Documentary|         NEG|      NEG|\n",
      "|The Tragically Hi...|   0|       2024|              9.5|       447.0| Amazon|              109|        2020s|  Biography| Documentary|    Music|\n",
      "|      Benjamin Cello|   0|       2019|              9.5|        25.0| Amazon|                2|        2010s|     Family|         NEG|      NEG|\n",
      "|Begründung eines ...|   1|       1966|              9.4|        15.0|AppleTV|                1|        1960s|      Drama|         NEG|      NEG|\n",
      "+--------------------+----+-----------+-----------------+------------+-------+-----------------+-------------+-----------+------------+---------+\n",
      "\n"
     ]
    }
   ],
   "source": [
    "top_movies = all_data.orderBy(\"imdbAverageRating\", ascending=False).limit(10)\n",
    "top_movies.show()"
   ]
  },
  {
   "cell_type": "markdown",
   "id": "06243af2",
   "metadata": {},
   "source": [
    "##### 6. Top 10 Genres by Count Across All Platforms"
   ]
  },
  {
   "cell_type": "markdown",
   "id": "767af479-54dd-4121-af26-c05a55d9fc11",
   "metadata": {},
   "source": [
    "The bar chart illustrates the top 10 genres by frequency across all platforms. Comedy and Drama are the leading genres, followed by Action and Crime. This shows that most platforms prioritize content in these popular genres to cater to broad audience preferences. Niche genres like Biography, Animation, and Reality-TV are represented less, indicating either lower production volumes or more targeted audiences."
   ]
  },
  {
   "cell_type": "code",
   "execution_count": 26,
   "id": "a76560a6",
   "metadata": {},
   "outputs": [
    {
     "name": "stdout",
     "output_type": "stream",
     "text": [
      "+-----------+-----+\n",
      "|     genre1|count|\n",
      "+-----------+-----+\n",
      "|     Comedy|17964|\n",
      "|      Drama|17950|\n",
      "|     Action|15506|\n",
      "|      Crime| 6645|\n",
      "|Documentary| 5641|\n",
      "|  Adventure| 4928|\n",
      "|     Horror| 3662|\n",
      "|  Biography| 3317|\n",
      "|  Animation| 2776|\n",
      "| Reality-TV| 1542|\n",
      "+-----------+-----+\n",
      "\n"
     ]
    },
    {
     "data": {
      "text/plain": [
       "<Figure size 1000x600 with 0 Axes>"
      ]
     },
     "execution_count": 26,
     "metadata": {},
     "output_type": "execute_result"
    },
    {
     "data": {
      "text/plain": [
       "<BarContainer object of 10 artists>"
      ]
     },
     "execution_count": 26,
     "metadata": {},
     "output_type": "execute_result"
    },
    {
     "data": {
      "text/plain": [
       "Text(0.5, 0, 'Count')"
      ]
     },
     "execution_count": 26,
     "metadata": {},
     "output_type": "execute_result"
    },
    {
     "data": {
      "text/plain": [
       "Text(0, 0.5, 'Genre')"
      ]
     },
     "execution_count": 26,
     "metadata": {},
     "output_type": "execute_result"
    },
    {
     "data": {
      "text/plain": [
       "Text(0.5, 1.0, 'Top 10 Genres Across All Platforms')"
      ]
     },
     "execution_count": 26,
     "metadata": {},
     "output_type": "execute_result"
    },
    {
     "data": {
      "image/png": "[encoded data removed]",
      "text/plain": [
       "<Figure size 1000x600 with 1 Axes>"
      ]
     },
     "metadata": {},
     "output_type": "display_data"
    }
   ],
   "source": [
    "top_genres = all_data.groupBy(\"genre1\").count().orderBy(\"count\", ascending=False).limit(10)\n",
    "top_genres.show()\n",
    "\n",
    "top_genres_pd = top_genres.toPandas()\n",
    "\n",
    "import matplotlib.pyplot as plt\n",
    "\n",
    "# Plot Top Genres\n",
    "plt.figure(figsize=(10, 6))\n",
    "plt.barh(top_genres_pd['genre1'], top_genres_pd['count'])\n",
    "plt.xlabel('Count')\n",
    "plt.ylabel('Genre')\n",
    "plt.title('Top 10 Genres Across All Platforms')\n",
    "plt.gca().invert_yaxis()\n",
    "plt.show()\n"
   ]
  },
  {
   "cell_type": "markdown",
   "id": "f5a25c16-0925-4f32-bef1-53054143f919",
   "metadata": {},
   "source": [
    "##### 7. Analyze Data for Netflix"
   ]
  },
  {
   "cell_type": "markdown",
   "id": "a5d0f010",
   "metadata": {},
   "source": [
    "This section highlights the average number of votes per platform, providing insights into user engagement and the popularity of content on Netflix.\n",
    "\n",
    "The top-rated movies on Netflix include highly acclaimed series like Breaking Bad and Band of Brothers, as well as classics like The Shawshank Redemption. These top entries show that high ratings are often associated with content that is either highly engaging or timeless. The most frequent genres on Netflix are Comedy, Drama, and Action, indicating Netflix's emphasis on diverse and popular content categories. The average IMDb rating for Netflix content stands at approximately 6.53, which is in line with industry averages, but lower than platforms like HBO.\n",
    "\n",
    "Netflix should continue investing in top-performing genres such as Crime and Drama, as these have proven to attract large audiences and high ratings. Additionally, focusing on producing or acquiring standout series and movies that align with viewer preferences could enhance overall platform ratings."
   ]
  },
  {
   "cell_type": "code",
   "execution_count": 27,
   "id": "2f523f2b-d2b5-420e-9428-6443c06076fb",
   "metadata": {},
   "outputs": [
    {
     "name": "stdout",
     "output_type": "stream",
     "text": [
      "+--------------------+----+-----------+-----------------+------------+-------+-----------------+-------------+-----------+----------+----------+\n",
      "|               title|type|releaseYear|imdbAverageRating|imdbNumVotes|Company|NumberOfCountries|releaseDecade|     genre1|    genre2|    genre3|\n",
      "+--------------------+----+-----------+-----------------+------------+-------+-----------------+-------------+-----------+----------+----------+\n",
      "|        Breaking Bad|   0|       2008|              9.5|   2222701.0|Netflix|              121|        2000s|      Crime|     Drama|  Thriller|\n",
      "|    Band of Brothers|   0|       2001|              9.4|    543177.0|Netflix|               53|        2000s|      Drama|   History|       War|\n",
      "|The Shawshank Red...|   1|       1994|              9.3|   2954554.0|Netflix|               23|        1990s|      Drama|       NEG|       NEG|\n",
      "|Avatar: The Last ...|   0|       2005|              9.3|    387280.0|Netflix|               98|        2000s|     Action| Adventure| Animation|\n",
      "| Eddie's Lil' Homies|   0|       2024|              9.3|        21.0|Netflix|                3|        2020s|  Animation|    Comedy|    Family|\n",
      "| Flavours of Romania|   0|       2017|              9.3|       754.0|Netflix|                2|        2010s|Documentary|       NEG|       NEG|\n",
      "|          Our Planet|   0|       2019|              9.2|     53065.0|Netflix|              130|        2010s|Documentary|       NEG|       NEG|\n",
      "|       The Godfather|   1|       1972|              9.2|   2059785.0|Netflix|              114|        1970s|      Crime|     Drama|       NEG|\n",
      "|          The Chosen|   0|       2017|              9.2|     50743.0|Netflix|              113|        2010s|      Drama|   History|       NEG|\n",
      "|     Shasha and Milo|   0|       2023|              9.2|        40.0|Netflix|                1|        2020s|     Action| Animation|    Comedy|\n",
      "+--------------------+----+-----------+-----------------+------------+-------+-----------------+-------------+-----------+----------+----------+\n",
      "\n",
      "+-----------+-----+\n",
      "|     genre1|count|\n",
      "+-----------+-----+\n",
      "|     Comedy| 3769|\n",
      "|      Drama| 2709|\n",
      "|     Action| 2606|\n",
      "|      Crime| 1091|\n",
      "|  Adventure|  880|\n",
      "|Documentary|  631|\n",
      "|  Biography|  599|\n",
      "|  Animation|  460|\n",
      "|     Horror|  319|\n",
      "| Reality-TV|  181|\n",
      "+-----------+-----+\n",
      "\n",
      "+----------------------+\n",
      "|avg(imdbAverageRating)|\n",
      "+----------------------+\n",
      "|       6.5290979742174|\n",
      "+----------------------+\n",
      "\n"
     ]
    }
   ],
   "source": [
    "# Filter data for Netflix\n",
    "netflix_data = all_data.filter(all_data.Company == \"Netflix\")\n",
    "\n",
    "# Top 10 Netflix Movies by IMDb Average Rating\n",
    "top_netflix_movies = netflix_data.orderBy(\"imdbAverageRating\", ascending=False).limit(10)\n",
    "top_netflix_movies.show()\n",
    "\n",
    "# Most Common Genres on Netflix\n",
    "netflix_genres = netflix_data.groupBy(\"genre1\").count().orderBy(\"count\", ascending=False).limit(10)\n",
    "netflix_genres.show()\n",
    "\n",
    "# Average IMDb Rating for Netflix Content\n",
    "avg_netflix_rating = netflix_data.agg({\"imdbAverageRating\": \"avg\"}).show()\n"
   ]
  },
  {
   "cell_type": "markdown",
   "id": "205b2995-7fc2-407b-888d-b01a3efe2ad5",
   "metadata": {},
   "source": [
    "##### 8. Detailed Genre Analysis Across Platforms\n"
   ]
  },
  {
   "cell_type": "markdown",
   "id": "38b9ac85-7834-44f4-ab69-7b6f4a4e1df9",
   "metadata": {},
   "source": [
    "he table shows the genre distribution across different platforms, with Netflix leading in genres like Comedy, Drama, and Action. This indicates that Netflix prioritizes content that appeals to a broad audience, while other genres such as Musical and Sci-Fi are less represented. \n",
    "\n",
    " Platforms could identify opportunities to expand their content libraries by focusing on underrepresented genres to capture niche audiences and differentiate their offerings."
   ]
  },
  {
   "cell_type": "code",
   "execution_count": 28,
   "id": "602bbe6f-2e1f-41ba-886f-9159fc372fa8",
   "metadata": {},
   "outputs": [
    {
     "name": "stdout",
     "output_type": "stream",
     "text": [
      "+-------+-----------+-----+\n",
      "|Company|     genre1|count|\n",
      "+-------+-----------+-----+\n",
      "|Netflix|     Comedy| 3769|\n",
      "|Netflix|      Drama| 2709|\n",
      "|Netflix|     Action| 2606|\n",
      "|Netflix|      Crime| 1091|\n",
      "|Netflix|  Adventure|  880|\n",
      "|Netflix|Documentary|  631|\n",
      "|Netflix|  Biography|  599|\n",
      "|Netflix|  Animation|  460|\n",
      "|Netflix|     Horror|  319|\n",
      "|Netflix| Reality-TV|  181|\n",
      "|Netflix|  Game-Show|   67|\n",
      "|Netflix|     Family|   64|\n",
      "|Netflix|    Romance|   64|\n",
      "|Netflix|   Thriller|   53|\n",
      "|Netflix|    Fantasy|   51|\n",
      "|Netflix|    Mystery|   43|\n",
      "|Netflix|    Musical|   14|\n",
      "|Netflix|      Music|   12|\n",
      "|Netflix|     Sci-Fi|   10|\n",
      "|Netflix|  Talk-Show|    9|\n",
      "+-------+-----------+-----+\n",
      "only showing top 20 rows\n",
      "\n"
     ]
    }
   ],
   "source": [
    "# Group by platform and genre to count occurrences\n",
    "genre_distribution = all_data.groupBy(\"Company\", \"genre1\").count().orderBy(\"Company\", \"count\", ascending=False)\n",
    "genre_distribution.show()\n"
   ]
  },
  {
   "cell_type": "markdown",
   "id": "fcb9c0ae-7f9d-4d9d-85a7-c3b6e811daab",
   "metadata": {},
   "source": [
    "#####  9. Release Year Trends\n"
   ]
  },
  {
   "cell_type": "markdown",
   "id": "0957475c-bde7-4b39-a4e7-11a3a662276d",
   "metadata": {},
   "source": [
    "he number of movie releases per decade shows a significant increase from the 1980s onwards, with the 2010s and 2020s having the highest counts. This trend highlights the rapid growth in content production over the past few decades.\n",
    "\n",
    "Platforms should continue investing in new content production while also maintaining a library of classic films that have retained popularity over time.\n",
    "\n"
   ]
  },
  {
   "cell_type": "code",
   "execution_count": 29,
   "id": "6c6e8dad-ba71-4c85-a832-2e6458cc74b9",
   "metadata": {},
   "outputs": [
    {
     "name": "stdout",
     "output_type": "stream",
     "text": [
      "+-------------+-----+\n",
      "|releaseDecade|count|\n",
      "+-------------+-----+\n",
      "|        1890s|    1|\n",
      "|        1900s|   10|\n",
      "|        1910s|   40|\n",
      "|        1920s|  165|\n",
      "|        1930s|  826|\n",
      "|        1940s| 1077|\n",
      "|        1950s| 1820|\n",
      "|        1960s| 2437|\n",
      "|        1970s| 3449|\n",
      "|        1980s| 4881|\n",
      "|        1990s| 6770|\n",
      "|        2000s|15020|\n",
      "|        2010s|38843|\n",
      "|        2020s| 9126|\n",
      "+-------------+-----+\n",
      "\n"
     ]
    }
   ],
   "source": [
    "# Number of releases per year\n",
    "releases_per_decade = all_data.groupBy(\"releaseDecade\").count().orderBy(\"releaseDecade\")\n",
    "releases_per_decade.show()"
   ]
  },
  {
   "cell_type": "markdown",
   "id": "e4a991ef-75e5-4260-82cf-cf48d6a98444",
   "metadata": {},
   "source": [
    "##### 10. Top Companies by Number of Releases\n"
   ]
  },
  {
   "cell_type": "markdown",
   "id": "81c505ee-de65-48ce-9e55-1e859e7b9354",
   "metadata": {},
   "source": [
    "Amazon has the highest number of releases, followed by Netflix, which aligns with these platforms' strategy to provide a vast range of content. HBO has fewer releases, suggesting a more selective approach to content production. \n",
    "\n",
    "Companies with a smaller number of releases like HBO could focus on maintaining high-quality content to compete, while platforms like Amazon and Netflix should analyze viewer engagement metrics to prioritize and promote successful content types"
   ]
  },
  {
   "cell_type": "code",
   "execution_count": 30,
   "id": "84facf27-cd88-49e2-97af-d0cb233bb889",
   "metadata": {},
   "outputs": [
    {
     "name": "stdout",
     "output_type": "stream",
     "text": [
      "+-------+-----+\n",
      "|Company|count|\n",
      "+-------+-----+\n",
      "| Amazon|44222|\n",
      "|Netflix|13647|\n",
      "|AppleTV|12647|\n",
      "|   Hulu| 7020|\n",
      "|    HBO| 6929|\n",
      "+-------+-----+\n",
      "\n"
     ]
    }
   ],
   "source": [
    "# Top platforms by number of releases\n",
    "releases_per_platform = all_data.groupBy(\"Company\").count().orderBy(\"count\", ascending=False)\n",
    "releases_per_platform.show()"
   ]
  },
  {
   "cell_type": "markdown",
   "id": "5aedb27f-6048-4d2a-8eaa-ba6bc7219ff3",
   "metadata": {},
   "source": [
    "##### 11. Correlation between Rating and Votes"
   ]
  },
  {
   "cell_type": "markdown",
   "id": "ff3588ca-f499-4fe9-a16e-783cb3a4e619",
   "metadata": {},
   "source": [
    "The correlation between IMDb average rating and the number of votes is approximately 0.20, indicating a weak positive correlation. This suggests that while higher-rated movies tend to receive more votes, the relationship is not strong enough to assume a direct link between the two. \n",
    "\n",
    "Platforms should promote high-rated content to increase viewer engagement and ratings, but they should also focus on marketing strategies that encourage audience participation and feedback for content with fewer votes."
   ]
  },
  {
   "cell_type": "code",
   "execution_count": 31,
   "id": "f9e1c418-d37b-4462-a0f8-d898cf3b436b",
   "metadata": {},
   "outputs": [
    {
     "name": "stdout",
     "output_type": "stream",
     "text": [
      "Correlation between IMDb average rating and number of votes: 0.20404805665286896\n"
     ]
    }
   ],
   "source": [
    "# Correlation between numerical features\n",
    "correlation_rating_votes = all_data.stat.corr(\"imdbAverageRating\", \"imdbNumVotes\")\n",
    "print(f\"Correlation between IMDb average rating and number of votes: {correlation_rating_votes}\")"
   ]
  },
  {
   "cell_type": "markdown",
   "id": "ff587429-d44e-461c-8da3-f7f71f4d3ef0",
   "metadata": {},
   "source": [
    "##### 12. Top-rated content by genre"
   ]
  },
  {
   "cell_type": "markdown",
   "id": "d74171cc-79a8-4f55-b775-226a8c003179",
   "metadata": {},
   "source": [
    "The top-rated genres include Documentary, Comedy, and Crime, all with maximum IMDb ratings above 9.0. This highlights that these genres are well-received and often deliver exceptional content that garners high user satisfaction.\n",
    "\n",
    "Platforms should prioritize acquiring or producing content in these high-rated genres to attract audiences looking for top-quality entertainment."
   ]
  },
  {
   "cell_type": "code",
   "execution_count": 32,
   "id": "c0ba3fd4-a865-4747-81b6-ab59880b1687",
   "metadata": {},
   "outputs": [
    {
     "name": "stdout",
     "output_type": "stream",
     "text": [
      "+-----------+----------------------+\n",
      "|     genre1|max(imdbAverageRating)|\n",
      "+-----------+----------------------+\n",
      "|Documentary|                   9.9|\n",
      "|     Comedy|                   9.7|\n",
      "|      Crime|                   9.5|\n",
      "|     Family|                   9.5|\n",
      "|  Biography|                   9.5|\n",
      "|     Action|                   9.5|\n",
      "|      Drama|                   9.4|\n",
      "| Reality-TV|                   9.4|\n",
      "|    History|                   9.4|\n",
      "|      Sport|                   9.4|\n",
      "|       Kids|                   9.4|\n",
      "|  Adventure|                   9.3|\n",
      "|  Animation|                   9.3|\n",
      "|    Reality|                   9.2|\n",
      "|      Adult|                   9.2|\n",
      "|      Music|                   9.1|\n",
      "|        NEG|                   9.1|\n",
      "|  Talk-Show|                   9.0|\n",
      "|    Romance|                   8.9|\n",
      "|   Thriller|                   8.8|\n",
      "+-----------+----------------------+\n",
      "only showing top 20 rows\n",
      "\n"
     ]
    }
   ],
   "source": [
    "# Top-rated content by genre\n",
    "top_rated_per_genre = all_data.groupBy(\"genre1\").agg({\"imdbAverageRating\": \"max\"}).orderBy(\"max(imdbAverageRating)\", ascending=False)\n",
    "top_rated_per_genre.show()"
   ]
  },
  {
   "cell_type": "markdown",
   "id": "9d013818-e354-4521-9f33-34112112979e",
   "metadata": {},
   "source": [
    "##### 13.Average number of votes per platform"
   ]
  },
  {
   "cell_type": "markdown",
   "id": "1c6269d1-06c0-4e93-a946-bc4fb79d1174",
   "metadata": {},
   "source": [
    "HBO has the highest average number of votes per movie, suggesting a strong viewer base for its content, followed by Hulu and Netflix. Amazon has the lowest average number of votes, indicating potentially lower engagement or fewer widely recognized titles.\n",
    "\n",
    "Platforms like Amazon could benefit from boosting viewer interaction and visibility for their content through strategic marketing and partnerships. HBO and Hulu should maintain their current strategies that drive viewer interest, while Netflix could focus on leveraging popular titles to sustain or increase its vote averages."
   ]
  },
  {
   "cell_type": "code",
   "execution_count": 33,
   "id": "8a4f6d86-f45e-431c-96a8-e678916b4e22",
   "metadata": {},
   "outputs": [
    {
     "name": "stdout",
     "output_type": "stream",
     "text": [
      "+-------+------------------+\n",
      "|Company| avg(imdbNumVotes)|\n",
      "+-------+------------------+\n",
      "|    HBO| 68751.80632125848|\n",
      "|   Hulu| 43769.74017094017|\n",
      "|Netflix| 41676.82545614421|\n",
      "|AppleTV|30861.936348541156|\n",
      "| Amazon|17440.991814029217|\n",
      "+-------+------------------+\n",
      "\n"
     ]
    }
   ],
   "source": [
    "# Average number of votes per platform\n",
    "avg_votes_per_platform = all_data.groupBy(\"Company\").avg(\"imdbNumVotes\").orderBy(\"avg(imdbNumVotes)\", ascending=False)\n",
    "avg_votes_per_platform.show()"
   ]
  },
  {
   "cell_type": "markdown",
   "id": "c84eb8e7-dad3-4a59-aa08-94d0571a45e4",
   "metadata": {},
   "source": [
    "##### EDA Conclusion"
   ]
  },
  {
   "cell_type": "markdown",
   "id": "0094e24b-a434-484f-9c34-158b7a7a1571",
   "metadata": {},
   "source": [
    "The EDA conducted on the merged dataset of movies across different streaming platforms has revealed significant insights into content trends, audience engagement, and platform-specific strengths. \n",
    "\n",
    "**Key takeaways** \n",
    "- the dominance of popular genres like Comedy, Drama, and Action, which attract large audience\n",
    "- the presence of high-rated content in genres such as Documentary and Crime.\n",
    "- Platforms like HBO and Netflix have consistently high average IMDb ratings and viewer engagement\n",
    "- Amazon show room for growth in content quality and audience interaction.\n",
    "- There is some relationship between movie ratings and the number of votes, it is not strong enough to make direct assumptions. \n",
    "- Highlight of the rapid increase in content production in recent decades\n",
    "\n",
    "**Recommendations** \n",
    "- **Diversify Content Offerings:** Platforms should focus on diversifying their content libraries by exploring underrepresented but high-rated genres, such as Biography and Family, to capture niche audiences and differentiate themselves.\n",
    "- **Invest in High-Quality Productions:** Emphasize investing in genres that are consistently high-rated, like Documentaries and Crime, to attract audiences seeking top-quality content.\n",
    "- **Promote Engagement:** Platforms with lower average votes, such as Amazon, should develop marketing strategies to increase viewer engagement and ratings. \n",
    "- **Leverage Data-Driven Content Acquisition:** Use insights from the EDA to inform decisions on content acquisition and production. Focus on genres and types of content that have historically performed well in terms of ratings and viewer engagement.\n",
    "- **Balance Between Popular and Niche Content:** While it’s important to invest in popular genres, offering niche content can help platforms attract specific audience segments and boost retention."
   ]
  },
  {
   "cell_type": "markdown",
   "id": "864d3742-8337-4954-b3f6-5a4571d9d243",
   "metadata": {
    "jp-MarkdownHeadingCollapsed": true
   },
   "source": [
    "## Logisitc Regression (Predict the IMDB Score based on features)"
   ]
  },
  {
   "cell_type": "markdown",
   "id": "19e07ca1-c8a1-4829-81fb-8fcfe755b2fc",
   "metadata": {},
   "source": [
    "### Further Data Cleaning"
   ]
  },
  {
   "cell_type": "code",
   "execution_count": 34,
   "id": "56e03c02-3c1f-4525-8afc-be619efd95ba",
   "metadata": {},
   "outputs": [],
   "source": [
    "from pyspark.sql.functions import concat_ws, col\n",
    "\n",
    "# re-converting genre columns into one column, so we can perform OHE for categorical variables\n",
    "\n",
    "all_data = all_data.withColumn(\"genres\", concat_ws(\",\", col(\"genre1\"), col(\"genre2\"), col(\"genre3\")))\n",
    "all_data = all_data.drop(\"genre1\", \"genre2\", \"genre3\")"
   ]
  },
  {
   "cell_type": "markdown",
   "id": "e74607be-661e-4343-97dd-d268569b7a68",
   "metadata": {},
   "source": [
    "#### OHE Genre"
   ]
  },
  {
   "cell_type": "code",
   "execution_count": 35,
   "id": "a5c180e9-65ef-4d26-a378-263c5c38f47f",
   "metadata": {},
   "outputs": [
    {
     "name": "stderr",
     "output_type": "stream",
     "text": [
      "                                                                                \r"
     ]
    }
   ],
   "source": [
    "from pyspark.sql import functions as F\n",
    "\n",
    "# here we split the genres column into an array and then explode it to get one genre per row\n",
    "\n",
    "all_data = all_data.withColumn(\"genre_array\", F.split(F.col(\"genres\"), \",\"))\n",
    "all_data_exploded = all_data.withColumn(\"genre\", F.explode(\"genre_array\"))\n",
    "all_data_ohe_genres = all_data_exploded.groupBy(\"title\").pivot(\"genre\").agg(F.lit(1)).fillna(0)\n",
    "all_data_final = all_data.join(all_data_ohe_genres, on=\"title\", how=\"left\")\n",
    "all_data_final = all_data_final.drop(\"genres\", \"genre_array\", \"genre\")"
   ]
  },
  {
   "cell_type": "markdown",
   "id": "894801ad-b76c-4fc1-9517-8edf697e514d",
   "metadata": {},
   "source": [
    "#### Dropping irrelevant columns"
   ]
  },
  {
   "cell_type": "code",
   "execution_count": 36,
   "id": "b3f18dd9-8889-41c3-8223-062acaab9e4d",
   "metadata": {},
   "outputs": [],
   "source": [
    "# Dropping the 'releaseDecade' column as it is no longer needed\n",
    "all_data_final = all_data_final.drop(\"releaseDecade\")"
   ]
  },
  {
   "cell_type": "markdown",
   "id": "0bcf7699-8fc5-495e-bfee-c6e295c07023",
   "metadata": {},
   "source": [
    "#### OHE Company column and dropping duplicates"
   ]
  },
  {
   "cell_type": "code",
   "execution_count": 37,
   "id": "62dd7869-2f6f-47d3-89b0-08341643be1f",
   "metadata": {},
   "outputs": [],
   "source": [
    "from pyspark.sql import functions as F\n",
    "\n",
    "# One-hot encoding the Company column using pivot\n",
    "all_data_ohe_company = all_data_final.groupBy(\"title\").pivot(\"Company\").agg(F.lit(1)).fillna(0)\n",
    "all_data_final = all_data_final.join(all_data_ohe_company, on=\"title\", how=\"left\")"
   ]
  },
  {
   "cell_type": "code",
   "execution_count": 38,
   "id": "0093f439-74e8-4d27-b863-0d07eeaa9559",
   "metadata": {},
   "outputs": [],
   "source": [
    "# Dropping duplicate rows and removing the 'Company' column for further data cleaning\n",
    "all_data_final = all_data_final.dropDuplicates().drop(\"Company\")"
   ]
  },
  {
   "cell_type": "code",
   "execution_count": 39,
   "id": "f37afaab-f756-4eaa-ab15-ee8004063094",
   "metadata": {},
   "outputs": [
    {
     "name": "stderr",
     "output_type": "stream",
     "text": [
      "24/11/19 20:29:48 WARN SparkStringUtils: Truncated the string representation of a plan since it was too large. This behavior can be adjusted by setting 'spark.sql.debug.maxToStringFields'.\n",
      "[Stage 644:>                                                        (0 + 2) / 2]\r"
     ]
    },
    {
     "name": "stdout",
     "output_type": "stream",
     "text": [
      "Number of rows with Amazon, HBO, and Netflix all set to 1: 5408\n"
     ]
    },
    {
     "name": "stderr",
     "output_type": "stream",
     "text": [
      "                                                                                \r"
     ]
    }
   ],
   "source": [
    "from pyspark.sql import functions as F\n",
    "\n",
    "# Counting the number of rows where all three columns ('Amazon', 'HBO', and 'Netflix') have a 1\n",
    "count_all_three = all_data_final.filter((F.col(\"Amazon\") == 1) & (F.col(\"HBO\") == 1) & (F.col(\"Netflix\") == 1)).count()\n",
    "print(\"Number of rows with Amazon, HBO, and Netflix all set to 1:\", count_all_three)\n",
    "\n",
    "#Used to understand how the OHE removed a lot of duplicated movies"
   ]
  },
  {
   "cell_type": "code",
   "execution_count": 40,
   "id": "9744ca7a-b923-4b3e-bd3f-6ece54a809bf",
   "metadata": {},
   "outputs": [],
   "source": [
    "# Dropping the 'NEG' column from the DataFrame as it is no longer needed\n",
    "all_data_final = all_data_final.drop(\"NEG\")"
   ]
  },
  {
   "cell_type": "markdown",
   "id": "abc69943-810c-405d-8ca0-dfb6726efd6d",
   "metadata": {},
   "source": [
    "#### ReleaseYear into ReleaseDate Datetype"
   ]
  },
  {
   "cell_type": "code",
   "execution_count": 41,
   "id": "76ba176e-fff5-43b2-9501-3b6825984714",
   "metadata": {},
   "outputs": [],
   "source": [
    "from pyspark.sql.functions import concat, lit, to_date\n",
    "\n",
    "# Dropping releaseDate if it already exists as we had an issue with the column being duplicated\n",
    "all_data_final = all_data_final.drop(\"releaseDate\")\n",
    "\n",
    "# Creating the releaseDate column by converting releaseYear to date\n",
    "all_data_final = all_data_final.withColumn(\n",
    "    \"releaseDate\",\n",
    "    to_date(concat(all_data_final[\"releaseYear\"].cast(\"string\"), lit(\"-01-01\")), \"yyyy-MM-dd\")\n",
    ")"
   ]
  },
  {
   "cell_type": "code",
   "execution_count": 42,
   "id": "95ab9a21-4058-4ea5-84e2-82ff5a7d74a4",
   "metadata": {},
   "outputs": [],
   "source": [
    "all_data_final = all_data_final.drop(\"releaseYear\")"
   ]
  },
  {
   "cell_type": "code",
   "execution_count": 43,
   "id": "6a416fa6-b914-4d6a-a9e3-b5fc2695d1e7",
   "metadata": {},
   "outputs": [
    {
     "name": "stdout",
     "output_type": "stream",
     "text": [
      "root\n",
      " |-- title: string (nullable = true)\n",
      " |-- type: integer (nullable = false)\n",
      " |-- imdbAverageRating: float (nullable = true)\n",
      " |-- imdbNumVotes: double (nullable = true)\n",
      " |-- NumberOfCountries: integer (nullable = false)\n",
      " |--  Action: integer (nullable = true)\n",
      " |--  Action & Adventure: integer (nullable = true)\n",
      " |--  Adventure: integer (nullable = true)\n",
      " |--  Animation: integer (nullable = true)\n",
      " |--  Biography: integer (nullable = true)\n",
      " |--  Comedy: integer (nullable = true)\n",
      " |--  Crime: integer (nullable = true)\n",
      " |--  Documentary: integer (nullable = true)\n",
      " |--  Drama: integer (nullable = true)\n",
      " |--  Family: integer (nullable = true)\n",
      " |--  Fantasy: integer (nullable = true)\n",
      " |--  Film-Noir: integer (nullable = true)\n",
      " |--  Game-Show: integer (nullable = true)\n",
      " |--  History: integer (nullable = true)\n",
      " |--  Horror: integer (nullable = true)\n",
      " |--  Kids: integer (nullable = true)\n",
      " |--  Music: integer (nullable = true)\n",
      " |--  Musical: integer (nullable = true)\n",
      " |--  Mystery: integer (nullable = true)\n",
      " |--  News: integer (nullable = true)\n",
      " |--  Reality: integer (nullable = true)\n",
      " |--  Reality-TV: integer (nullable = true)\n",
      " |--  Romance: integer (nullable = true)\n",
      " |--  Sci-Fi: integer (nullable = true)\n",
      " |--  Short: integer (nullable = true)\n",
      " |--  Soap: integer (nullable = true)\n",
      " |--  Sport: integer (nullable = true)\n",
      " |--  TV Movie: integer (nullable = true)\n",
      " |--  Talk-Show: integer (nullable = true)\n",
      " |--  Thriller: integer (nullable = true)\n",
      " |--  War: integer (nullable = true)\n",
      " |--  Western: integer (nullable = true)\n",
      " |-- Action: integer (nullable = true)\n",
      " |-- Adult: integer (nullable = true)\n",
      " |-- Adventure: integer (nullable = true)\n",
      " |-- Animation: integer (nullable = true)\n",
      " |-- Biography: integer (nullable = true)\n",
      " |-- Comedy: integer (nullable = true)\n",
      " |-- Crime: integer (nullable = true)\n",
      " |-- Documentary: integer (nullable = true)\n",
      " |-- Drama: integer (nullable = true)\n",
      " |-- Family: integer (nullable = true)\n",
      " |-- Fantasy: integer (nullable = true)\n",
      " |-- Film-Noir: integer (nullable = true)\n",
      " |-- Game-Show: integer (nullable = true)\n",
      " |-- History: integer (nullable = true)\n",
      " |-- Horror: integer (nullable = true)\n",
      " |-- Kids: integer (nullable = true)\n",
      " |-- Music: integer (nullable = true)\n",
      " |-- Musical: integer (nullable = true)\n",
      " |-- Mystery: integer (nullable = true)\n",
      " |-- News: integer (nullable = true)\n",
      " |-- Reality: integer (nullable = true)\n",
      " |-- Reality-TV: integer (nullable = true)\n",
      " |-- Romance: integer (nullable = true)\n",
      " |-- Sci-Fi: integer (nullable = true)\n",
      " |-- Science Fiction: integer (nullable = true)\n",
      " |-- Short: integer (nullable = true)\n",
      " |-- Sport: integer (nullable = true)\n",
      " |-- Talk-Show: integer (nullable = true)\n",
      " |-- Thriller: integer (nullable = true)\n",
      " |-- War: integer (nullable = true)\n",
      " |-- Western: integer (nullable = true)\n",
      " |-- Amazon: integer (nullable = true)\n",
      " |-- AppleTV: integer (nullable = true)\n",
      " |-- HBO: integer (nullable = true)\n",
      " |-- Hulu: integer (nullable = true)\n",
      " |-- Netflix: integer (nullable = true)\n",
      " |-- releaseDate: date (nullable = true)\n",
      "\n"
     ]
    }
   ],
   "source": [
    "all_data_final.printSchema()"
   ]
  },
  {
   "cell_type": "code",
   "execution_count": 44,
   "id": "1dda966a-fac7-445f-898e-91eadbdd03ae",
   "metadata": {},
   "outputs": [],
   "source": [
    "all_data_final = all_data_final.drop(\"title\")"
   ]
  },
  {
   "cell_type": "code",
   "execution_count": 45,
   "id": "6f4cd19e-5729-4b3d-9253-f1d667d4bb49",
   "metadata": {},
   "outputs": [],
   "source": [
    "all_data_final = all_data_final.drop(\"releaseDate\")"
   ]
  },
  {
   "cell_type": "markdown",
   "id": "d6a23818-05cb-40e6-b80f-29c11bb4f352",
   "metadata": {},
   "source": [
    "### Scale Numeric Columns"
   ]
  },
  {
   "cell_type": "markdown",
   "id": "112e402e",
   "metadata": {},
   "source": [
    "This code scales numeric features in a dataset using PySpark. It combines imdbNumVotes and NumberOfCountries into a single column, scales them to have a mean of 0 and a standard deviation of 1, and then splits the scaled values into separate columns. Finally, it displays the scaled features alongside the imdbAverageRating and removes unnecessary intermediate columns to clean up the data."
   ]
  },
  {
   "cell_type": "code",
   "execution_count": 46,
   "id": "47068458-1320-4068-8abb-349e74862842",
   "metadata": {},
   "outputs": [
    {
     "name": "stderr",
     "output_type": "stream",
     "text": [
      "24/11/19 20:30:06 WARN SparkSession: Using an existing Spark session; only runtime SQL configurations will take effect.\n",
      "[Stage 812:>                                                        (0 + 1) / 1]\r"
     ]
    },
    {
     "name": "stdout",
     "output_type": "stream",
     "text": [
      "+-----------------+--------------------+------------------------+\n",
      "|imdbAverageRating| scaled_imdbNumVotes|scaled_NumberOfCountries|\n",
      "+-----------------+--------------------+------------------------+\n",
      "|              3.7|-0.22281539221780672|     -0.3037002610787707|\n",
      "|              5.6|-0.25116137521853243|    -0.37521547546659284|\n",
      "|              4.5| -0.2459252774932417|    -0.44673068985441505|\n",
      "|              6.8| -0.2061596952531905|       4.058727816578383|\n",
      "|              5.8| -0.2460521619292342|      1.1981192410654955|\n",
      "|              3.1| -0.2415096991207025|    -0.44673068985441505|\n",
      "|              7.5| -0.2459506543804402|    -0.44673068985441505|\n",
      "|              7.5| -0.2459506543804402|    -0.44673068985441505|\n",
      "|              6.7|-0.24485098926850515|       3.272060458312339|\n",
      "|              7.1|-0.25158432333850744|    -0.37521547546659284|\n",
      "|              7.1|-0.25158432333850744|    -0.44673068985441505|\n",
      "|              4.5| -0.2481584435667098|     0.19690623963598472|\n",
      "|              5.0|-0.24698264779317924|     0.08963341805425143|\n",
      "|              8.0|-0.24943574688903433|     0.23266384682989583|\n",
      "|              8.0| -0.2515927823009069|    -0.37521547546659284|\n",
      "|              5.6|-0.24089219486553898|      -0.410973082660504|\n",
      "|              5.9| -0.2482684100779033|      -0.410973082660504|\n",
      "|              7.2|-0.25171120777449996|    -0.44673068985441505|\n",
      "|              5.4| -0.2511021624817359|    -0.44673068985441505|\n",
      "|              7.2| 0.27023214916187077|       1.376907277035051|\n",
      "+-----------------+--------------------+------------------------+\n",
      "only showing top 20 rows\n",
      "\n"
     ]
    },
    {
     "name": "stderr",
     "output_type": "stream",
     "text": [
      "                                                                                \r"
     ]
    }
   ],
   "source": [
    "from pyspark.ml.feature import VectorAssembler, StandardScaler\n",
    "from pyspark.sql import SparkSession\n",
    "from pyspark.ml.functions import vector_to_array\n",
    "\n",
    "spark = SparkSession.builder.appName(\"Scaling\").getOrCreate()\n",
    "\n",
    "assembler = VectorAssembler(\n",
    "    inputCols=[\"imdbNumVotes\", \"NumberOfCountries\"],\n",
    "    outputCol=\"features_to_scale\"\n",
    ")\n",
    "binary_data_df = assembler.transform(all_data_final)\n",
    "\n",
    "scaler = StandardScaler(inputCol=\"features_to_scale\", outputCol=\"scaled_features\", withMean=True, withStd=True)\n",
    "scaler_model = scaler.fit(binary_data_df)\n",
    "binary_data_df = scaler_model.transform(binary_data_df)\n",
    "\n",
    "binary_data_df = binary_data_df.withColumn(\"scaled_features_array\", vector_to_array(\"scaled_features\"))\n",
    "\n",
    "binary_data_df = binary_data_df.withColumn(\"scaled_imdbNumVotes\", binary_data_df[\"scaled_features_array\"][0]) \\\n",
    "                               .withColumn(\"scaled_NumberOfCountries\", binary_data_df[\"scaled_features_array\"][1])\n",
    "\n",
    "binary_data_df.select(\"imdbAverageRating\", \"scaled_imdbNumVotes\", \"scaled_NumberOfCountries\").show()\n",
    "\n",
    "binary_data_df = binary_data_df.drop(\"imdbNumVotes\", \"NumberOfCountries\", \"features_to_scale\", \"scaled_features\", \"scaled_features_array\")\n"
   ]
  },
  {
   "cell_type": "markdown",
   "id": "063241bf-a4bd-40fc-8892-7c51c912971f",
   "metadata": {},
   "source": [
    "### Turning Average rating into binary"
   ]
  },
  {
   "cell_type": "code",
   "execution_count": 47,
   "id": "d035b3c9-5635-4ece-952e-c1bdde067006",
   "metadata": {},
   "outputs": [
    {
     "name": "stderr",
     "output_type": "stream",
     "text": [
      "[Stage 881:>                                                        (0 + 1) / 1]\r"
     ]
    },
    {
     "name": "stdout",
     "output_type": "stream",
     "text": [
      "+------------------------+\n",
      "|imdbAverageRating_binary|\n",
      "+------------------------+\n",
      "|                       0|\n",
      "|                       0|\n",
      "|                       0|\n",
      "|                       0|\n",
      "|                       0|\n",
      "+------------------------+\n",
      "only showing top 5 rows\n",
      "\n"
     ]
    },
    {
     "name": "stderr",
     "output_type": "stream",
     "text": [
      "                                                                                \r"
     ]
    }
   ],
   "source": [
    "binary_data_df = all_data_final.withColumn(\n",
    "    \"imdbAverageRating_binary_temp\",\n",
    "    when(all_data_final[\"imdbAverageRating\"] > 7, 1).otherwise(0)\n",
    ")\n",
    "\n",
    "binary_data_df = binary_data_df.drop(\"imdbAverageRating\")\n",
    "binary_data_df = binary_data_df.withColumnRenamed(\"imdbAverageRating_binary_temp\", \"imdbAverageRating_binary\")\n",
    "binary_data_df = binary_data_df.withColumn(\"imdbAverageRating_binary\", binary_data_df[\"imdbAverageRating_binary\"].cast(\"integer\"))\n",
    "binary_data_df.select(\"imdbAverageRating_binary\").show(5)\n",
    "\n",
    "# Transforming the target variable into a binary classification problem"
   ]
  },
  {
   "cell_type": "markdown",
   "id": "b0ee0e9c-edfa-44bb-816c-76d7af2f4968",
   "metadata": {},
   "source": [
    "### Train Test Split (Binary Data)"
   ]
  },
  {
   "cell_type": "code",
   "execution_count": 48,
   "id": "707db609-abc2-4190-90b4-4eb840c19e4d",
   "metadata": {},
   "outputs": [
    {
     "name": "stderr",
     "output_type": "stream",
     "text": [
      "                                                                                \r"
     ]
    },
    {
     "name": "stdout",
     "output_type": "stream",
     "text": [
      "Training Data Count: 67677\n"
     ]
    },
    {
     "name": "stderr",
     "output_type": "stream",
     "text": [
      "[Stage 1034:>                                                       (0 + 2) / 2]\r"
     ]
    },
    {
     "name": "stdout",
     "output_type": "stream",
     "text": [
      "Test Data Count: 16788\n"
     ]
    },
    {
     "name": "stderr",
     "output_type": "stream",
     "text": [
      "                                                                                \r"
     ]
    }
   ],
   "source": [
    "# Perform an 80/20 split on the DataFrame\n",
    "train_data, test_data = binary_data_df.randomSplit([0.8, 0.2], seed=42)\n",
    "print(\"Training Data Count:\", train_data.count())\n",
    "print(\"Test Data Count:\", test_data.count())"
   ]
  },
  {
   "cell_type": "markdown",
   "id": "e33e5f10-ea5c-4ddc-822d-67f839918793",
   "metadata": {},
   "source": [
    "### Regression"
   ]
  },
  {
   "cell_type": "markdown",
   "id": "dc5a6804",
   "metadata": {},
   "source": [
    "This code implements logistic regression using PySpark's MLlib for binary classification. In the training phase, a VectorAssembler combines relevant features into a single vector column, which is used as input for the LogisticRegression model. \n",
    "\n",
    "The model is trained to predict the imdbAverageRating_binary column, which represents the target variable. After training, the model evaluates performance on both the training and test datasets using PySpark's built-in evaluators for binary and multiclass classification, calculating metrics like Area Under the ROC Curve (AUC), accuracy, and F1 score.\n",
    "\n",
    "We defined that a target above 7 as a good IMDB Rating, and based on the other features we can confidently predict if the movie or tv series will succeed or not."
   ]
  },
  {
   "cell_type": "code",
   "execution_count": 49,
   "id": "323338ce-cf7b-4687-847b-7389ebae78a8",
   "metadata": {},
   "outputs": [
    {
     "name": "stderr",
     "output_type": "stream",
     "text": [
      "24/11/19 20:30:59 WARN InstanceBuilder: Failed to load implementation from:dev.ludovic.netlib.blas.JNIBLAS\n",
      "24/11/19 20:30:59 WARN InstanceBuilder: Failed to load implementation from:dev.ludovic.netlib.blas.VectorBLAS\n",
      "                                                                                \r"
     ]
    }
   ],
   "source": [
    "from pyspark.ml.classification import LogisticRegression\n",
    "from pyspark.ml.feature import VectorAssembler\n",
    "\n",
    "feature_columns = [col for col in train_data.columns if col != \"imdbAverageRating_binary\"]\n",
    "assembler = VectorAssembler(inputCols=feature_columns, outputCol=\"features\")\n",
    "train_data_assembled = assembler.transform(train_data)\n",
    "lr = LogisticRegression(featuresCol=\"features\", labelCol=\"imdbAverageRating_binary\")\n",
    "lr_model = lr.fit(train_data_assembled)"
   ]
  },
  {
   "cell_type": "code",
   "execution_count": 50,
   "id": "d18c27c7-3a2d-4320-b289-6a1973a437c8",
   "metadata": {},
   "outputs": [
    {
     "name": "stderr",
     "output_type": "stream",
     "text": [
      "[Stage 2086:>                                                       (0 + 2) / 2]\r"
     ]
    },
    {
     "name": "stdout",
     "output_type": "stream",
     "text": [
      "Training Data Evaluation Metrics:\n",
      "Area Under ROC (AUC): 0.8017687638021972\n",
      "Accuracy: 0.763183947278987\n",
      "F1 Score: 0.7467663680112528\n"
     ]
    },
    {
     "name": "stderr",
     "output_type": "stream",
     "text": [
      "                                                                                \r"
     ]
    }
   ],
   "source": [
    "from pyspark.ml.evaluation import BinaryClassificationEvaluator, MulticlassClassificationEvaluator\n",
    "\n",
    "train_predictions = lr_model.transform(train_data_assembled)\n",
    "binary_evaluator = BinaryClassificationEvaluator(labelCol=\"imdbAverageRating_binary\", metricName=\"areaUnderROC\")\n",
    "multiclass_evaluator = MulticlassClassificationEvaluator(labelCol=\"imdbAverageRating_binary\")\n",
    "\n",
    "train_auc = binary_evaluator.evaluate(train_predictions)\n",
    "train_accuracy = multiclass_evaluator.evaluate(train_predictions, {multiclass_evaluator.metricName: \"accuracy\"})\n",
    "train_f1_score = multiclass_evaluator.evaluate(train_predictions, {multiclass_evaluator.metricName: \"f1\"})\n",
    "\n",
    "print(\"Training Data Evaluation Metrics:\")\n",
    "print(\"Area Under ROC (AUC):\", train_auc)\n",
    "print(\"Accuracy:\", train_accuracy)\n",
    "print(\"F1 Score:\", train_f1_score)"
   ]
  },
  {
   "cell_type": "code",
   "execution_count": 51,
   "id": "6a7cb457-d891-4a0d-9b6e-362e1637fc8e",
   "metadata": {},
   "outputs": [],
   "source": [
    "# Assuming test_data contains the same columns as train_data\n",
    "feature_columns = [col for col in test_data.columns if col != \"imdbAverageRating_binary\"]\n",
    "assembler = VectorAssembler(inputCols=feature_columns, outputCol=\"features\")\n",
    "test_data_assembled = assembler.transform(test_data)"
   ]
  },
  {
   "cell_type": "code",
   "execution_count": 52,
   "id": "02841cfe-c9d2-4940-ae5e-4278fe25c412",
   "metadata": {},
   "outputs": [
    {
     "name": "stderr",
     "output_type": "stream",
     "text": [
      "[Stage 2344:>                                                       (0 + 2) / 2]\r"
     ]
    },
    {
     "name": "stdout",
     "output_type": "stream",
     "text": [
      "\n",
      "Test Data Evaluation Metrics:\n",
      "Area Under ROC (AUC): 0.8003467159343386\n",
      "Accuracy: 0.7679890397903264\n",
      "F1 Score: 0.7524653512764613\n"
     ]
    },
    {
     "name": "stderr",
     "output_type": "stream",
     "text": [
      "                                                                                \r"
     ]
    }
   ],
   "source": [
    "# Making predictions on the test data (already done earlier, but repeated here for clarity)\n",
    "test_predictions = lr_model.transform(test_data_assembled)\n",
    "\n",
    "# Evaluating metrics for the test data\n",
    "test_auc = binary_evaluator.evaluate(test_predictions)\n",
    "test_accuracy = multiclass_evaluator.evaluate(test_predictions, {multiclass_evaluator.metricName: \"accuracy\"})\n",
    "test_f1_score = multiclass_evaluator.evaluate(test_predictions, {multiclass_evaluator.metricName: \"f1\"})\n",
    "\n",
    "print(\"\\nTest Data Evaluation Metrics:\")\n",
    "print(\"Area Under ROC (AUC):\", test_auc)\n",
    "print(\"Accuracy:\", test_accuracy)\n",
    "print(\"F1 Score:\", test_f1_score)"
   ]
  },
  {
   "cell_type": "markdown",
   "id": "f63f1c3b",
   "metadata": {},
   "source": [
    "The model appears to predict well with the data that it's given."
   ]
  },
  {
   "cell_type": "markdown",
   "id": "aa5ff8d9-6b7e-4a46-8461-f19412f1b11f",
   "metadata": {},
   "source": [
    "### Evaluation"
   ]
  },
  {
   "cell_type": "code",
   "execution_count": 53,
   "id": "2e19c064-ca1a-413d-bf19-0bf2781d55cb",
   "metadata": {},
   "outputs": [
    {
     "name": "stderr",
     "output_type": "stream",
     "text": [
      "                                                                                \r"
     ]
    },
    {
     "data": {
      "text/plain": [
       "<Figure size 600x400 with 0 Axes>"
      ]
     },
     "execution_count": 53,
     "metadata": {},
     "output_type": "execute_result"
    },
    {
     "data": {
      "text/plain": [
       "<Axes: xlabel='prediction', ylabel='imdbAverageRating_binary'>"
      ]
     },
     "execution_count": 53,
     "metadata": {},
     "output_type": "execute_result"
    },
    {
     "data": {
      "text/plain": [
       "Text(0.5, 14.722222222222216, 'Predicted')"
      ]
     },
     "execution_count": 53,
     "metadata": {},
     "output_type": "execute_result"
    },
    {
     "data": {
      "text/plain": [
       "Text(45.722222222222214, 0.5, 'Actual')"
      ]
     },
     "execution_count": 53,
     "metadata": {},
     "output_type": "execute_result"
    },
    {
     "data": {
      "text/plain": [
       "Text(0.5, 1.0, 'Confusion Matrix for Test Data')"
      ]
     },
     "execution_count": 53,
     "metadata": {},
     "output_type": "execute_result"
    },
    {
     "data": {
      "image/png": "[encoded data removed]",
      "text/plain": [
       "<Figure size 600x400 with 1 Axes>"
      ]
     },
     "metadata": {},
     "output_type": "display_data"
    }
   ],
   "source": [
    "import matplotlib.pyplot as plt\n",
    "import pandas as pd\n",
    "import seaborn as sns\n",
    "\n",
    "# Confusion Matrix\n",
    "conf_matrix_df = test_predictions.groupBy(\"imdbAverageRating_binary\", \"prediction\").count().toPandas()\n",
    "conf_matrix = pd.crosstab(conf_matrix_df[\"imdbAverageRating_binary\"], conf_matrix_df[\"prediction\"], values=conf_matrix_df[\"count\"], aggfunc=\"sum\").fillna(0)\n",
    "\n",
    "# Plotting the Confusion Matrix as a Heatmap\n",
    "plt.figure(figsize=(6, 4))\n",
    "sns.heatmap(conf_matrix, annot=True, fmt=\"g\", cmap=\"Blues\", cbar=False)\n",
    "plt.xlabel(\"Predicted\")\n",
    "plt.ylabel(\"Actual\")\n",
    "plt.title(\"Confusion Matrix for Test Data\")\n",
    "plt.show()"
   ]
  },
  {
   "cell_type": "code",
   "execution_count": 54,
   "id": "0b523577-792d-4d28-bc9b-0e8323f333f6",
   "metadata": {},
   "outputs": [
    {
     "name": "stderr",
     "output_type": "stream",
     "text": [
      "                                                                                \r"
     ]
    },
    {
     "data": {
      "text/plain": [
       "<Figure size 800x600 with 0 Axes>"
      ]
     },
     "execution_count": 54,
     "metadata": {},
     "output_type": "execute_result"
    },
    {
     "name": "stderr",
     "output_type": "stream",
     "text": [
      "                                                                                \r"
     ]
    },
    {
     "data": {
      "text/plain": [
       "[<matplotlib.lines.Line2D at 0xffff33b13590>]"
      ]
     },
     "execution_count": 54,
     "metadata": {},
     "output_type": "execute_result"
    },
    {
     "data": {
      "text/plain": [
       "[<matplotlib.lines.Line2D at 0xffff332e00d0>]"
      ]
     },
     "execution_count": 54,
     "metadata": {},
     "output_type": "execute_result"
    },
    {
     "data": {
      "text/plain": [
       "Text(0.5, 0, 'False Positive Rate')"
      ]
     },
     "execution_count": 54,
     "metadata": {},
     "output_type": "execute_result"
    },
    {
     "data": {
      "text/plain": [
       "Text(0, 0.5, 'True Positive Rate')"
      ]
     },
     "execution_count": 54,
     "metadata": {},
     "output_type": "execute_result"
    },
    {
     "data": {
      "text/plain": [
       "Text(0.5, 1.0, 'ROC Curve for Test Data')"
      ]
     },
     "execution_count": 54,
     "metadata": {},
     "output_type": "execute_result"
    },
    {
     "data": {
      "text/plain": [
       "<matplotlib.legend.Legend at 0xffff51172590>"
      ]
     },
     "execution_count": 54,
     "metadata": {},
     "output_type": "execute_result"
    },
    {
     "data": {
      "image/png": "[encoded data removed]",
      "text/plain": [
       "<Figure size 800x600 with 1 Axes>"
      ]
     },
     "metadata": {},
     "output_type": "display_data"
    }
   ],
   "source": [
    "# Using BinaryClassificationEvaluator to get the raw predictions and labels\n",
    "evaluator = BinaryClassificationEvaluator(labelCol=\"type\", rawPredictionCol=\"probability\", metricName=\"areaUnderROC\")\n",
    "\n",
    "# Extracting the true positive and false positive rates at different thresholds\n",
    "roc = lr_model.summary.roc.toPandas()  # Converts the ROC to a Pandas DataFrame for easy plotting\n",
    "\n",
    "#Plotting the curve\n",
    "plt.figure(figsize=(8, 6))\n",
    "plt.plot(roc['FPR'], roc['TPR'], color=\"darkorange\", lw=2, label=\"ROC curve (area = %0.2f)\" % evaluator.evaluate(test_predictions))\n",
    "plt.plot([0, 1], [0, 1], color=\"navy\", lw=2, linestyle=\"--\")\n",
    "plt.xlabel(\"False Positive Rate\")\n",
    "plt.ylabel(\"True Positive Rate\")\n",
    "plt.title(\"ROC Curve for Test Data\")\n",
    "plt.legend(loc=\"lower right\")\n",
    "plt.show()"
   ]
  },
  {
   "cell_type": "markdown",
   "id": "f08fb7f7",
   "metadata": {},
   "source": [
    "The Evaluation metrics using PySpark MLlib appear to show a model of good quality that accurately predicts if a movie or tv series will succeed."
   ]
  },
  {
   "cell_type": "markdown",
   "id": "c5deebab-46b5-42f6-a73a-70d29a003e4c",
   "metadata": {
    "jp-MarkdownHeadingCollapsed": true
   },
   "source": [
    "## Linear Regression (Predict Future IMDB Scores)"
   ]
  },
  {
   "cell_type": "markdown",
   "id": "e5f641c0",
   "metadata": {},
   "source": [
    "This code uses PySpark's MLlib to implement a linear regression model for predicting the imdbAverageRating based on various features from the dataset. First, it combines relevant features into a vector using a VectorAssembler and trains the model on the assembled training data. The model's performance is evaluated on the test dataset using metrics like Root Mean Square Error (RMSE) and R-squared (R²), which measure prediction accuracy and how well the model explains variability in the target. For a company assisting streaming services, this model could predict the future popularity or rating of content based on features like viewership metrics, production attributes, or audience engagement, enabling strategic decisions such as prioritizing content acquisition or optimizing recommendations."
   ]
  },
  {
   "cell_type": "markdown",
   "id": "488918fc-16c0-4d5f-8f36-19b37a5fee25",
   "metadata": {},
   "source": [
    "### Regression specific data cleaning"
   ]
  },
  {
   "cell_type": "code",
   "execution_count": 55,
   "id": "e528f200-10be-40fe-bd7c-3bac4e75f4e3",
   "metadata": {},
   "outputs": [],
   "source": [
    "all_data_linear_regression = all_data_final"
   ]
  },
  {
   "cell_type": "code",
   "execution_count": 56,
   "id": "d510a0d4-04c6-4e86-afe1-b39f9ee70e88",
   "metadata": {},
   "outputs": [
    {
     "name": "stdout",
     "output_type": "stream",
     "text": [
      "root\n",
      " |-- type: integer (nullable = false)\n",
      " |-- imdbAverageRating: integer (nullable = true)\n",
      " |-- imdbNumVotes: double (nullable = true)\n",
      " |-- NumberOfCountries: integer (nullable = false)\n",
      " |--  Action: integer (nullable = true)\n",
      " |--  Action & Adventure: integer (nullable = true)\n",
      " |--  Adventure: integer (nullable = true)\n",
      " |--  Animation: integer (nullable = true)\n",
      " |--  Biography: integer (nullable = true)\n",
      " |--  Comedy: integer (nullable = true)\n",
      " |--  Crime: integer (nullable = true)\n",
      " |--  Documentary: integer (nullable = true)\n",
      " |--  Drama: integer (nullable = true)\n",
      " |--  Family: integer (nullable = true)\n",
      " |--  Fantasy: integer (nullable = true)\n",
      " |--  Film-Noir: integer (nullable = true)\n",
      " |--  Game-Show: integer (nullable = true)\n",
      " |--  History: integer (nullable = true)\n",
      " |--  Horror: integer (nullable = true)\n",
      " |--  Kids: integer (nullable = true)\n",
      " |--  Music: integer (nullable = true)\n",
      " |--  Musical: integer (nullable = true)\n",
      " |--  Mystery: integer (nullable = true)\n",
      " |--  News: integer (nullable = true)\n",
      " |--  Reality: integer (nullable = true)\n",
      " |--  Reality-TV: integer (nullable = true)\n",
      " |--  Romance: integer (nullable = true)\n",
      " |--  Sci-Fi: integer (nullable = true)\n",
      " |--  Short: integer (nullable = true)\n",
      " |--  Soap: integer (nullable = true)\n",
      " |--  Sport: integer (nullable = true)\n",
      " |--  TV Movie: integer (nullable = true)\n",
      " |--  Talk-Show: integer (nullable = true)\n",
      " |--  Thriller: integer (nullable = true)\n",
      " |--  War: integer (nullable = true)\n",
      " |--  Western: integer (nullable = true)\n",
      " |-- Action: integer (nullable = true)\n",
      " |-- Adult: integer (nullable = true)\n",
      " |-- Adventure: integer (nullable = true)\n",
      " |-- Animation: integer (nullable = true)\n",
      " |-- Biography: integer (nullable = true)\n",
      " |-- Comedy: integer (nullable = true)\n",
      " |-- Crime: integer (nullable = true)\n",
      " |-- Documentary: integer (nullable = true)\n",
      " |-- Drama: integer (nullable = true)\n",
      " |-- Family: integer (nullable = true)\n",
      " |-- Fantasy: integer (nullable = true)\n",
      " |-- Film-Noir: integer (nullable = true)\n",
      " |-- Game-Show: integer (nullable = true)\n",
      " |-- History: integer (nullable = true)\n",
      " |-- Horror: integer (nullable = true)\n",
      " |-- Kids: integer (nullable = true)\n",
      " |-- Music: integer (nullable = true)\n",
      " |-- Musical: integer (nullable = true)\n",
      " |-- Mystery: integer (nullable = true)\n",
      " |-- News: integer (nullable = true)\n",
      " |-- Reality: integer (nullable = true)\n",
      " |-- Reality-TV: integer (nullable = true)\n",
      " |-- Romance: integer (nullable = true)\n",
      " |-- Sci-Fi: integer (nullable = true)\n",
      " |-- Science Fiction: integer (nullable = true)\n",
      " |-- Short: integer (nullable = true)\n",
      " |-- Sport: integer (nullable = true)\n",
      " |-- Talk-Show: integer (nullable = true)\n",
      " |-- Thriller: integer (nullable = true)\n",
      " |-- War: integer (nullable = true)\n",
      " |-- Western: integer (nullable = true)\n",
      " |-- Amazon: integer (nullable = true)\n",
      " |-- AppleTV: integer (nullable = true)\n",
      " |-- HBO: integer (nullable = true)\n",
      " |-- Hulu: integer (nullable = true)\n",
      " |-- Netflix: integer (nullable = true)\n",
      "\n"
     ]
    }
   ],
   "source": [
    "# Updating the DataFrame with the modified column type\n",
    "all_data_linear_regression = all_data_linear_regression.withColumn(\"imdbAverageRating\", all_data_linear_regression[\"imdbAverageRating\"].cast(\"integer\"))\n",
    "\n",
    "# Verifying the schema change\n",
    "all_data_linear_regression.printSchema()"
   ]
  },
  {
   "cell_type": "markdown",
   "id": "c44bcdfc-92c8-488a-9216-264c329dde4b",
   "metadata": {},
   "source": [
    "### Train Test Split"
   ]
  },
  {
   "cell_type": "code",
   "execution_count": 57,
   "id": "4d00810d-6d25-4f94-9c0f-6b0793f00ec2",
   "metadata": {},
   "outputs": [
    {
     "name": "stderr",
     "output_type": "stream",
     "text": [
      "                                                                                \r"
     ]
    },
    {
     "name": "stdout",
     "output_type": "stream",
     "text": [
      "Training Data Count: 67677\n"
     ]
    },
    {
     "name": "stderr",
     "output_type": "stream",
     "text": [
      "[Stage 2763:>                                                       (0 + 2) / 2]\r"
     ]
    },
    {
     "name": "stdout",
     "output_type": "stream",
     "text": [
      "Test Data Count: 16788\n"
     ]
    },
    {
     "name": "stderr",
     "output_type": "stream",
     "text": [
      "                                                                                \r"
     ]
    }
   ],
   "source": [
    "train_data, test_data = all_data_linear_regression.randomSplit([0.8, 0.2], seed=42)\n",
    "\n",
    "print(\"Training Data Count:\", train_data.count())\n",
    "print(\"Test Data Count:\", test_data.count())"
   ]
  },
  {
   "cell_type": "markdown",
   "id": "38bc6a21-65ed-4d9b-9d31-01a43e18508d",
   "metadata": {},
   "source": [
    "### Training"
   ]
  },
  {
   "cell_type": "code",
   "execution_count": 58,
   "id": "78077a2e-8649-46d4-9c98-faf0f173a77f",
   "metadata": {},
   "outputs": [
    {
     "name": "stderr",
     "output_type": "stream",
     "text": [
      "24/11/19 20:32:50 WARN Instrumentation: [02f68b4f] regParam is zero, which might cause numerical instability and overfitting.\n",
      "24/11/19 20:32:52 WARN InstanceBuilder: Failed to load implementation from:dev.ludovic.netlib.lapack.JNILAPACK\n",
      "[Stage 3040:>                                                       (0 + 2) / 2]\r"
     ]
    },
    {
     "name": "stdout",
     "output_type": "stream",
     "text": [
      "Test RMSE for the Linear Regression model on the IMDB Average Rating: 1.0582683781780327\n"
     ]
    },
    {
     "name": "stderr",
     "output_type": "stream",
     "text": [
      "                                                                                \r"
     ]
    }
   ],
   "source": [
    "from pyspark.ml.regression import LinearRegression\n",
    "from pyspark.ml.feature import VectorAssembler\n",
    "from pyspark.ml.evaluation import RegressionEvaluator\n",
    "\n",
    "# Assembling feature columns into a single vector\n",
    "feature_columns_lr = [col for col in train_data.columns if col != \"imdbAverageRating\"]\n",
    "assembler_lr = VectorAssembler(inputCols=feature_columns_lr, outputCol=\"features_lr\")\n",
    "train_data_assembled_lr = assembler_lr.transform(train_data)\n",
    "\n",
    "# Defining a new Linear Regression model with \"scaled_imdbAverageRating\" as the target\n",
    "lr_regression = LinearRegression(featuresCol=\"features_lr\", labelCol=\"imdbAverageRating\")\n",
    "\n",
    "lr_regression_model = lr_regression.fit(train_data_assembled_lr)\n",
    "test_data_assembled_lr = assembler_lr.transform(test_data)\n",
    "test_predictions_regression = lr_regression_model.transform(test_data_assembled_lr)\n",
    "\n",
    "regression_evaluator = RegressionEvaluator(labelCol=\"imdbAverageRating\", predictionCol=\"prediction\", metricName=\"rmse\")\n",
    "test_rmse = regression_evaluator.evaluate(test_predictions_regression)\n",
    "\n",
    "print(\"Test RMSE for the Linear Regression model on the IMDB Average Rating:\", test_rmse)\n"
   ]
  },
  {
   "cell_type": "code",
   "execution_count": 59,
   "id": "abaff5ce-fc70-43f8-a5cb-0cfa5ec5c184",
   "metadata": {},
   "outputs": [
    {
     "name": "stderr",
     "output_type": "stream",
     "text": [
      "[Stage 3109:>                                                       (0 + 2) / 2]\r"
     ]
    },
    {
     "name": "stdout",
     "output_type": "stream",
     "text": [
      "Test R-squared for the Linear Regression model on imdbAverageRating: 0.32265527502736213\n"
     ]
    },
    {
     "name": "stderr",
     "output_type": "stream",
     "text": [
      "                                                                                \r"
     ]
    }
   ],
   "source": [
    "from pyspark.ml.evaluation import RegressionEvaluator\n",
    "\n",
    "# Making predictions on the test data using the linear regression model\n",
    "test_predictions_regression = lr_regression_model.transform(test_data_assembled_lr)\n",
    "\n",
    "# Evaluating the R-squared metric for the linear regression model on the test data\n",
    "r2_evaluator = RegressionEvaluator(labelCol=\"imdbAverageRating\", predictionCol=\"prediction\", metricName=\"r2\")\n",
    "test_r2 = r2_evaluator.evaluate(test_predictions_regression)\n",
    "\n",
    "print(\"Test R-squared for the Linear Regression model on imdbAverageRating:\", test_r2)"
   ]
  },
  {
   "cell_type": "markdown",
   "id": "3727857b-992c-40a8-9304-a77c50da1b68",
   "metadata": {},
   "source": [
    "### Evaluation"
   ]
  },
  {
   "cell_type": "code",
   "execution_count": 60,
   "id": "c406cbaa-c84a-41a0-95db-89d32a7bb3a4",
   "metadata": {},
   "outputs": [
    {
     "name": "stderr",
     "output_type": "stream",
     "text": [
      "[Stage 3178:>                                                       (0 + 1) / 1]\r"
     ]
    },
    {
     "name": "stdout",
     "output_type": "stream",
     "text": [
      "+-------------+-----------------+\n",
      "|company_label|       prediction|\n",
      "+-------------+-----------------+\n",
      "|       Amazon|6.603663093093163|\n",
      "|      Netflix|6.494456529818574|\n",
      "|      Netflix|6.897696965438754|\n",
      "|       Amazon|6.895604762098406|\n",
      "|       Amazon|6.273334142062085|\n",
      "+-------------+-----------------+\n",
      "only showing top 5 rows\n",
      "\n"
     ]
    },
    {
     "name": "stderr",
     "output_type": "stream",
     "text": [
      "                                                                                \r"
     ]
    }
   ],
   "source": [
    "next_netflix_data = test_data.filter(col(\"Netflix\") == 1)\n",
    "next_netflix_data_assembled = assembler_lr.transform(next_netflix_data)\n",
    "next_netflix_predictions = lr_regression_model.transform(next_netflix_data_assembled)\n",
    "next_netflix_predictions = next_netflix_predictions.withColumn(\n",
    "    \"company_label\",\n",
    "    when(next_netflix_predictions[\"Amazon\"] == 1, \"Amazon\")\n",
    "    .when(next_netflix_predictions[\"AppleTV\"] == 1, \"AppleTV\")\n",
    "    .when(next_netflix_predictions[\"Netflix\"] == 1, \"Netflix\")\n",
    "    .when(next_netflix_predictions[\"HBO\"] == 1, \"HBO\")\n",
    "    .when(next_netflix_predictions[\"Hulu\"] == 1, \"Hulu\")\n",
    ")\n",
    "\n",
    "next_netflix_predictions.select(\"company_label\", \"prediction\").show(5)"
   ]
  },
  {
   "cell_type": "code",
   "execution_count": 61,
   "id": "8a38a11d-08e6-4764-bf99-aa6aeffe655f",
   "metadata": {},
   "outputs": [
    {
     "name": "stderr",
     "output_type": "stream",
     "text": [
      "                                                                                \r"
     ]
    },
    {
     "data": {
      "text/plain": [
       "<Figure size 1000x600 with 0 Axes>"
      ]
     },
     "execution_count": 61,
     "metadata": {},
     "output_type": "execute_result"
    },
    {
     "data": {
      "text/plain": [
       "<matplotlib.collections.PathCollection at 0xffff332e1ad0>"
      ]
     },
     "execution_count": 61,
     "metadata": {},
     "output_type": "execute_result"
    },
    {
     "data": {
      "text/plain": [
       "[<matplotlib.lines.Line2D at 0xffff332df750>]"
      ]
     },
     "execution_count": 61,
     "metadata": {},
     "output_type": "execute_result"
    },
    {
     "data": {
      "text/plain": [
       "Text(0.5, 0, 'Actual IMDb Average Rating')"
      ]
     },
     "execution_count": 61,
     "metadata": {},
     "output_type": "execute_result"
    },
    {
     "data": {
      "text/plain": [
       "Text(0, 0.5, 'Predicted IMDb Average Rating')"
      ]
     },
     "execution_count": 61,
     "metadata": {},
     "output_type": "execute_result"
    },
    {
     "data": {
      "text/plain": [
       "Text(0.5, 1.0, 'Actual vs Predicted IMDb Average Rating (Spark)')"
      ]
     },
     "execution_count": 61,
     "metadata": {},
     "output_type": "execute_result"
    },
    {
     "data": {
      "image/png": "[encoded data removed]",
      "text/plain": [
       "<Figure size 1000x600 with 1 Axes>"
      ]
     },
     "metadata": {},
     "output_type": "display_data"
    }
   ],
   "source": [
    "import matplotlib.pyplot as plt\n",
    "from pyspark.sql import functions as F\n",
    "\n",
    "predictions_df = next_netflix_predictions.withColumnRenamed(\"imdbAverageRating\", \"Actual\") \\\n",
    "                                         .withColumnRenamed(\"prediction\", \"Predicted\")\n",
    "\n",
    "predictions_pdf = predictions_df.select(\"Actual\", \"Predicted\").toPandas()\n",
    "\n",
    "plt.figure(figsize=(10, 6))\n",
    "plt.scatter(predictions_pdf[\"Actual\"], predictions_pdf[\"Predicted\"], alpha=0.5, color=\"b\")\n",
    "plt.plot([0, 10], [0, 10], color=\"r\", linestyle=\"--\")  # Diagonal reference line for perfect prediction\n",
    "plt.xlabel(\"Actual IMDb Average Rating\")\n",
    "plt.ylabel(\"Predicted IMDb Average Rating\")\n",
    "plt.title(\"Actual vs Predicted IMDb Average Rating (Spark)\")\n",
    "plt.show()"
   ]
  },
  {
   "cell_type": "markdown",
   "id": "f373d71c-23f5-4fed-be25-905536057c83",
   "metadata": {},
   "source": [
    "In this section, we will further prepare the data by applying one-hot encoding (OHE) for categorical variables, standard scaling for numerical features, and performing a train-test split. By training a predictive model, we aim to assist Netflix in identifying which content genres they should prioritize next, based on historical data"
   ]
  },
  {
   "attachments": {},
   "cell_type": "markdown",
   "id": "64602b69-62a7-46b7-8d33-fdda77e78158",
   "metadata": {
    "jp-MarkdownHeadingCollapsed": true
   },
   "source": [
    "## Logistic Regression (Predict Type of Content (Movie or TV Series) based on features)"
   ]
  },
  {
   "cell_type": "markdown",
   "id": "fb44be74",
   "metadata": {},
   "source": [
    "We decided not to use this regression as it didn't address the main business problems that we prioritized, although it is predicting with very high accuracy if the content is a movie or a TV Series based on the different features. (Could be used in the future)"
   ]
  },
  {
   "cell_type": "markdown",
   "id": "8f56ac58-6f3f-4e3b-ae4e-6a405deb79cf",
   "metadata": {},
   "source": [
    "### Scalling numerical columns"
   ]
  },
  {
   "cell_type": "code",
   "execution_count": 62,
   "id": "f0f38c0b-0a21-47e2-b474-e3ea383fbee6",
   "metadata": {},
   "outputs": [
    {
     "name": "stderr",
     "output_type": "stream",
     "text": [
      "[Stage 3400:>                                                       (0 + 1) / 1]\r"
     ]
    },
    {
     "name": "stdout",
     "output_type": "stream",
     "text": [
      "+------------------------+--------------------+------------------------+\n",
      "|scaled_imdbAverageRating| scaled_imdbNumVotes|scaled_NumberOfCountries|\n",
      "+------------------------+--------------------+------------------------+\n",
      "|     -2.0746493129626202|-0.22281539221780672|     -0.3037002610787707|\n",
      "|     -0.5535295005394495|-0.25116137521853243|    -0.37521547546659284|\n",
      "|     -1.4341778029488959| -0.2459252774932417|    -0.44673068985441505|\n",
      "|     0.40717805079423025| -0.2061596952531905|       4.058727816578383|\n",
      "|      -0.393411384441774| -0.2460521619292342|      1.1981192410654955|\n",
      "|       -2.55500308862946| -0.2415096991207025|    -0.44673068985441505|\n",
      "|      0.9675905027591167| -0.2459506543804402|    -0.44673068985441505|\n",
      "|      0.9675905027591167| -0.2459506543804402|    -0.44673068985441505|\n",
      "|      0.3271188018699969|-0.24485098926850515|       3.272060458312339|\n",
      "|      0.6473546523145568|-0.25158432333850744|    -0.37521547546659284|\n",
      "|      0.6473546523145568|-0.25158432333850744|    -0.44673068985441505|\n",
      "|     -1.4341778029488959| -0.2481584435667098|     0.19690623963598472|\n",
      "|     -1.0338830853308938|-0.24698264779317924|     0.08963341805425143|\n",
      "|      1.3678852203771188|-0.24943574688903433|     0.23266384682989583|\n",
      "|      1.3678852203771188| -0.2515927823009069|    -0.37521547546659284|\n",
      "|     -0.5535295005394495|-0.24089219486553898|      -0.410973082660504|\n",
      "|     -0.3133525172683318| -0.2482684100779033|      -0.410973082660504|\n",
      "|       0.727413519487999|-0.25171120777449996|    -0.44673068985441505|\n",
      "|     -0.7136472348863339| -0.2511021624817359|    -0.44673068985441505|\n",
      "|       0.727413519487999| 0.27023214916187077|       1.376907277035051|\n",
      "+------------------------+--------------------+------------------------+\n",
      "only showing top 20 rows\n",
      "\n"
     ]
    },
    {
     "name": "stderr",
     "output_type": "stream",
     "text": [
      "                                                                                \r"
     ]
    }
   ],
   "source": [
    "from pyspark.ml.feature import VectorAssembler, StandardScaler\n",
    "from pyspark.sql import SparkSession\n",
    "\n",
    "# Initializing SparkSession\n",
    "spark = SparkSession.builder.appName(\"Scaling\").getOrCreate()\n",
    "\n",
    "\n",
    "assembler = VectorAssembler(\n",
    "    inputCols=[\"imdbAverageRating\", \"imdbNumVotes\", \"NumberOfCountries\"],\n",
    "    outputCol=\"features\"\n",
    ")\n",
    "scaled_data_df = assembler.transform(all_data_final)\n",
    "\n",
    "# Applying StandardScaler\n",
    "scaler = StandardScaler(inputCol=\"features\", outputCol=\"scaled_features\", withMean=True, withStd=True)\n",
    "scaler_model = scaler.fit(scaled_data_df)\n",
    "scaled_data_df = scaler_model.transform(scaled_data_df)\n",
    "\n",
    "from pyspark.ml.functions import vector_to_array\n",
    "scaled_data_df = scaled_data_df.withColumn(\"scaled_features_array\", vector_to_array(\"scaled_features\"))\n",
    "scaled_data_df = scaled_data_df.withColumn(\"scaled_imdbAverageRating\", scaled_data_df[\"scaled_features_array\"][0]) \\\n",
    "                               .withColumn(\"scaled_imdbNumVotes\", scaled_data_df[\"scaled_features_array\"][1]) \\\n",
    "                               .withColumn(\"scaled_NumberOfCountries\", scaled_data_df[\"scaled_features_array\"][2])\n",
    "\n",
    "scaled_data_df.select(\"scaled_imdbAverageRating\", \"scaled_imdbNumVotes\", \"scaled_NumberOfCountries\").show()\n",
    "scaled_data_df = scaled_data_df.drop(\"imdbAverageRating\", \"imdbNumVotes\", \"NumberOfCountries\", \"scaled_features\", \"scaled_features_array\", \"features\")"
   ]
  },
  {
   "cell_type": "markdown",
   "id": "cf59887c-ad4f-4813-a429-279aff7ef591",
   "metadata": {},
   "source": [
    "### Train Test Split"
   ]
  },
  {
   "cell_type": "code",
   "execution_count": 63,
   "id": "aadb291f-4964-49c8-a73c-eb09ada6038e",
   "metadata": {},
   "outputs": [
    {
     "name": "stderr",
     "output_type": "stream",
     "text": [
      "                                                                                \r"
     ]
    },
    {
     "name": "stdout",
     "output_type": "stream",
     "text": [
      "Training Data Count: 67677\n"
     ]
    },
    {
     "name": "stderr",
     "output_type": "stream",
     "text": [
      "[Stage 3553:>                                                       (0 + 2) / 2]\r"
     ]
    },
    {
     "name": "stdout",
     "output_type": "stream",
     "text": [
      "Test Data Count: 16788\n"
     ]
    },
    {
     "name": "stderr",
     "output_type": "stream",
     "text": [
      "                                                                                \r"
     ]
    }
   ],
   "source": [
    "# Performing an 80/20 split on the DataFrame\n",
    "train_data, test_data = scaled_data_df.randomSplit([0.8, 0.2], seed=42)\n",
    "\n",
    "print(\"Training Data Count:\", train_data.count())\n",
    "print(\"Test Data Count:\", test_data.count())"
   ]
  },
  {
   "cell_type": "markdown",
   "id": "483de7c0-0dde-40a5-a973-a2172ff62e2b",
   "metadata": {},
   "source": [
    "### Training"
   ]
  },
  {
   "cell_type": "code",
   "execution_count": 64,
   "id": "dbf29c92-f13b-4f09-bdd1-83e694352cbb",
   "metadata": {},
   "outputs": [
    {
     "name": "stderr",
     "output_type": "stream",
     "text": [
      "                                                                                \r"
     ]
    }
   ],
   "source": [
    "from pyspark.ml.classification import LogisticRegression\n",
    "from pyspark.ml.feature import VectorAssembler\n",
    "\n",
    "# Assembling feature columns into a single vector\n",
    "feature_columns = [col for col in train_data.columns if col != \"type\"]\n",
    "assembler = VectorAssembler(inputCols=feature_columns, outputCol=\"features\")\n",
    "train_data_assembled = assembler.transform(train_data)\n",
    "\n",
    "# Defining the Logistic Regression model with \"type\" as the label\n",
    "lr = LogisticRegression(featuresCol=\"features\", labelCol=\"type\")\n",
    "\n",
    "# Fitting the model on the training data\n",
    "lr_model = lr.fit(train_data_assembled)"
   ]
  },
  {
   "cell_type": "code",
   "execution_count": 65,
   "id": "e500d1cd-8879-4826-8497-a210073d98b7",
   "metadata": {},
   "outputs": [
    {
     "name": "stderr",
     "output_type": "stream",
     "text": [
      "[Stage 4703:>                                                       (0 + 2) / 2]\r"
     ]
    },
    {
     "name": "stdout",
     "output_type": "stream",
     "text": [
      "Training Data Evaluation Metrics:\n",
      "Area Under ROC (AUC): 0.8876390107859565\n",
      "Accuracy: 0.8551206466007654\n",
      "F1 Score: 0.846918459144984\n"
     ]
    },
    {
     "name": "stderr",
     "output_type": "stream",
     "text": [
      "                                                                                \r"
     ]
    }
   ],
   "source": [
    "from pyspark.ml.evaluation import BinaryClassificationEvaluator, MulticlassClassificationEvaluator\n",
    "\n",
    "# Making predictions on the training data\n",
    "train_predictions = lr_model.transform(train_data_assembled)\n",
    "\n",
    "# Defining evaluators\n",
    "binary_evaluator = BinaryClassificationEvaluator(labelCol=\"type\", metricName=\"areaUnderROC\")\n",
    "multiclass_evaluator = MulticlassClassificationEvaluator(labelCol=\"type\")\n",
    "\n",
    "# Evaluating metrics for the training data\n",
    "train_auc = binary_evaluator.evaluate(train_predictions)\n",
    "train_accuracy = multiclass_evaluator.evaluate(train_predictions, {multiclass_evaluator.metricName: \"accuracy\"})\n",
    "train_f1_score = multiclass_evaluator.evaluate(train_predictions, {multiclass_evaluator.metricName: \"f1\"})\n",
    "\n",
    "# Print results for training data\n",
    "print(\"Training Data Evaluation Metrics:\")\n",
    "print(\"Area Under ROC (AUC):\", train_auc)\n",
    "print(\"Accuracy:\", train_accuracy)\n",
    "print(\"F1 Score:\", train_f1_score)"
   ]
  },
  {
   "cell_type": "code",
   "execution_count": 66,
   "id": "f881d5a7-b0e9-48b1-851f-d1bf81fe41e3",
   "metadata": {},
   "outputs": [],
   "source": [
    "# Assuming test_data contains the same columns as train_data\n",
    "feature_columns = [col for col in test_data.columns if col != \"type\"]\n",
    "assembler = VectorAssembler(inputCols=feature_columns, outputCol=\"features\")\n",
    "test_data_assembled = assembler.transform(test_data)"
   ]
  },
  {
   "cell_type": "code",
   "execution_count": 67,
   "id": "76ab63c9-0cbc-439d-a14b-3ba9518277a8",
   "metadata": {},
   "outputs": [
    {
     "name": "stderr",
     "output_type": "stream",
     "text": [
      "[Stage 4961:>                                                       (0 + 2) / 2]\r"
     ]
    },
    {
     "name": "stdout",
     "output_type": "stream",
     "text": [
      "\n",
      "Test Data Evaluation Metrics:\n",
      "Area Under ROC (AUC): 0.8929292064071015\n",
      "Accuracy: 0.8575768406004288\n",
      "F1 Score: 0.8490778816966102\n"
     ]
    },
    {
     "name": "stderr",
     "output_type": "stream",
     "text": [
      "                                                                                \r"
     ]
    }
   ],
   "source": [
    "# Making predictions on the test data (already done earlier, but repeated here for clarity)\n",
    "test_predictions = lr_model.transform(test_data_assembled)\n",
    "\n",
    "# Evaluating metrics for the test data\n",
    "test_auc = binary_evaluator.evaluate(test_predictions)\n",
    "test_accuracy = multiclass_evaluator.evaluate(test_predictions, {multiclass_evaluator.metricName: \"accuracy\"})\n",
    "test_f1_score = multiclass_evaluator.evaluate(test_predictions, {multiclass_evaluator.metricName: \"f1\"})\n",
    "\n",
    "print(\"\\nTest Data Evaluation Metrics:\")\n",
    "print(\"Area Under ROC (AUC):\", test_auc)\n",
    "print(\"Accuracy:\", test_accuracy)\n",
    "print(\"F1 Score:\", test_f1_score)"
   ]
  },
  {
   "cell_type": "markdown",
   "id": "2578917c-61f5-4092-a4dc-a30edf74581d",
   "metadata": {},
   "source": [
    "### Evaluation"
   ]
  },
  {
   "cell_type": "code",
   "execution_count": 68,
   "id": "701fc4c7-fc02-4ebc-8482-0a6b59a2f4fc",
   "metadata": {},
   "outputs": [
    {
     "name": "stderr",
     "output_type": "stream",
     "text": [
      "                                                                                \r"
     ]
    },
    {
     "data": {
      "text/plain": [
       "<Figure size 600x400 with 0 Axes>"
      ]
     },
     "execution_count": 68,
     "metadata": {},
     "output_type": "execute_result"
    },
    {
     "data": {
      "text/plain": [
       "<Axes: xlabel='prediction', ylabel='type'>"
      ]
     },
     "execution_count": 68,
     "metadata": {},
     "output_type": "execute_result"
    },
    {
     "data": {
      "text/plain": [
       "Text(0.5, 14.722222222222216, 'Predicted')"
      ]
     },
     "execution_count": 68,
     "metadata": {},
     "output_type": "execute_result"
    },
    {
     "data": {
      "text/plain": [
       "Text(45.722222222222214, 0.5, 'Actual')"
      ]
     },
     "execution_count": 68,
     "metadata": {},
     "output_type": "execute_result"
    },
    {
     "data": {
      "text/plain": [
       "Text(0.5, 1.0, 'Confusion Matrix for Test Data')"
      ]
     },
     "execution_count": 68,
     "metadata": {},
     "output_type": "execute_result"
    },
    {
     "data": {
      "image/png": "[encoded data removed]",
      "text/plain": [
       "<Figure size 600x400 with 1 Axes>"
      ]
     },
     "metadata": {},
     "output_type": "display_data"
    }
   ],
   "source": [
    "import matplotlib.pyplot as plt\n",
    "import pandas as pd\n",
    "import seaborn as sns\n",
    "\n",
    "# Confusion Matrix\n",
    "conf_matrix_df = test_predictions.groupBy(\"type\", \"prediction\").count().toPandas()\n",
    "conf_matrix = pd.crosstab(conf_matrix_df[\"type\"], conf_matrix_df[\"prediction\"], values=conf_matrix_df[\"count\"], aggfunc=\"sum\").fillna(0)\n",
    "\n",
    "# Plotting the Confusion Matrix as a Heatmap\n",
    "plt.figure(figsize=(6, 4))\n",
    "sns.heatmap(conf_matrix, annot=True, fmt=\"g\", cmap=\"Blues\", cbar=False)\n",
    "plt.xlabel(\"Predicted\")\n",
    "plt.ylabel(\"Actual\")\n",
    "plt.title(\"Confusion Matrix for Test Data\")\n",
    "plt.show()\n"
   ]
  },
  {
   "cell_type": "code",
   "execution_count": 69,
   "id": "c7a65167-d1bd-4e71-82c5-4f5a57e0a765",
   "metadata": {},
   "outputs": [
    {
     "name": "stderr",
     "output_type": "stream",
     "text": [
      "                                                                                \r"
     ]
    },
    {
     "data": {
      "text/plain": [
       "<Figure size 800x600 with 0 Axes>"
      ]
     },
     "execution_count": 69,
     "metadata": {},
     "output_type": "execute_result"
    },
    {
     "name": "stderr",
     "output_type": "stream",
     "text": [
      "                                                                                \r"
     ]
    },
    {
     "data": {
      "text/plain": [
       "[<matplotlib.lines.Line2D at 0xffff333c6b50>]"
      ]
     },
     "execution_count": 69,
     "metadata": {},
     "output_type": "execute_result"
    },
    {
     "data": {
      "text/plain": [
       "[<matplotlib.lines.Line2D at 0xffff33250e50>]"
      ]
     },
     "execution_count": 69,
     "metadata": {},
     "output_type": "execute_result"
    },
    {
     "data": {
      "text/plain": [
       "Text(0.5, 0, 'False Positive Rate')"
      ]
     },
     "execution_count": 69,
     "metadata": {},
     "output_type": "execute_result"
    },
    {
     "data": {
      "text/plain": [
       "Text(0, 0.5, 'True Positive Rate')"
      ]
     },
     "execution_count": 69,
     "metadata": {},
     "output_type": "execute_result"
    },
    {
     "data": {
      "text/plain": [
       "Text(0.5, 1.0, 'ROC Curve for Test Data')"
      ]
     },
     "execution_count": 69,
     "metadata": {},
     "output_type": "execute_result"
    },
    {
     "data": {
      "text/plain": [
       "<matplotlib.legend.Legend at 0xffff33330650>"
      ]
     },
     "execution_count": 69,
     "metadata": {},
     "output_type": "execute_result"
    },
    {
     "data": {
      "image/png": "[encoded data removed]",
      "text/plain": [
       "<Figure size 800x600 with 1 Axes>"
      ]
     },
     "metadata": {},
     "output_type": "display_data"
    }
   ],
   "source": [
    "from pyspark.ml.evaluation import BinaryClassificationEvaluator\n",
    "\n",
    "# Using BinaryClassificationEvaluator to get the raw predictions and labels\n",
    "evaluator = BinaryClassificationEvaluator(labelCol=\"type\", rawPredictionCol=\"probability\", metricName=\"areaUnderROC\")\n",
    "\n",
    "# Extracting the true positive and false positive rates at different thresholds\n",
    "roc = lr_model.summary.roc.toPandas()  # Converts the ROC to a Pandas DataFrame for easy plotting\n",
    "\n",
    "# Plotting the ROC curve\n",
    "plt.figure(figsize=(8, 6))\n",
    "plt.plot(roc['FPR'], roc['TPR'], color=\"darkorange\", lw=2, label=\"ROC curve (area = %0.2f)\" % evaluator.evaluate(test_predictions))\n",
    "plt.plot([0, 1], [0, 1], color=\"navy\", lw=2, linestyle=\"--\")\n",
    "plt.xlabel(\"False Positive Rate\")\n",
    "plt.ylabel(\"True Positive Rate\")\n",
    "plt.title(\"ROC Curve for Test Data\")\n",
    "plt.legend(loc=\"lower right\")\n",
    "plt.show()\n"
   ]
  },
  {
   "cell_type": "markdown",
   "id": "791e0340-83e3-4713-842b-39d14ee16712",
   "metadata": {},
   "source": [
    "### Predictions"
   ]
  },
  {
   "cell_type": "code",
   "execution_count": 70,
   "id": "25e0c560-e345-4fd3-9cd1-a87568beb8b4",
   "metadata": {},
   "outputs": [
    {
     "name": "stderr",
     "output_type": "stream",
     "text": [
      "[Stage 5296:>                                                       (0 + 1) / 1]\r"
     ]
    },
    {
     "name": "stdout",
     "output_type": "stream",
     "text": [
      "+----------+--------------------+\n",
      "|prediction|         probability|\n",
      "+----------+--------------------+\n",
      "|       1.0|[0.33197537569474...|\n",
      "|       1.0|[0.20346314061362...|\n",
      "|       1.0|[0.25393379409257...|\n",
      "|       1.0|[0.13601424005381...|\n",
      "|       0.0|[0.53687150667705...|\n",
      "|       1.0|[0.38426898513207...|\n",
      "|       0.0|[0.75106298557709...|\n",
      "|       1.0|[0.01421918493044...|\n",
      "|       0.0|[0.99999999999231...|\n",
      "|       0.0|[0.99999999999534...|\n",
      "+----------+--------------------+\n",
      "\n"
     ]
    },
    {
     "name": "stderr",
     "output_type": "stream",
     "text": [
      "                                                                                \r"
     ]
    }
   ],
   "source": [
    "# Selecing the next 10 content to be produced from the test data\n",
    "next_10_content = test_data_assembled.limit(10)\n",
    "\n",
    "# Using the trained model to make predictions\n",
    "predictions_next_10 = lr_model.transform(next_10_content)\n",
    "\n",
    "# Selecting relevant columns to display the prediction results\n",
    "predictions_next_10.select(\"prediction\", \"probability\").show()"
   ]
  },
  {
   "cell_type": "code",
   "execution_count": 71,
   "id": "23dc8fe0-6dd8-48d7-9d39-c551eda0e520",
   "metadata": {},
   "outputs": [
    {
     "name": "stderr",
     "output_type": "stream",
     "text": [
      "[Stage 5365:>                                                       (0 + 1) / 1]\r"
     ]
    },
    {
     "name": "stdout",
     "output_type": "stream",
     "text": [
      "+----------------+\n",
      "|prediction_label|\n",
      "+----------------+\n",
      "|           Movie|\n",
      "|           Movie|\n",
      "|           Movie|\n",
      "|           Movie|\n",
      "|       TV Series|\n",
      "|           Movie|\n",
      "|       TV Series|\n",
      "|           Movie|\n",
      "|       TV Series|\n",
      "|       TV Series|\n",
      "+----------------+\n",
      "\n"
     ]
    },
    {
     "name": "stderr",
     "output_type": "stream",
     "text": [
      "                                                                                \r"
     ]
    }
   ],
   "source": [
    "# Selecting the next 10 content to be produced from the test data\n",
    "next_10_content = test_data_assembled.limit(10)\n",
    "\n",
    "# Using the trained model to make predictions\n",
    "predictions_next_10 = lr_model.transform(next_10_content)\n",
    "\n",
    "# Adding a readable \"type_label\" and \"prediction_label\" column for better clarity\n",
    "predictions_next_10 = predictions_next_10.withColumn(\"prediction_label\", when(predictions_next_10[\"prediction\"] == 1, \"Movie\").otherwise(\"TV Series\"))\n",
    "                                         \n",
    "# Selecting relevant columns to display the prediction results\n",
    "predictions_next_10.select(\"prediction_label\").show()"
   ]
  },
  {
   "cell_type": "code",
   "execution_count": 72,
   "id": "45adb46a-c9a7-440b-9aef-4193bf698ec8",
   "metadata": {},
   "outputs": [
    {
     "name": "stderr",
     "output_type": "stream",
     "text": [
      "[Stage 5438:>                                                       (0 + 2) / 2]\r"
     ]
    },
    {
     "name": "stdout",
     "output_type": "stream",
     "text": [
      "+-------------+----------------+\n",
      "|company_label|prediction_label|\n",
      "+-------------+----------------+\n",
      "|      AppleTV|           Movie|\n",
      "|      AppleTV|       TV Series|\n",
      "|      AppleTV|       TV Series|\n",
      "|      AppleTV|           Movie|\n",
      "|      AppleTV|           Movie|\n",
      "|         Hulu|       TV Series|\n",
      "|         Hulu|       TV Series|\n",
      "|         Hulu|       TV Series|\n",
      "|         Hulu|           Movie|\n",
      "|         Hulu|           Movie|\n",
      "|      Netflix|       TV Series|\n",
      "|      Netflix|       TV Series|\n",
      "|      Netflix|       TV Series|\n",
      "|      Netflix|       TV Series|\n",
      "|      Netflix|       TV Series|\n",
      "|          HBO|           Movie|\n",
      "|          HBO|           Movie|\n",
      "|          HBO|       TV Series|\n",
      "|          HBO|       TV Series|\n",
      "|          HBO|       TV Series|\n",
      "+-------------+----------------+\n",
      "only showing top 20 rows\n",
      "\n"
     ]
    },
    {
     "name": "stderr",
     "output_type": "stream",
     "text": [
      "                                                                                \r"
     ]
    }
   ],
   "source": [
    "from pyspark.sql.functions import when, lit\n",
    "\n",
    "# Initializing an empty list to store predictions\n",
    "predictions_list = []\n",
    "companies = [\"AppleTV\", \"Hulu\", \"Netflix\", \"HBO\", \"Amazon\"]\n",
    "\n",
    "for company in companies:\n",
    "    # Filtering test data for the specific company (assuming each company column is binary: 1 if the content is on that platform, 0 otherwise)\n",
    "    company_data = test_data_assembled.filter(test_data_assembled[company] == 1).limit(5)\n",
    "    \n",
    "    # Making predictions for the company\n",
    "    company_predictions = lr_model.transform(company_data)\n",
    "    \n",
    "    # Adding a readable \"company_label\" and \"prediction_label\" column\n",
    "    company_predictions = company_predictions.withColumn(\"company_label\", lit(company)) \\\n",
    "                                             .withColumn(\"prediction_label\", when(company_predictions[\"prediction\"] == 1, \"Movie\").otherwise(\"TV Series\"))\n",
    "    \n",
    "    # Selecting relevant columns and add to the list\n",
    "    predictions_list.append(company_predictions.select(\"company_label\", \"prediction_label\"))\n",
    "\n",
    "final_predictions = predictions_list[0]\n",
    "for df in predictions_list[1:]:\n",
    "    final_predictions = final_predictions.union(df)\n",
    "\n",
    "final_predictions.show()"
   ]
  }
 ],
 "metadata": {
  "kernelspec": {
   "display_name": "Python 3 (ipykernel)",
   "language": "python",
   "name": "python3"
  },
  "language_info": {
   "codemirror_mode": {
    "name": "ipython",
    "version": 3
   },
   "file_extension": ".py",
   "mimetype": "text/x-python",
   "name": "python",
   "nbconvert_exporter": "python",
   "pygments_lexer": "ipython3",
   "version": "3.11.2"
  }
 },
 "nbformat": 4,
 "nbformat_minor": 5
}
