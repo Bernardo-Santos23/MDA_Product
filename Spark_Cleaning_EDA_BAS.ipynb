{
 "cells": [
  {
   "cell_type": "markdown",
   "id": "1c67ea50",
   "metadata": {},
   "source": [
    "<img width=\"400\" style=\"float:left\" \n",
    "     src=\"https://as2.ftcdn.net/v2/jpg/05/63/00/99/1000_F_563009962_XqxlJbVHZQwPgIHk71I3vIa44SKCSR7w.jpg\" />`"
   ]
  },
  {
   "cell_type": "markdown",
   "id": "6b761001",
   "metadata": {},
   "source": [
    "# Group Assignment MDA II - Group 1\n",
    "\n",
    "Juliana Haddad | Bernardo Santos | Yoshiki Kitagawa | Hernan Fermin | Philippa Quadt\n",
    "\n",
    "November 15th, 2024\n"
   ]
  },
  {
   "cell_type": "markdown",
   "id": "afe9cee7",
   "metadata": {},
   "source": [
    "This notebook is organized in the following sections:\n",
    "\n",
    "* [Description](#0)\n",
    "* [Data Preparation & Cleaning](#1)\n",
    "  * [Notebook Environment Setup](#1.1)\n",
    "  * [Data Source](#1.2)\n",
    "  * [Data Cleaning](#1.3)\n",
    "  * [Data Merging](#1.4)\n",
    "  * [Preprocessing](#1.5)\n",
    "  * [Handlig Null Values](#1.6)\n",
    "  * [Dropping Null Values](#1.7)\n",
    "* [Exploratory Data Analysis](#2) \n"
   ]
  },
  {
   "cell_type": "markdown",
   "id": "c8e46d11",
   "metadata": {
    "jp-MarkdownHeadingCollapsed": true
   },
   "source": [
    "<a id='0'></a>\n",
    "## Description"
   ]
  },
  {
   "cell_type": "markdown",
   "id": "5b6903f3",
   "metadata": {},
   "source": [
    "The main objective of this project is to empower streaming platforms with actionable insights into user preferences and content performance, enabling data-driven decisions for content investment and user engagement maximization."
   ]
  },
  {
   "cell_type": "markdown",
   "id": "aa3f33f3-c7aa-4ab1-8830-341ba702f5a5",
   "metadata": {
    "jp-MarkdownHeadingCollapsed": true
   },
   "source": [
    "<a id='1'></a>\n",
    "## Data Preparation & Cleaning"
   ]
  },
  {
   "cell_type": "markdown",
   "id": "25ceb110",
   "metadata": {},
   "source": [
    "This foundational step involves merging data, cleaning it, and preparing a single unified dataset for analysis. Proper data preparation ensures consistency and reliability for downstream analyses.\n",
    "\n",
    "We'll use the **[Netflix, Hulu, HBO, AppleTV & Amazon dataset](https://www.kaggle.com/datasets/octopusteam/full-apple-tv-dataset?resource=download)** "
   ]
  },
  {
   "cell_type": "markdown",
   "id": "326a6ad0-3551-4abe-9ffc-01990d20230e",
   "metadata": {},
   "source": [
    "<a id='1.1'></a>\n",
    "### Notebook Environment Setup "
   ]
  },
  {
   "cell_type": "markdown",
   "id": "5f07852b",
   "metadata": {},
   "source": [
    "As it happened with the first Spark applications we created, **we need to create a [Spark Session](https://spark.apache.org/docs/latest/api/python/reference/pyspark.sql/api/pyspark.sql.SparkSession.html)** before we can specify the input source bringing the events in. The Spark Session *is the entry point to programming Spark with the DataFrame API (High-level API)*."
   ]
  },
  {
   "cell_type": "code",
   "execution_count": 1,
   "id": "dcbbc9c0-ebec-4f0b-b615-dc6625c2102a",
   "metadata": {},
   "outputs": [
    {
     "name": "stderr",
     "output_type": "stream",
     "text": [
      "24/11/08 15:13:45 WARN Utils: Your hostname, osbdet resolves to a loopback address: 127.0.0.1; using 10.0.2.15 instead (on interface enp0s1)\n",
      "24/11/08 15:13:45 WARN Utils: Set SPARK_LOCAL_IP if you need to bind to another address\n",
      "Setting default log level to \"WARN\".\n",
      "To adjust logging level use sc.setLogLevel(newLevel). For SparkR, use setLogLevel(newLevel).\n",
      "24/11/08 15:13:46 WARN NativeCodeLoader: Unable to load native-hadoop library for your platform... using builtin-java classes where applicable\n"
     ]
    }
   ],
   "source": [
    "from pyspark.sql import SparkSession\n",
    "spark = SparkSession.builder.appName(\"StreamingServiceData\").getOrCreate()"
   ]
  },
  {
   "cell_type": "markdown",
   "id": "bae2f006",
   "metadata": {},
   "source": [
    "<a id='1.2'></a>\n",
    "### Data Source"
   ]
  },
  {
   "cell_type": "markdown",
   "id": "53779a96",
   "metadata": {},
   "source": [
    "In this section, we load and inspect the CSV files using PySpark. This step ensures that data is correctly imported with inferred schemas, allowing for subsequent transformations and analyses."
   ]
  },
  {
   "cell_type": "code",
   "execution_count": 2,
   "id": "eda7b38d-991a-48dd-8840-bee2d402c499",
   "metadata": {},
   "outputs": [],
   "source": [
    "from pyspark.sql.functions import lit\n",
    "\n",
    "# Opening the csv files with Spark\n",
    "Netflix = spark.read.csv('Netflix.csv', header=True, inferSchema=True)\n",
    "Amazon = spark.read.csv('Amazon.csv', header=True, inferSchema=True)\n",
    "HBO = spark.read.csv('HBO.csv', header=True, inferSchema=True)\n",
    "Hulu = spark.read.csv('Hulu.csv', header=True, inferSchema=True)\n",
    "AppleTV = spark.read.csv('AppleTV.csv', header=True, inferSchema=True)"
   ]
  },
  {
   "cell_type": "code",
   "execution_count": 3,
   "id": "871d6911-072c-4b84-b8e6-4a520e0d2886",
   "metadata": {},
   "outputs": [
    {
     "name": "stdout",
     "output_type": "stream",
     "text": [
      "+----+--------------+-----+--------------------+-----------+---------+-----------------+------------+--------------------+\n",
      "| url|         title| type|              genres|releaseYear|   imdbId|imdbAverageRating|imdbNumVotes|  availableCountries|\n",
      "+----+--------------+-----+--------------------+-----------+---------+-----------------+------------+--------------------+\n",
      "|NULL|       Blondie|Movie|      Comedy, Family|       1938|tt0029927|              6.9|       885.0|              US, ZA|\n",
      "|NULL|         Ariel|Movie|Comedy, Crime, Ro...|       1988|tt0094675|              7.4|      8731.0|                  JP|\n",
      "|NULL|    Four Rooms|Movie|              Comedy|       1995|tt0113101|              6.7|    112456.0|              AT, DE|\n",
      "|NULL|Judgment Night|Movie|Action, Crime, Drama|       1993|tt0107286|              6.6|     19258.0|                  US|\n",
      "|NULL|  Forrest Gump|Movie|      Drama, Romance|       1994|tt0109830|              8.8|   2311997.0|AT, CU, DE, IN, J...|\n",
      "+----+--------------+-----+--------------------+-----------+---------+-----------------+------------+--------------------+\n",
      "only showing top 5 rows\n",
      "\n"
     ]
    }
   ],
   "source": [
    "Amazon.show(5)  # Show first 5 rows to take a look and understand the dataset "
   ]
  },
  {
   "cell_type": "markdown",
   "id": "9fcd10e9",
   "metadata": {},
   "source": [
    "<a id='1.3'></a>\n",
    "### Data cleaning"
   ]
  },
  {
   "cell_type": "markdown",
   "id": "a4565a06",
   "metadata": {},
   "source": [
    "Here, we clean the data by dropping unnecessary columns like 'url' and 'imdbId' that do not contribute to our analysis. Removing these columns simplifies the dataset and improves processing efficiency. To differentiate the data from various streaming platforms, we add a 'Company' column to each DataFrame. This step allows for easier filtering and analysis based on the source platform."
   ]
  },
  {
   "cell_type": "code",
   "execution_count": 4,
   "id": "946943aa-1b71-46f0-bcd3-e8c48e01246c",
   "metadata": {},
   "outputs": [],
   "source": [
    "# Dropping irrelevant columns\n",
    "Netflix = Netflix.drop('url', 'imdbId')\n",
    "Amazon = Amazon.drop('url', 'imdbId')\n",
    "HBO = HBO.drop('url', 'imdbId')\n",
    "Hulu = Hulu.drop('url', 'imdbId')\n",
    "AppleTV = AppleTV.drop('url', 'imdbId')"
   ]
  },
  {
   "cell_type": "code",
   "execution_count": 5,
   "id": "05b710c7-26fd-4945-8b05-a088448ef1dd",
   "metadata": {},
   "outputs": [],
   "source": [
    "# Adding Company ID\n",
    "Netflix = Netflix.withColumn('Company', lit('Netflix'))\n",
    "Amazon = Amazon.withColumn('Company', lit('Amazon'))\n",
    "HBO = HBO.withColumn('Company', lit('HBO'))\n",
    "Hulu = Hulu.withColumn('Company', lit('Hulu'))\n",
    "AppleTV = AppleTV.withColumn('Company', lit('AppleTV'))"
   ]
  },
  {
   "cell_type": "markdown",
   "id": "71f371dd-ff90-439a-8793-452a40679d20",
   "metadata": {},
   "source": [
    "<a id='1.4'></a>\n",
    "### Data Merging"
   ]
  },
  {
   "cell_type": "markdown",
   "id": "070e6056",
   "metadata": {},
   "source": [
    "This section involves combining all individual DataFrames into one comprehensive DataFrame using the .union() method. We are working now with one dataset : `all_data`"
   ]
  },
  {
   "cell_type": "code",
   "execution_count": 6,
   "id": "aff01a45-1eae-46b5-bbbe-8a86c3db4a5f",
   "metadata": {},
   "outputs": [
    {
     "name": "stdout",
     "output_type": "stream",
     "text": [
      "+-----------------+-----+--------------------+-----------+-----------------+------------+--------------------+-------+\n",
      "|            title| type|              genres|releaseYear|imdbAverageRating|imdbNumVotes|  availableCountries|Company|\n",
      "+-----------------+-----+--------------------+-----------+-----------------+------------+--------------------+-------+\n",
      "|     Forrest Gump|Movie|      Drama, Romance|       1994|              8.8|   2311997.0|AD, AE, AG, AL, A...|Netflix|\n",
      "|The Fifth Element|Movie|Action, Adventure...|       1997|              7.6|    516291.0|          AT, CH, DE|Netflix|\n",
      "|Kill Bill: Vol. 1|Movie|Action, Crime, Th...|       2003|              8.2|   1219973.0|AE, AL, AO, AT, A...|Netflix|\n",
      "|          Jarhead|Movie|Biography, Drama,...|       2005|                7|    211218.0|AD, AE, AG, AL, A...|Netflix|\n",
      "|       Unforgiven|Movie|      Drama, Western|       1992|              8.2|    443163.0|AU, BA, BE, BG, C...|Netflix|\n",
      "+-----------------+-----+--------------------+-----------+-----------------+------------+--------------------+-------+\n",
      "only showing top 5 rows\n",
      "\n"
     ]
    }
   ],
   "source": [
    "# Combining all DataFrames into one\n",
    "all_data = Netflix.union(Amazon).union(HBO).union(Hulu).union(AppleTV)\n",
    "\n",
    "all_data.show(5)\n",
    "\n",
    "# Saving the merged DataFrame to a new CSV file named \"MergedCompany.csv\"\n",
    "# all_data.to_csv('MergedCompany.csv', index=False)"
   ]
  },
  {
   "cell_type": "markdown",
   "id": "ea0de363-a0dd-4b1d-b9c6-d1a05b815d67",
   "metadata": {},
   "source": [
    "<a id='1.5'></a>\n",
    "### Preprocessing"
   ]
  },
  {
   "cell_type": "markdown",
   "id": "83ccbd90",
   "metadata": {},
   "source": [
    "##### New column : `NumberofCountries`"
   ]
  },
  {
   "cell_type": "code",
   "execution_count": 7,
   "id": "9b9fdee1-8d3c-44a9-93e2-80f8aa5e23cd",
   "metadata": {},
   "outputs": [
    {
     "name": "stdout",
     "output_type": "stream",
     "text": [
      "+--------------------+-----+--------------------+-----------+-----------------+------------+-------+-----------------+\n",
      "|               title| type|              genres|releaseYear|imdbAverageRating|imdbNumVotes|Company|NumberOfCountries|\n",
      "+--------------------+-----+--------------------+-----------+-----------------+------------+-------+-----------------+\n",
      "|        Forrest Gump|Movie|      Drama, Romance|       1994|              8.8|   2311997.0|Netflix|              115|\n",
      "|   The Fifth Element|Movie|Action, Adventure...|       1997|              7.6|    516291.0|Netflix|                3|\n",
      "|   Kill Bill: Vol. 1|Movie|Action, Crime, Th...|       2003|              8.2|   1219973.0|Netflix|               67|\n",
      "|             Jarhead|Movie|Biography, Drama,...|       2005|                7|    211218.0|Netflix|              122|\n",
      "|          Unforgiven|Movie|      Drama, Western|       1992|              8.2|    443163.0|Netflix|               16|\n",
      "|Eternal Sunshine ...|Movie|Drama, Romance, S...|       2004|              8.3|   1100831.0|Netflix|              126|\n",
      "|       Amores Perros|Movie|     Drama, Thriller|       2000|                8|    256341.0|Netflix|               28|\n",
      "|A History of Viol...|Movie|Action, Crime, Drama|       2005|              7.4|    258518.0|Netflix|                4|\n",
      "|2001: A Space Ody...|Movie|   Adventure, Sci-Fi|       1968|              8.3|    733679.0|Netflix|                2|\n",
      "|         Talk to Her|Movie|Drama, Mystery, R...|       2002|              7.9|    118626.0|Netflix|               28|\n",
      "|              8 Mile|Movie|        Drama, Music|       2002|              7.2|    329282.0|Netflix|              130|\n",
      "|        Paradise Now|Movie|Crime, Drama, Thr...|       2005|              7.4|     24274.0|Netflix|               16|\n",
      "| Million Dollar Baby|Movie|        Drama, Sport|       2004|              8.1|    731878.0|Netflix|                3|\n",
      "|        Billy Elliot|Movie|        Drama, Music|       2000|              7.7|    145680.0|Netflix|                3|\n",
      "|  American History X|Movie|        Crime, Drama|       1998|              8.5|   1206008.0|Netflix|                3|\n",
      "|   War of the Worlds|Movie|Action, Adventure...|       2005|              6.5|    482305.0|Netflix|               24|\n",
      "|       Mars Attacks!|Movie|      Comedy, Sci-Fi|       1996|              6.4|    248091.0|Netflix|                4|\n",
      "|      Before Sunrise|Movie|      Drama, Romance|       1995|              8.1|    348021.0|Netflix|                4|\n",
      "|             Memento|Movie|   Mystery, Thriller|       2000|              8.4|   1346325.0|Netflix|                2|\n",
      "|                Hero|Movie|Action, Adventure...|       2002|              7.9|    189102.0|Netflix|                3|\n",
      "+--------------------+-----+--------------------+-----------+-----------------+------------+-------+-----------------+\n",
      "only showing top 20 rows\n",
      "\n"
     ]
    }
   ],
   "source": [
    "from pyspark.sql.functions import when, split, size, col\n",
    "\n",
    "# Count the number of countries in the availableCountries column\n",
    "all_data = all_data.withColumn(\n",
    "    \"NumberOfCountries\",\n",
    "    when(col(\"availableCountries\").isNotNull(), size(split(col(\"availableCountries\"), \",\"))).otherwise(0)\n",
    ")\n",
    "\n",
    "# Drop the availableCountries column\n",
    "all_data = all_data.drop(\"availableCountries\")\n",
    "\n",
    "# Show the result\n",
    "all_data.show()\n"
   ]
  },
  {
   "cell_type": "markdown",
   "id": "31fb6404-d6c8-4016-9cb0-e29e25740349",
   "metadata": {},
   "source": [
    "##### New column : `ReleaseYear` & `ReleaseDecade`"
   ]
  },
  {
   "cell_type": "code",
   "execution_count": 8,
   "id": "7e569ccf-f051-4045-81f1-8478e1c2d3b4",
   "metadata": {},
   "outputs": [
    {
     "name": "stdout",
     "output_type": "stream",
     "text": [
      "+--------------------+-----+--------------------+-----------+-----------------+------------+-------+-----------------+\n",
      "|               title| type|              genres|releaseYear|imdbAverageRating|imdbNumVotes|Company|NumberOfCountries|\n",
      "+--------------------+-----+--------------------+-----------+-----------------+------------+-------+-----------------+\n",
      "|        Forrest Gump|Movie|      Drama, Romance|       1994|              8.8|   2311997.0|Netflix|              115|\n",
      "|   The Fifth Element|Movie|Action, Adventure...|       1997|              7.6|    516291.0|Netflix|                3|\n",
      "|   Kill Bill: Vol. 1|Movie|Action, Crime, Th...|       2003|              8.2|   1219973.0|Netflix|               67|\n",
      "|             Jarhead|Movie|Biography, Drama,...|       2005|                7|    211218.0|Netflix|              122|\n",
      "|          Unforgiven|Movie|      Drama, Western|       1992|              8.2|    443163.0|Netflix|               16|\n",
      "|Eternal Sunshine ...|Movie|Drama, Romance, S...|       2004|              8.3|   1100831.0|Netflix|              126|\n",
      "|       Amores Perros|Movie|     Drama, Thriller|       2000|                8|    256341.0|Netflix|               28|\n",
      "|A History of Viol...|Movie|Action, Crime, Drama|       2005|              7.4|    258518.0|Netflix|                4|\n",
      "|2001: A Space Ody...|Movie|   Adventure, Sci-Fi|       1968|              8.3|    733679.0|Netflix|                2|\n",
      "|         Talk to Her|Movie|Drama, Mystery, R...|       2002|              7.9|    118626.0|Netflix|               28|\n",
      "|              8 Mile|Movie|        Drama, Music|       2002|              7.2|    329282.0|Netflix|              130|\n",
      "|        Paradise Now|Movie|Crime, Drama, Thr...|       2005|              7.4|     24274.0|Netflix|               16|\n",
      "| Million Dollar Baby|Movie|        Drama, Sport|       2004|              8.1|    731878.0|Netflix|                3|\n",
      "|        Billy Elliot|Movie|        Drama, Music|       2000|              7.7|    145680.0|Netflix|                3|\n",
      "|  American History X|Movie|        Crime, Drama|       1998|              8.5|   1206008.0|Netflix|                3|\n",
      "|   War of the Worlds|Movie|Action, Adventure...|       2005|              6.5|    482305.0|Netflix|               24|\n",
      "|       Mars Attacks!|Movie|      Comedy, Sci-Fi|       1996|              6.4|    248091.0|Netflix|                4|\n",
      "|      Before Sunrise|Movie|      Drama, Romance|       1995|              8.1|    348021.0|Netflix|                4|\n",
      "|             Memento|Movie|   Mystery, Thriller|       2000|              8.4|   1346325.0|Netflix|                2|\n",
      "|                Hero|Movie|Action, Adventure...|       2002|              7.9|    189102.0|Netflix|                3|\n",
      "+--------------------+-----+--------------------+-----------+-----------------+------------+-------+-----------------+\n",
      "only showing top 20 rows\n",
      "\n"
     ]
    }
   ],
   "source": [
    "# \n",
    "from pyspark.sql.functions import to_date, year, col, when\n",
    "\n",
    "# Convert releaseYear to date format and extract only the year\n",
    "all_data = all_data.withColumn(\n",
    "    \"releaseYear\", \n",
    "    when(col(\"releaseYear\").isNotNull(), year(to_date(col(\"releaseYear\").cast(\"string\"), \"yyyy\"))).cast(\"int\")\n",
    ")\n",
    "\n",
    "# Show the result\n",
    "all_data.show()\n"
   ]
  },
  {
   "cell_type": "code",
   "execution_count": 9,
   "id": "f6d983db",
   "metadata": {},
   "outputs": [
    {
     "name": "stdout",
     "output_type": "stream",
     "text": [
      "+-----------+-------------+\n",
      "|releaseYear|releaseDecade|\n",
      "+-----------+-------------+\n",
      "|       1994|        1990s|\n",
      "|       1997|        1990s|\n",
      "|       2003|        2000s|\n",
      "|       2005|        2000s|\n",
      "|       1992|        1990s|\n",
      "|       2004|        2000s|\n",
      "|       2000|        2000s|\n",
      "|       2005|        2000s|\n",
      "|       1968|        1960s|\n",
      "|       2002|        2000s|\n",
      "|       2002|        2000s|\n",
      "|       2005|        2000s|\n",
      "|       2004|        2000s|\n",
      "|       2000|        2000s|\n",
      "|       1998|        1990s|\n",
      "|       2005|        2000s|\n",
      "|       1996|        1990s|\n",
      "|       1995|        1990s|\n",
      "|       2000|        2000s|\n",
      "|       2002|        2000s|\n",
      "+-----------+-------------+\n",
      "only showing top 20 rows\n",
      "\n"
     ]
    }
   ],
   "source": [
    "from pyspark.sql.functions import floor, col, concat, lit\n",
    "\n",
    "# Create the releaseDecade column by bucketing releaseYear into decades\n",
    "all_data = all_data.withColumn(\n",
    "    \"releaseDecade\", \n",
    "    concat((floor(col(\"releaseYear\") / 10) * 10).cast(\"string\"), lit(\"s\"))\n",
    ")\n",
    "\n",
    "# Show the result\n",
    "all_data.select(\"releaseYear\", \"releaseDecade\").show()"
   ]
  },
  {
   "cell_type": "markdown",
   "id": "2ce1bdbf-386a-4333-9af9-b1c25a84e0a8",
   "metadata": {},
   "source": [
    "##### Genre Cleaning (dividing into extra genres, NEG)"
   ]
  },
  {
   "cell_type": "markdown",
   "id": "ad20d298",
   "metadata": {},
   "source": [
    "To better analyze genre data, this section splits the 'genres' column into separate columns (e.g., 'genre1', 'genre2', 'genre3'). Any null values in these new columns are replaced with 'NEG' to indicate no genre classification, allowing the model to handle missing information effectively."
   ]
  },
  {
   "cell_type": "code",
   "execution_count": 10,
   "id": "fc141f7a-319a-4f52-a754-37d5ce259c0d",
   "metadata": {},
   "outputs": [
    {
     "name": "stdout",
     "output_type": "stream",
     "text": [
      "+--------------------+-----+-----------+-----------------+------------+-------+-----------------+-------------+---------+----------+---------+\n",
      "|               title| type|releaseYear|imdbAverageRating|imdbNumVotes|Company|NumberOfCountries|releaseDecade|   genre1|    genre2|   genre3|\n",
      "+--------------------+-----+-----------+-----------------+------------+-------+-----------------+-------------+---------+----------+---------+\n",
      "|        Forrest Gump|Movie|       1994|              8.8|   2311997.0|Netflix|              115|        1990s|    Drama|   Romance|      NEG|\n",
      "|   The Fifth Element|Movie|       1997|              7.6|    516291.0|Netflix|                3|        1990s|   Action| Adventure|   Sci-Fi|\n",
      "|   Kill Bill: Vol. 1|Movie|       2003|              8.2|   1219973.0|Netflix|               67|        2000s|   Action|     Crime| Thriller|\n",
      "|             Jarhead|Movie|       2005|                7|    211218.0|Netflix|              122|        2000s|Biography|     Drama|      War|\n",
      "|          Unforgiven|Movie|       1992|              8.2|    443163.0|Netflix|               16|        1990s|    Drama|   Western|      NEG|\n",
      "|Eternal Sunshine ...|Movie|       2004|              8.3|   1100831.0|Netflix|              126|        2000s|    Drama|   Romance|   Sci-Fi|\n",
      "|       Amores Perros|Movie|       2000|                8|    256341.0|Netflix|               28|        2000s|    Drama|  Thriller|      NEG|\n",
      "|A History of Viol...|Movie|       2005|              7.4|    258518.0|Netflix|                4|        2000s|   Action|     Crime|    Drama|\n",
      "|2001: A Space Ody...|Movie|       1968|              8.3|    733679.0|Netflix|                2|        1960s|Adventure|    Sci-Fi|      NEG|\n",
      "|         Talk to Her|Movie|       2002|              7.9|    118626.0|Netflix|               28|        2000s|    Drama|   Mystery|  Romance|\n",
      "|              8 Mile|Movie|       2002|              7.2|    329282.0|Netflix|              130|        2000s|    Drama|     Music|      NEG|\n",
      "|        Paradise Now|Movie|       2005|              7.4|     24274.0|Netflix|               16|        2000s|    Crime|     Drama| Thriller|\n",
      "| Million Dollar Baby|Movie|       2004|              8.1|    731878.0|Netflix|                3|        2000s|    Drama|     Sport|      NEG|\n",
      "|        Billy Elliot|Movie|       2000|              7.7|    145680.0|Netflix|                3|        2000s|    Drama|     Music|      NEG|\n",
      "|  American History X|Movie|       1998|              8.5|   1206008.0|Netflix|                3|        1990s|    Crime|     Drama|      NEG|\n",
      "|   War of the Worlds|Movie|       2005|              6.5|    482305.0|Netflix|               24|        2000s|   Action| Adventure|   Sci-Fi|\n",
      "|       Mars Attacks!|Movie|       1996|              6.4|    248091.0|Netflix|                4|        1990s|   Comedy|    Sci-Fi|      NEG|\n",
      "|      Before Sunrise|Movie|       1995|              8.1|    348021.0|Netflix|                4|        1990s|    Drama|   Romance|      NEG|\n",
      "|             Memento|Movie|       2000|              8.4|   1346325.0|Netflix|                2|        2000s|  Mystery|  Thriller|      NEG|\n",
      "|                Hero|Movie|       2002|              7.9|    189102.0|Netflix|                3|        2000s|   Action| Adventure|    Drama|\n",
      "+--------------------+-----+-----------+-----------------+------------+-------+-----------------+-------------+---------+----------+---------+\n",
      "only showing top 20 rows\n",
      "\n",
      "Rows where genre3 has more than one genre:\n",
      "+-----+----+-----------+-----------------+------------+-------+-----------------+-------------+------+------+------+\n",
      "|title|type|releaseYear|imdbAverageRating|imdbNumVotes|Company|NumberOfCountries|releaseDecade|genre1|genre2|genre3|\n",
      "+-----+----+-----------+-----------------+------------+-------+-----------------+-------------+------+------+------+\n",
      "+-----+----+-----------+-----------------+------------+-------+-----------------+-------------+------+------+------+\n",
      "\n"
     ]
    }
   ],
   "source": [
    "from pyspark.sql.functions import split, col\n",
    "\n",
    "# Split the genres column into three separate columns\n",
    "all_data = all_data.withColumn(\"genre1\", split(col(\"genres\"), \",\").getItem(0)) \\\n",
    "                   .withColumn(\"genre2\", split(col(\"genres\"), \",\").getItem(1)) \\\n",
    "                   .withColumn(\"genre3\", split(col(\"genres\"), \",\").getItem(2))\n",
    "\n",
    "# Drop the original genres column if it's no longer needed\n",
    "all_data = all_data.drop(\"genres\")\n",
    "\n",
    "# Replace null values in genre1, genre2, and genre3 with 'NEG'\n",
    "all_data = all_data.fillna({\"genre1\": \"NEG\", \"genre2\": \"NEG\", \"genre3\": \"NEG\"})\n",
    "\n",
    "# Show the result\n",
    "all_data.show()\n",
    "\n",
    "#Checking for errors in genre 3\n",
    "\n",
    "# Filter rows where genre3 has more than one genre (indicated by a comma)\n",
    "rows_with_multi_genre_in_genre3 = all_data.filter(col(\"genre3\").contains(\",\"))\n",
    "\n",
    "# Show the result\n",
    "print(\"Rows where genre3 has more than one genre:\")\n",
    "rows_with_multi_genre_in_genre3.show()"
   ]
  },
  {
   "cell_type": "markdown",
   "id": "3def0662",
   "metadata": {},
   "source": [
    "##### OHE Column `type`"
   ]
  },
  {
   "cell_type": "markdown",
   "id": "7a5861fd",
   "metadata": {},
   "source": [
    "This section encodes the 'type' column, transforming categorical data into numerical data by mapping 'Movie' as 1 and 'TV Series' as 0. This step is essential for any subsequent machine learning models requiring numerical inputs."
   ]
  },
  {
   "cell_type": "code",
   "execution_count": 11,
   "id": "b3c13977",
   "metadata": {},
   "outputs": [
    {
     "name": "stdout",
     "output_type": "stream",
     "text": [
      "Number of different types:\n",
      "+-------------+-----+\n",
      "|         type|count|\n",
      "+-------------+-----+\n",
      "| \"\" Princess\"|    3|\n",
      "|    TV Series|24256|\n",
      "|        Movie|66243|\n",
      "+-------------+-----+\n",
      "\n"
     ]
    }
   ],
   "source": [
    "from pyspark.sql import functions as F\n",
    "\n",
    "# Count the number of occurrences of each unique type\n",
    "type_counts = all_data.groupBy(\"type\").count()\n",
    "print(\"Number of different types:\")\n",
    "type_counts.show()"
   ]
  },
  {
   "cell_type": "code",
   "execution_count": 12,
   "id": "8ddcb12c",
   "metadata": {},
   "outputs": [
    {
     "name": "stdout",
     "output_type": "stream",
     "text": [
      "+--------------------+----+-----------+-----------------+------------+-------+-----------------+-------------+---------+----------+---------+\n",
      "|               title|type|releaseYear|imdbAverageRating|imdbNumVotes|Company|NumberOfCountries|releaseDecade|   genre1|    genre2|   genre3|\n",
      "+--------------------+----+-----------+-----------------+------------+-------+-----------------+-------------+---------+----------+---------+\n",
      "|        Forrest Gump|   1|       1994|              8.8|   2311997.0|Netflix|              115|        1990s|    Drama|   Romance|      NEG|\n",
      "|   The Fifth Element|   1|       1997|              7.6|    516291.0|Netflix|                3|        1990s|   Action| Adventure|   Sci-Fi|\n",
      "|   Kill Bill: Vol. 1|   1|       2003|              8.2|   1219973.0|Netflix|               67|        2000s|   Action|     Crime| Thriller|\n",
      "|             Jarhead|   1|       2005|                7|    211218.0|Netflix|              122|        2000s|Biography|     Drama|      War|\n",
      "|          Unforgiven|   1|       1992|              8.2|    443163.0|Netflix|               16|        1990s|    Drama|   Western|      NEG|\n",
      "|Eternal Sunshine ...|   1|       2004|              8.3|   1100831.0|Netflix|              126|        2000s|    Drama|   Romance|   Sci-Fi|\n",
      "|       Amores Perros|   1|       2000|                8|    256341.0|Netflix|               28|        2000s|    Drama|  Thriller|      NEG|\n",
      "|A History of Viol...|   1|       2005|              7.4|    258518.0|Netflix|                4|        2000s|   Action|     Crime|    Drama|\n",
      "|2001: A Space Ody...|   1|       1968|              8.3|    733679.0|Netflix|                2|        1960s|Adventure|    Sci-Fi|      NEG|\n",
      "|         Talk to Her|   1|       2002|              7.9|    118626.0|Netflix|               28|        2000s|    Drama|   Mystery|  Romance|\n",
      "|              8 Mile|   1|       2002|              7.2|    329282.0|Netflix|              130|        2000s|    Drama|     Music|      NEG|\n",
      "|        Paradise Now|   1|       2005|              7.4|     24274.0|Netflix|               16|        2000s|    Crime|     Drama| Thriller|\n",
      "| Million Dollar Baby|   1|       2004|              8.1|    731878.0|Netflix|                3|        2000s|    Drama|     Sport|      NEG|\n",
      "|        Billy Elliot|   1|       2000|              7.7|    145680.0|Netflix|                3|        2000s|    Drama|     Music|      NEG|\n",
      "|  American History X|   1|       1998|              8.5|   1206008.0|Netflix|                3|        1990s|    Crime|     Drama|      NEG|\n",
      "|   War of the Worlds|   1|       2005|              6.5|    482305.0|Netflix|               24|        2000s|   Action| Adventure|   Sci-Fi|\n",
      "|       Mars Attacks!|   1|       1996|              6.4|    248091.0|Netflix|                4|        1990s|   Comedy|    Sci-Fi|      NEG|\n",
      "|      Before Sunrise|   1|       1995|              8.1|    348021.0|Netflix|                4|        1990s|    Drama|   Romance|      NEG|\n",
      "|             Memento|   1|       2000|              8.4|   1346325.0|Netflix|                2|        2000s|  Mystery|  Thriller|      NEG|\n",
      "|                Hero|   1|       2002|              7.9|    189102.0|Netflix|                3|        2000s|   Action| Adventure|    Drama|\n",
      "+--------------------+----+-----------+-----------------+------------+-------+-----------------+-------------+---------+----------+---------+\n",
      "only showing top 20 rows\n",
      "\n"
     ]
    }
   ],
   "source": [
    "from pyspark.sql.functions import when\n",
    "\n",
    "# Encode the 'type' column: Movie = 1, TV Series = 0\n",
    "all_data = all_data.withColumn(\"type\", when(col(\"type\") == \"Movie\", 1).otherwise(0))\n",
    "\n",
    "# Show the result\n",
    "all_data.show()"
   ]
  },
  {
   "cell_type": "markdown",
   "id": "46983edc-3db6-4e9b-a888-063127449b96",
   "metadata": {},
   "source": [
    "<a id='1.6'></a>\n",
    "### Handling Null Values"
   ]
  },
  {
   "cell_type": "markdown",
   "id": "cf83b31c",
   "metadata": {},
   "source": [
    "Handling missing data is crucial for accurate analysis. This part checks for null values in the merged dataset and identifies nulls within each streaming platform's data. Understanding where nulls exist helps inform decisions about data cleaning strategies."
   ]
  },
  {
   "cell_type": "code",
   "execution_count": 13,
   "id": "ea091a2e",
   "metadata": {},
   "outputs": [
    {
     "name": "stderr",
     "output_type": "stream",
     "text": [
      "                                                                                \r"
     ]
    },
    {
     "name": "stdout",
     "output_type": "stream",
     "text": [
      "+-----+----+-----------+-----------------+------------+-------+-----------------+-------------+------+------+------+\n",
      "|title|type|releaseYear|imdbAverageRating|imdbNumVotes|Company|NumberOfCountries|releaseDecade|genre1|genre2|genre3|\n",
      "+-----+----+-----------+-----------------+------------+-------+-----------------+-------------+------+------+------+\n",
      "| 3685|   0|        192|             6034|        6034|      0|                0|          192|     0|     0|     0|\n",
      "+-----+----+-----------+-----------------+------------+-------+-----------------+-------------+------+------+------+\n",
      "\n",
      "+-----+----+-----------+-----------------+------------+-------+-----------------+-------------+------+------+------+\n",
      "|title|type|releaseYear|imdbAverageRating|imdbNumVotes|Company|NumberOfCountries|releaseDecade|genre1|genre2|genre3|\n",
      "+-----+----+-----------+-----------------+------------+-------+-----------------+-------------+------+------+------+\n",
      "|  519|   0|         22|             1011|        1011|      0|                0|           22|     0|     0|     0|\n",
      "+-----+----+-----------+-----------------+------------+-------+-----------------+-------------+------+------+------+\n",
      "\n",
      "Number of rows in AppleTV data: 13658\n",
      "Null values in Hulu data:\n",
      "+-----+----+-----------+-----------------+------------+-------+-----------------+-------------+------+------+------+\n",
      "|title|type|releaseYear|imdbAverageRating|imdbNumVotes|Company|NumberOfCountries|releaseDecade|genre1|genre2|genre3|\n",
      "+-----+----+-----------+-----------------+------------+-------+-----------------+-------------+------+------+------+\n",
      "|  579|   0|         20|              773|         773|      0|                0|           20|     0|     0|     0|\n",
      "+-----+----+-----------+-----------------+------------+-------+-----------------+-------------+------+------+------+\n",
      "\n",
      "Number of rows in Hulu data: 7794\n",
      "Null values in Netflix data:\n",
      "+-----+----+-----------+-----------------+------------+-------+-----------------+-------------+------+------+------+\n",
      "|title|type|releaseYear|imdbAverageRating|imdbNumVotes|Company|NumberOfCountries|releaseDecade|genre1|genre2|genre3|\n",
      "+-----+----+-----------+-----------------+------------+-------+-----------------+-------------+------+------+------+\n",
      "|  503|   0|         13|              636|         636|      0|                0|           13|     0|     0|     0|\n",
      "+-----+----+-----------+-----------------+------------+-------+-----------------+-------------+------+------+------+\n",
      "\n",
      "Number of rows in Netflix data: 14284\n",
      "Null values in Amazon data:\n",
      "+-----+----+-----------+-----------------+------------+-------+-----------------+-------------+------+------+------+\n",
      "|title|type|releaseYear|imdbAverageRating|imdbNumVotes|Company|NumberOfCountries|releaseDecade|genre1|genre2|genre3|\n",
      "+-----+----+-----------+-----------------+------------+-------+-----------------+-------------+------+------+------+\n",
      "| 1503|   0|        116|             2944|        2944|      0|                0|          116|     0|     0|     0|\n",
      "+-----+----+-----------+-----------------+------------+-------+-----------------+-------------+------+------+------+\n",
      "\n",
      "Number of rows in Amazon data: 47167\n",
      "Null values in HBO data:\n",
      "+-----+----+-----------+-----------------+------------+-------+-----------------+-------------+------+------+------+\n",
      "|title|type|releaseYear|imdbAverageRating|imdbNumVotes|Company|NumberOfCountries|releaseDecade|genre1|genre2|genre3|\n",
      "+-----+----+-----------+-----------------+------------+-------+-----------------+-------------+------+------+------+\n",
      "|  581|   0|         21|              670|         670|      0|                0|           21|     0|     0|     0|\n",
      "+-----+----+-----------+-----------------+------------+-------+-----------------+-------------+------+------+------+\n",
      "\n",
      "Number of rows in HBO data: 7599\n",
      "Number of rows in AppleTV data where title, imdbAverageRating, and imdbNumVotes are all null: 519\n"
     ]
    }
   ],
   "source": [
    "from pyspark.sql.functions import col, sum\n",
    "\n",
    "# Checking for null values in each column in the merged DataFrame\n",
    "null_counts = all_data.select([(sum(col(c).isNull().cast(\"int\")).alias(c)) for c in all_data.columns])\n",
    "null_counts.show()\n",
    "\n",
    "# In the section below, we analyze the null values for each company to check if there is any unbalance \n",
    "#  Finding null values for AppleTV\n",
    "apple_tv_nulls = all_data.filter(all_data.Company == 'AppleTV').select(\n",
    "    [(sum(col(c).isNull().cast(\"int\")).alias(c)) for c in all_data.columns]\n",
    ")\n",
    "apple_tv_nulls.show()\n",
    "\n",
    "# Count rows in AppleTV data\n",
    "num_rows_apple_tv = all_data.filter(all_data.Company == 'AppleTV').count()\n",
    "print(\"Number of rows in AppleTV data:\", num_rows_apple_tv)\n",
    "\n",
    "from pyspark.sql.functions import col, sum\n",
    "\n",
    "# Finding null values for Hulu\n",
    "Hulu_nulls = all_data.filter(all_data.Company == 'Hulu').select(\n",
    "    [(sum(col(c).isNull().cast(\"int\")).alias(c)) for c in all_data.columns]\n",
    ")\n",
    "print(\"Null values in Hulu data:\")\n",
    "Hulu_nulls.show()\n",
    "\n",
    "# Count rows in Hulu data\n",
    "num_rows_Hulu = all_data.filter(all_data.Company == 'Hulu').count()\n",
    "print(\"Number of rows in Hulu data:\", num_rows_Hulu)\n",
    "\n",
    "# Finding null values for Netflix\n",
    "Netflix_nulls = all_data.filter(all_data.Company == 'Netflix').select(\n",
    "    [(sum(col(c).isNull().cast(\"int\")).alias(c)) for c in all_data.columns]\n",
    ")\n",
    "print(\"Null values in Netflix data:\")\n",
    "Netflix_nulls.show()\n",
    "\n",
    "# Count rows in Netflix data\n",
    "num_rows_Netflix = all_data.filter(all_data.Company == 'Netflix').count()\n",
    "print(\"Number of rows in Netflix data:\", num_rows_Netflix)\n",
    "\n",
    "from pyspark.sql.functions import col, sum\n",
    "\n",
    "# Finding null values for Amazon\n",
    "Amazon_nulls = all_data.filter(all_data.Company == 'Amazon').select(\n",
    "    [(sum(col(c).isNull().cast(\"int\")).alias(c)) for c in all_data.columns]\n",
    ")\n",
    "print(\"Null values in Amazon data:\")\n",
    "Amazon_nulls.show()\n",
    "\n",
    "# Count rows in Amazon data\n",
    "num_rows_Amazon = all_data.filter(all_data.Company == 'Amazon').count()\n",
    "print(\"Number of rows in Amazon data:\", num_rows_Amazon)\n",
    "\n",
    "# Finding null values for HBO\n",
    "HBO_nulls = all_data.filter(all_data.Company == 'HBO').select(\n",
    "    [(sum(col(c).isNull().cast(\"int\")).alias(c)) for c in all_data.columns]\n",
    ")\n",
    "print(\"Null values in HBO data:\")\n",
    "HBO_nulls.show()\n",
    "\n",
    "# Count rows in HBO data\n",
    "num_rows_HBO = all_data.filter(all_data.Company == 'HBO').count()\n",
    "print(\"Number of rows in HBO data:\", num_rows_HBO)\n",
    "\n",
    "\n",
    "# Filter AppleTV data and count rows where all three columns are null\n",
    "all_three_null = all_data.filter(\n",
    "    (col(\"Company\") == \"AppleTV\") & \n",
    "    col(\"title\").isNull() & \n",
    "    col(\"imdbAverageRating\").isNull() & \n",
    "    col(\"imdbNumVotes\").isNull()\n",
    ").count()\n",
    "\n",
    "print(\"Number of rows in AppleTV data where title, imdbAverageRating, and imdbNumVotes are all null:\", all_three_null)"
   ]
  },
  {
   "cell_type": "markdown",
   "id": "49264880-8e84-45c5-a748-3f2aaa480ea1",
   "metadata": {},
   "source": [
    "<a id='1.7'></a>\n",
    "### Dropping Null Values"
   ]
  },
  {
   "cell_type": "code",
   "execution_count": 14,
   "id": "2a496ff9-5fe6-4257-bea9-dc7dfa1c4a2a",
   "metadata": {},
   "outputs": [
    {
     "name": "stdout",
     "output_type": "stream",
     "text": [
      "Null values in each numeric column:\n",
      "+-----+----+-----------+-----------------+------------+-------+-----------------+-------------+------+------+------+\n",
      "|title|type|releaseYear|imdbAverageRating|imdbNumVotes|Company|NumberOfCountries|releaseDecade|genre1|genre2|genre3|\n",
      "+-----+----+-----------+-----------------+------------+-------+-----------------+-------------+------+------+------+\n",
      "|    0|   0|          0|                0|           0|      0|                0|            0|     0|     0|     0|\n",
      "+-----+----+-----------+-----------------+------------+-------+-----------------+-------------+------+------+------+\n",
      "\n"
     ]
    }
   ],
   "source": [
    "from pyspark.sql.functions import col, sum\n",
    "\n",
    "# Drop rows with null values in specific columns\n",
    "all_data = all_data.dropna(subset=['title', 'genre1', 'genre2', 'genre3', 'releaseYear', 'imdbAverageRating', 'imdbNumVotes'])\n",
    "\n",
    "# Checking for null values in each column\n",
    "null_counts = all_data.select([(sum(col(c).isNull().cast(\"int\")).alias(c)) for c in all_data.columns])\n",
    "print(\"Null values in each numeric column:\")\n",
    "null_counts.show()"
   ]
  },
  {
   "cell_type": "markdown",
   "id": "00d04e5f-c79d-46fe-a428-20373deb8a7b",
   "metadata": {},
   "source": [
    "<a id='2'></a>\n",
    "## ⁠Explanatory Data Analysis"
   ]
  },
  {
   "cell_type": "markdown",
   "id": "7d1145ae",
   "metadata": {
    "jp-MarkdownHeadingCollapsed": true
   },
   "source": [
    "##### 1. Distribution of IMDb Average Ratings (2000-2024)"
   ]
  },
  {
   "cell_type": "markdown",
   "id": "dfa3a79f",
   "metadata": {},
   "source": [
    "This section visualizes the distribution of IMDb ratings for content released between 2000 and 2024. The histogram helps identify the most common rating range and highlight any skewness or outliers in the data. Insights from this analysis can guide understanding of audience reception trends over time and the consistency of rating quality across different years.\n",
    "\n",
    "The chart indicates a steady increase in the average IMDb rating of movies over time, with a notable improvement starting around 2015. This suggests that the quality of movies, as perceived by viewers, has generally improved over the years, particularly in recent years\n",
    "\n",
    "Platforms should consider investing in more recent, high-quality productions that align with the upward trend in ratings. This could mean focusing on newer releases that are already receiving positive feedback or working with production studios that have consistently delivered high-rated content. "
   ]
  },
  {
   "cell_type": "code",
   "execution_count": 18,
   "id": "b0115c11-7ca7-444a-8fbb-222981c68528",
   "metadata": {},
   "outputs": [
    {
     "name": "stderr",
     "output_type": "stream",
     "text": [
      "                                                                                \r"
     ]
    },
    {
     "data": {
      "text/plain": [
       "<Figure size 1200x600 with 0 Axes>"
      ]
     },
     "execution_count": 18,
     "metadata": {},
     "output_type": "execute_result"
    },
    {
     "data": {
      "text/plain": [
       "<BarContainer object of 25 artists>"
      ]
     },
     "execution_count": 18,
     "metadata": {},
     "output_type": "execute_result"
    },
    {
     "data": {
      "text/plain": [
       "Text(0.5, 0, 'Release Year')"
      ]
     },
     "execution_count": 18,
     "metadata": {},
     "output_type": "execute_result"
    },
    {
     "data": {
      "text/plain": [
       "Text(0, 0.5, 'Average IMDb Rating')"
      ]
     },
     "execution_count": 18,
     "metadata": {},
     "output_type": "execute_result"
    },
    {
     "data": {
      "text/plain": [
       "Text(0.5, 1.0, 'Average IMDb Rating per Year (2000 – 2024)')"
      ]
     },
     "execution_count": 18,
     "metadata": {},
     "output_type": "execute_result"
    },
    {
     "data": {
      "text/plain": [
       "(5.0, 10.0)"
      ]
     },
     "execution_count": 18,
     "metadata": {},
     "output_type": "execute_result"
    },
    {
     "data": {
      "text/plain": [
       "(array([1995., 2000., 2005., 2010., 2015., 2020., 2025., 2030.]),\n",
       " [Text(1995.0, 0, '1995'),\n",
       "  Text(2000.0, 0, '2000'),\n",
       "  Text(2005.0, 0, '2005'),\n",
       "  Text(2010.0, 0, '2010'),\n",
       "  Text(2015.0, 0, '2015'),\n",
       "  Text(2020.0, 0, '2020'),\n",
       "  Text(2025.0, 0, '2025'),\n",
       "  Text(2030.0, 0, '2030')])"
      ]
     },
     "execution_count": 18,
     "metadata": {},
     "output_type": "execute_result"
    },
    {
     "data": {
      "image/png": "[encoded data removed]",
      "text/plain": [
       "<Figure size 1200x600 with 1 Axes>"
      ]
     },
     "metadata": {},
     "output_type": "display_data"
    }
   ],
   "source": [
    "import matplotlib.pyplot as plt\n",
    "from pyspark.sql.functions import col, avg\n",
    "\n",
    "# Filter and aggregate data in PySpark\n",
    "filtered_data = all_data.filter((col(\"releaseYear\") >= 2000) & (col(\"releaseYear\") <= 2024)) \\\n",
    "                        .groupBy(\"releaseYear\") \\\n",
    "                        .agg(avg(\"imdbAverageRating\").alias(\"averageIMDbRating\")) \\\n",
    "                        .orderBy(\"releaseYear\")\n",
    "\n",
    "# Convert to pandas for plotting\n",
    "filtered_data_pd = filtered_data.toPandas()\n",
    "\n",
    "# Plotting with matplotlib\n",
    "plt.figure(figsize=(12, 6))\n",
    "plt.bar(filtered_data_pd['releaseYear'], filtered_data_pd['averageIMDbRating'], width=0.8)\n",
    "\n",
    "# Customizing the plot\n",
    "plt.xlabel('Release Year')\n",
    "plt.ylabel('Average IMDb Rating')\n",
    "plt.title('Average IMDb Rating per Year (2000 – 2024)')\n",
    "plt.ylim(5, 10)  # Set y-axis limit to 10\n",
    "plt.xticks(rotation=90)\n",
    "plt.tight_layout()\n",
    "plt.show()"
   ]
  },
  {
   "cell_type": "markdown",
   "id": "85fcc683-4bbd-4075-b46e-ed1d5c1a70be",
   "metadata": {
    "jp-MarkdownHeadingCollapsed": true
   },
   "source": [
    "##### 2. Unique Genres Analysis"
   ]
  },
  {
   "cell_type": "markdown",
   "id": "0ff1d72c",
   "metadata": {},
   "source": [
    "The total number of unique genres can indicate the extent of genre coverage and niche content that platforms may cater to. This data helps identify content gaps or areas for potential expansion.\n",
    "\n",
    "The analysis identified 32 unique genres within the dataset. This diversity of genres highlights the range of content that platforms currently offer, from popular genres like Drama and Comedy to niche categories such as Game-Show and Biography. The variety suggests that platforms aim to cater to a broad audience with varied preferences.\n",
    "\n",
    "Platforms should evaluate which of these genres attract the highest engagement and ratings. Investing in underrepresented but emerging genres could help capture niche audiences and create differentiation from competitors."
   ]
  },
  {
   "cell_type": "code",
   "execution_count": 19,
   "id": "1a3ea546-677a-4bde-a0c9-e921d06f117d",
   "metadata": {},
   "outputs": [
    {
     "name": "stdout",
     "output_type": "stream",
     "text": [
      "Unique genres in genre1:\n",
      "+-----------+\n",
      "|     genre1|\n",
      "+-----------+\n",
      "|      Crime|\n",
      "|    Romance|\n",
      "|   Thriller|\n",
      "|  Adventure|\n",
      "|      Drama|\n",
      "|        War|\n",
      "|Documentary|\n",
      "| Reality-TV|\n",
      "|     Family|\n",
      "|    Fantasy|\n",
      "|  Game-Show|\n",
      "|    History|\n",
      "|    Mystery|\n",
      "|    Musical|\n",
      "|  Animation|\n",
      "|      Music|\n",
      "|     Horror|\n",
      "|    Western|\n",
      "|  Biography|\n",
      "|     Comedy|\n",
      "+-----------+\n",
      "only showing top 20 rows\n",
      "\n",
      "Total number of unique genres in genre1: 32\n"
     ]
    }
   ],
   "source": [
    "# Get unique genres in genre1\n",
    "unique_genres_genre1 = all_data.select(\"genre1\").distinct()\n",
    "\n",
    "# Count the number of unique genres in genre1\n",
    "num_unique_genres_genre1 = unique_genres_genre1.count()\n",
    "\n",
    "# Show the unique genres\n",
    "print(\"Unique genres in genre1:\")\n",
    "unique_genres_genre1.show()\n",
    "\n",
    "# Print the total count of unique genres\n",
    "print(\"Total number of unique genres in genre1:\", num_unique_genres_genre1)\n"
   ]
  },
  {
   "cell_type": "markdown",
   "id": "5f3ccaf8",
   "metadata": {
    "jp-MarkdownHeadingCollapsed": true
   },
   "source": [
    "##### 3. Genre Occurence visualization"
   ]
  },
  {
   "cell_type": "markdown",
   "id": "d00c9401",
   "metadata": {},
   "source": [
    " By analyzing which genres are most and least represented, platforms can strategize on content curation and understand user preferences. It can also be a basis for recommendations for increasing investment in popular or emerging genres.\n",
    "\n",
    "The pie chart shows the distribution of main genres in the dataset. The most represented genres are Comedy and Drama, each making up approximately 21.3% of the total content. Action follows at 18.4%, indicating that these genres dominate the offerings across platforms. On the other hand, genres like Documentary, Animation, Biography, and Horror have smaller shares, indicating more niche content.\n",
    "\n",
    "Platforms should consider investing in genres like Comedy, Drama, and Action, as these are proven to attract a large audience base. However, focusing on underrepresented genres such as Documentaries and Animations could appeal to specialized audiences and differentiate the platform."
   ]
  },
  {
   "cell_type": "code",
   "execution_count": 20,
   "id": "45c721a4-7f3c-4760-8814-edd627f2e432",
   "metadata": {},
   "outputs": [
    {
     "name": "stderr",
     "output_type": "stream",
     "text": [
      "/tmp/ipykernel_1110/646646397.py:13: SettingWithCopyWarning:                    \n",
      "A value is trying to be set on a copy of a slice from a DataFrame\n",
      "\n",
      "See the caveats in the documentation: https://pandas.pydata.org/pandas-docs/stable/user_guide/indexing.html#returning-a-view-versus-a-copy\n",
      "  genre1_counts_modified.loc['Others'] = genre1_counts_pd[genre1_counts_pd['count'] < threshold].sum()\n"
     ]
    },
    {
     "data": {
      "text/plain": [
       "<Figure size 1000x800 with 0 Axes>"
      ]
     },
     "execution_count": 20,
     "metadata": {},
     "output_type": "execute_result"
    },
    {
     "data": {
      "text/plain": [
       "([<matplotlib.patches.Wedge at 0xffff60bb3c10>,\n",
       "  <matplotlib.patches.Wedge at 0xffff60bce3d0>,\n",
       "  <matplotlib.patches.Wedge at 0xffff60bcf990>,\n",
       "  <matplotlib.patches.Wedge at 0xffff60bcf010>,\n",
       "  <matplotlib.patches.Wedge at 0xffff60be2690>,\n",
       "  <matplotlib.patches.Wedge at 0xffff60be3f50>,\n",
       "  <matplotlib.patches.Wedge at 0xffff60bed690>,\n",
       "  <matplotlib.patches.Wedge at 0xffff60beee50>,\n",
       "  <matplotlib.patches.Wedge at 0xffff60bf8b50>,\n",
       "  <matplotlib.patches.Wedge at 0xffff60be3e50>],\n",
       " [Text(-0.9900236670439533, 0.479430014384627, 'Crime'),\n",
       "  Text(-1.099768169288616, 0.022582599929282608, 'Adventure'),\n",
       "  Text(-0.7420437487317681, -0.8120166716072427, 'Drama'),\n",
       "  Text(0.15027411068314137, -1.089686969573552, 'Documentary'),\n",
       "  Text(0.47856452050428333, -0.990442325284267, 'Animation'),\n",
       "  Text(0.6998162833877014, -0.8486796624789736, 'Horror'),\n",
       "  Text(0.8942036050058044, -0.6406246270591096, 'Biography'),\n",
       "  Text(1.0841683409724931, 0.1859543181347293, 'Comedy'),\n",
       "  Text(0.17095645229663323, 1.086634203132843, 'Action'),\n",
       "  Text(-0.6627886331424138, 0.8779016048380428, 'Others')],\n",
       " [Text(-0.5400129092967018, 0.2615072805734329, '7.9%'),\n",
       "  Text(-0.5998735468846996, 0.012317781779608695, '5.8%'),\n",
       "  Text(-0.40475113567187354, -0.4429181845130414, '21.3%'),\n",
       "  Text(0.08196769673625891, -0.5943747106764828, '6.7%'),\n",
       "  Text(0.26103519300233635, -0.5402412683368728, '3.3%'),\n",
       "  Text(0.381717972756928, -0.46291617953398556, '4.3%'),\n",
       "  Text(0.4877474209122569, -0.3494316147595143, '3.9%'),\n",
       "  Text(0.5913645496213598, 0.1014296280734887, '21.3%'),\n",
       "  Text(0.09324897397998176, 0.5927095653451872, '18.4%'),\n",
       "  Text(-0.3615210726231347, 0.47885542082075055, '7.2%')])"
      ]
     },
     "execution_count": 20,
     "metadata": {},
     "output_type": "execute_result"
    },
    {
     "data": {
      "text/plain": [
       "Text(0.5, 1.0, 'Distribution of Main Genres')"
      ]
     },
     "execution_count": 20,
     "metadata": {},
     "output_type": "execute_result"
    },
    {
     "data": {
      "image/png": "[encoded data removed]",
      "text/plain": [
       "<Figure size 1000x800 with 1 Axes>"
      ]
     },
     "metadata": {},
     "output_type": "display_data"
    }
   ],
   "source": [
    "import matplotlib.pyplot as plt\n",
    "from pyspark.sql.functions import col\n",
    "\n",
    "# Count occurrences of each genre in genre1\n",
    "genre1_counts = all_data.groupBy(\"genre1\").count()\n",
    "\n",
    "# Convert to pandas for further manipulation\n",
    "genre1_counts_pd = genre1_counts.toPandas().set_index(\"genre1\")\n",
    "\n",
    "# Calculate the threshold and group genres below 3% into 'Others'\n",
    "threshold = 0.03 * genre1_counts_pd['count'].sum()\n",
    "genre1_counts_modified = genre1_counts_pd[genre1_counts_pd['count'] >= threshold]\n",
    "genre1_counts_modified.loc['Others'] = genre1_counts_pd[genre1_counts_pd['count'] < threshold].sum()\n",
    "\n",
    "# Plot the pie chart for genre1 with 'Others' included\n",
    "plt.figure(figsize=(10, 8))\n",
    "plt.pie(genre1_counts_modified['count'], labels=genre1_counts_modified.index, autopct='%1.1f%%', startangle=140)\n",
    "plt.title('Distribution of Main Genres')\n",
    "plt.tight_layout()\n",
    "plt.show()"
   ]
  },
  {
   "cell_type": "markdown",
   "id": "66bca97a",
   "metadata": {
    "jp-MarkdownHeadingCollapsed": true
   },
   "source": [
    "##### 4. Average IMDb rating by platform"
   ]
  },
  {
   "cell_type": "markdown",
   "id": "b6a73421",
   "metadata": {},
   "source": [
    "The results show how platforms compare in terms of the average quality of their content based on viewer ratings. These average IMDb ratings highlight how different platforms fare in terms of viewer satisfaction, potentially influencing future content production and acquisition strategies.\n",
    "\n",
    "The bar chart shows the average IMDb ratings for content on various platforms. HBO leads with an average rating of approximately 6.78, indicating that it consistently offers highly-rated content. Hulu, Netflix, and AppleTV have similar average ratings ranging from about 6.47 to 6.76, suggesting comparable quality among these platforms. Amazon trails with an average rating of approximately 6.02, which is notably lower than the others."
   ]
  },
  {
   "cell_type": "code",
   "execution_count": 21,
   "id": "92081fe9-103d-4142-87c0-e8e952c5af72",
   "metadata": {},
   "outputs": [
    {
     "name": "stderr",
     "output_type": "stream",
     "text": [
      "                                                                                \r"
     ]
    },
    {
     "name": "stdout",
     "output_type": "stream",
     "text": [
      "+-------+----------------------+\n",
      "|Company|avg(imdbAverageRating)|\n",
      "+-------+----------------------+\n",
      "|    HBO|     6.782060912306097|\n",
      "|   Hulu|    6.7055128241196655|\n",
      "|Netflix|       6.5290979742174|\n",
      "|AppleTV|     6.478445484919671|\n",
      "| Amazon|     6.021939307865038|\n",
      "+-------+----------------------+\n",
      "\n"
     ]
    },
    {
     "data": {
      "text/plain": [
       "<Figure size 1000x600 with 0 Axes>"
      ]
     },
     "execution_count": 21,
     "metadata": {},
     "output_type": "execute_result"
    },
    {
     "data": {
      "text/plain": [
       "<BarContainer object of 5 artists>"
      ]
     },
     "execution_count": 21,
     "metadata": {},
     "output_type": "execute_result"
    },
    {
     "data": {
      "text/plain": [
       "Text(0.5, 0, 'Platform')"
      ]
     },
     "execution_count": 21,
     "metadata": {},
     "output_type": "execute_result"
    },
    {
     "data": {
      "text/plain": [
       "Text(0, 0.5, 'Average IMDb Rating')"
      ]
     },
     "execution_count": 21,
     "metadata": {},
     "output_type": "execute_result"
    },
    {
     "data": {
      "text/plain": [
       "Text(0.5, 1.0, 'Average IMDb Rating by Platform')"
      ]
     },
     "execution_count": 21,
     "metadata": {},
     "output_type": "execute_result"
    },
    {
     "data": {
      "image/png": "[encoded data removed]",
      "text/plain": [
       "<Figure size 1000x600 with 1 Axes>"
      ]
     },
     "metadata": {},
     "output_type": "display_data"
    }
   ],
   "source": [
    "from pyspark.sql.functions import col\n",
    "\n",
    "# Convert imdbAverageRating to float type\n",
    "all_data = all_data.withColumn(\"imdbAverageRating\", col(\"imdbAverageRating\").cast(\"float\"))\n",
    "\n",
    "# Calculate the average IMDb rating by platform (Company)\n",
    "avg_rating_by_platform = all_data.groupBy(\"Company\").avg(\"imdbAverageRating\").orderBy(\"avg(imdbAverageRating)\", ascending=False)\n",
    "avg_rating_by_platform.show()\n",
    "\n",
    "avg_rating_by_platform_pd = avg_rating_by_platform.toPandas()\n",
    "\n",
    "import matplotlib.pyplot as plt\n",
    "\n",
    "# Plot Average Rating by Platform\n",
    "plt.figure(figsize=(10, 6))\n",
    "plt.bar(avg_rating_by_platform_pd['Company'], avg_rating_by_platform_pd['avg(imdbAverageRating)'])\n",
    "plt.xlabel('Platform')\n",
    "plt.ylabel('Average IMDb Rating')\n",
    "plt.title('Average IMDb Rating by Platform')\n",
    "plt.show()\n"
   ]
  },
  {
   "cell_type": "markdown",
   "id": "0937eab4",
   "metadata": {
    "jp-MarkdownHeadingCollapsed": true
   },
   "source": [
    "##### 5. Top 10 Movies by IMDb Average Rating Across All Platforms"
   ]
  },
  {
   "cell_type": "markdown",
   "id": "aaa1d332-d0ef-45fd-9507-60d59402d2ba",
   "metadata": {},
   "source": [
    "The table shows the top 10 movies by IMDb average rating across different platforms. Notably, Amazon dominates this list with highly-rated documentaries like Rumba in the Jungle and The Lost Spirits, showing that niche, high-quality documentaries can achieve excellent viewer ratings. The list also includes content from Netflix and HBO, highlighting that different platforms can achieve top ratings with distinct content types, such as crime dramas and nature documentaries.\n",
    "\n",
    "Platforms should take note of the types of content that achieve the highest ratings\n",
    "For Amazon, investing further in high-quality documentaries can solidify its reputation in this genre. \n"
   ]
  },
  {
   "cell_type": "code",
   "execution_count": 15,
   "id": "09567c7f-36da-4741-8b9a-178da9455d0f",
   "metadata": {},
   "outputs": [
    {
     "name": "stdout",
     "output_type": "stream",
     "text": [
      "+--------------------+----+-----------+-----------------+------------+-------+-----------------+-------------+-----------+------+------+\n",
      "|               title|type|releaseYear|imdbAverageRating|imdbNumVotes|Company|NumberOfCountries|releaseDecade|     genre1|genre2|genre3|\n",
      "+--------------------+----+-----------+-----------------+------------+-------+-----------------+-------------+-----------+------+------+\n",
      "|Rumba in the Jung...|   1|       2018|              9.9|        10.0| Amazon|                7|        2010s|Documentary|   NEG|   NEG|\n",
      "|    The Lost Spirits|   1|       2009|              9.8|        10.0| Amazon|                3|        2000s|Documentary|   NEG|   NEG|\n",
      "|The Trash Goes Ou...|   1|       2024|              9.8|        18.0| Amazon|                3|        2020s|Documentary|   NEG|   NEG|\n",
      "|      The Chemo Club|   1|       2016|              9.7|        27.0| Amazon|                3|        2010s|     Comedy|   NEG|   NEG|\n",
      "|El Comando del Di...|   1|       2013|              9.5|        16.0| Amazon|               18|        2010s|     Action|   NEG|   NEG|\n",
      "|Begründung eines ...|   1|       1966|              9.4|        15.0|AppleTV|                1|        1960s|      Drama|   NEG|   NEG|\n",
      "|    Steeper & Deeper|   1|       1992|              9.4|        21.0| Amazon|                1|        1990s|Documentary| Sport|   NEG|\n",
      "|     Kasidre Kailasa|   1|       1971|              9.3|        26.0|AppleTV|                2|        1970s|     Family| Drama|   NEG|\n",
      "|The Shawshank Red...|   1|       1994|              9.3|   2954554.0|   Hulu|                1|        1990s|      Drama|   NEG|   NEG|\n",
      "|The Shawshank Red...|   1|       1994|              9.3|   2954554.0|    HBO|               30|        1990s|      Drama|   NEG|   NEG|\n",
      "+--------------------+----+-----------+-----------------+------------+-------+-----------------+-------------+-----------+------+------+\n",
      "\n"
     ]
    },
    {
     "name": "stderr",
     "output_type": "stream",
     "text": [
      "                                                                                \r"
     ]
    }
   ],
   "source": [
    "top_movies = all_data.filter(all_data[\"type\"] == 1).orderBy(\"imdbAverageRating\", ascending=False).limit(10)\n",
    "top_movies.show()"
   ]
  },
  {
   "cell_type": "code",
   "execution_count": 16,
   "id": "486d9601-8554-448d-b9c2-4e8f57049b6b",
   "metadata": {},
   "outputs": [
    {
     "name": "stdout",
     "output_type": "stream",
     "text": [
      "+--------------------+----+-----------+-----------------+------------+-------+-----------------+-------------+-----------+------------+---------+\n",
      "|               title|type|releaseYear|imdbAverageRating|imdbNumVotes|Company|NumberOfCountries|releaseDecade|     genre1|      genre2|   genre3|\n",
      "+--------------------+----+-----------+-----------------+------------+-------+-----------------+-------------+-----------+------------+---------+\n",
      "|        Breaking Bad|   0|       2008|              9.5|   2222701.0|Netflix|              121|        2000s|      Crime|       Drama| Thriller|\n",
      "|     Planet Earth II|   0|       2016|              9.5|    161347.0|    HBO|                7|        2010s|Documentary|         NEG|      NEG|\n",
      "|      Benjamin Cello|   0|       2019|              9.5|        25.0| Amazon|                2|        2010s|     Family|         NEG|      NEG|\n",
      "|The Tragically Hi...|   0|       2024|              9.5|       447.0| Amazon|              109|        2020s|  Biography| Documentary|    Music|\n",
      "|The Last Drive-In...|   0|       2018|              9.4|      2003.0|AppleTV|                3|        2010s|     Comedy|     Fantasy|   Horror|\n",
      "|        Planet Earth|   0|       2006|              9.4|    222871.0|    HBO|                7|        2000s|Documentary|      Family|      NEG|\n",
      "|    Bunty I Love You|   0|       2013|              9.4|        73.0|AppleTV|                1|        2010s|    History|         NEG|      NEG|\n",
      "|        Malgudi Days|   0|       1986|              9.4|      4303.0| Amazon|                7|        1980s|      Drama|         NEG|      NEG|\n",
      "|One Born Every Mi...|   0|       2019|              9.4|         6.0|AppleTV|                1|        2010s| Reality-TV|         NEG|      NEG|\n",
      "|    Band of Brothers|   0|       2001|              9.4|    543177.0|    HBO|               51|        2000s|      Drama|     History|      War|\n",
      "+--------------------+----+-----------+-----------------+------------+-------+-----------------+-------------+-----------+------------+---------+\n",
      "\n"
     ]
    }
   ],
   "source": [
    "top_movies = all_data.filter(all_data[\"type\"] == 0).orderBy(\"imdbAverageRating\", ascending=False).limit(10)\n",
    "top_movies.show()\n"
   ]
  },
  {
   "cell_type": "markdown",
   "id": "06243af2",
   "metadata": {
    "jp-MarkdownHeadingCollapsed": true
   },
   "source": [
    "##### 6. Top 10 Genres by Count Across All Platforms"
   ]
  },
  {
   "cell_type": "markdown",
   "id": "767af479-54dd-4121-af26-c05a55d9fc11",
   "metadata": {},
   "source": [
    "The bar chart illustrates the top 10 genres by frequency across all platforms. Comedy and Drama are the leading genres, followed by Action and Crime. This shows that most platforms prioritize content in these popular genres to cater to broad audience preferences. Niche genres like Biography, Animation, and Reality-TV are represented less, indicating either lower production volumes or more targeted audiences."
   ]
  },
  {
   "cell_type": "code",
   "execution_count": 23,
   "id": "a76560a6",
   "metadata": {},
   "outputs": [
    {
     "name": "stdout",
     "output_type": "stream",
     "text": [
      "+-----------+-----+\n",
      "|     genre1|count|\n",
      "+-----------+-----+\n",
      "|     Comedy|17964|\n",
      "|      Drama|17950|\n",
      "|     Action|15506|\n",
      "|      Crime| 6645|\n",
      "|Documentary| 5641|\n",
      "|  Adventure| 4928|\n",
      "|     Horror| 3662|\n",
      "|  Biography| 3317|\n",
      "|  Animation| 2776|\n",
      "| Reality-TV| 1542|\n",
      "+-----------+-----+\n",
      "\n"
     ]
    },
    {
     "data": {
      "text/plain": [
       "<Figure size 1000x600 with 0 Axes>"
      ]
     },
     "execution_count": 23,
     "metadata": {},
     "output_type": "execute_result"
    },
    {
     "data": {
      "text/plain": [
       "<BarContainer object of 10 artists>"
      ]
     },
     "execution_count": 23,
     "metadata": {},
     "output_type": "execute_result"
    },
    {
     "data": {
      "text/plain": [
       "Text(0.5, 0, 'Count')"
      ]
     },
     "execution_count": 23,
     "metadata": {},
     "output_type": "execute_result"
    },
    {
     "data": {
      "text/plain": [
       "Text(0, 0.5, 'Genre')"
      ]
     },
     "execution_count": 23,
     "metadata": {},
     "output_type": "execute_result"
    },
    {
     "data": {
      "text/plain": [
       "Text(0.5, 1.0, 'Top 10 Genres Across All Platforms')"
      ]
     },
     "execution_count": 23,
     "metadata": {},
     "output_type": "execute_result"
    },
    {
     "data": {
      "image/png": "[encoded data removed]",
      "text/plain": [
       "<Figure size 1000x600 with 1 Axes>"
      ]
     },
     "metadata": {},
     "output_type": "display_data"
    }
   ],
   "source": [
    "top_genres = all_data.groupBy(\"genre1\").count().orderBy(\"count\", ascending=False).limit(10)\n",
    "top_genres.show()\n",
    "\n",
    "top_genres_pd = top_genres.toPandas()\n",
    "\n",
    "import matplotlib.pyplot as plt\n",
    "\n",
    "# Plot Top Genres\n",
    "plt.figure(figsize=(10, 6))\n",
    "plt.barh(top_genres_pd['genre1'], top_genres_pd['count'])\n",
    "plt.xlabel('Count')\n",
    "plt.ylabel('Genre')\n",
    "plt.title('Top 10 Genres Across All Platforms')\n",
    "plt.gca().invert_yaxis()\n",
    "plt.show()\n"
   ]
  },
  {
   "cell_type": "markdown",
   "id": "f5a25c16-0925-4f32-bef1-53054143f919",
   "metadata": {
    "jp-MarkdownHeadingCollapsed": true
   },
   "source": [
    "##### 7. Analyze Data for Netflix"
   ]
  },
  {
   "cell_type": "markdown",
   "id": "a5d0f010",
   "metadata": {},
   "source": [
    "This section highlights the average number of votes per platform, providing insights into user engagement and the popularity of content on Netflix.\n",
    "\n",
    "The top-rated movies on Netflix include highly acclaimed series like Breaking Bad and Band of Brothers, as well as classics like The Shawshank Redemption. These top entries show that high ratings are often associated with content that is either highly engaging or timeless. The most frequent genres on Netflix are Comedy, Drama, and Action, indicating Netflix's emphasis on diverse and popular content categories. The average IMDb rating for Netflix content stands at approximately 6.53, which is in line with industry averages, but lower than platforms like HBO.\n",
    "\n",
    "Netflix should continue investing in top-performing genres such as Crime and Drama, as these have proven to attract large audiences and high ratings. Additionally, focusing on producing or acquiring standout series and movies that align with viewer preferences could enhance overall platform ratings."
   ]
  },
  {
   "cell_type": "code",
   "execution_count": 24,
   "id": "2f523f2b-d2b5-420e-9428-6443c06076fb",
   "metadata": {},
   "outputs": [
    {
     "name": "stdout",
     "output_type": "stream",
     "text": [
      "+--------------------+----+-----------+-----------------+------------+-------+-----------------+-------------+-----------+----------+----------+\n",
      "|               title|type|releaseYear|imdbAverageRating|imdbNumVotes|Company|NumberOfCountries|releaseDecade|     genre1|    genre2|    genre3|\n",
      "+--------------------+----+-----------+-----------------+------------+-------+-----------------+-------------+-----------+----------+----------+\n",
      "|        Breaking Bad|   0|       2008|              9.5|   2222701.0|Netflix|              121|        2000s|      Crime|     Drama|  Thriller|\n",
      "|    Band of Brothers|   0|       2001|              9.4|    543177.0|Netflix|               53|        2000s|      Drama|   History|       War|\n",
      "|The Shawshank Red...|   1|       1994|              9.3|   2954554.0|Netflix|               23|        1990s|      Drama|       NEG|       NEG|\n",
      "|Avatar: The Last ...|   0|       2005|              9.3|    387280.0|Netflix|               98|        2000s|     Action| Adventure| Animation|\n",
      "| Flavours of Romania|   0|       2017|              9.3|       754.0|Netflix|                2|        2010s|Documentary|       NEG|       NEG|\n",
      "| Eddie's Lil' Homies|   0|       2024|              9.3|        21.0|Netflix|                3|        2020s|  Animation|    Comedy|    Family|\n",
      "|       The Godfather|   1|       1972|              9.2|   2059785.0|Netflix|              114|        1970s|      Crime|     Drama|       NEG|\n",
      "|          The Chosen|   0|       2017|              9.2|     50743.0|Netflix|              113|        2010s|      Drama|   History|       NEG|\n",
      "|          Our Planet|   0|       2019|              9.2|     53065.0|Netflix|              130|        2010s|Documentary|       NEG|       NEG|\n",
      "|     Shasha and Milo|   0|       2023|              9.2|        40.0|Netflix|                1|        2020s|     Action| Animation|    Comedy|\n",
      "+--------------------+----+-----------+-----------------+------------+-------+-----------------+-------------+-----------+----------+----------+\n",
      "\n",
      "+-----------+-----+\n",
      "|     genre1|count|\n",
      "+-----------+-----+\n",
      "|     Comedy| 3769|\n",
      "|      Drama| 2709|\n",
      "|     Action| 2606|\n",
      "|      Crime| 1091|\n",
      "|  Adventure|  880|\n",
      "|Documentary|  631|\n",
      "|  Biography|  599|\n",
      "|  Animation|  460|\n",
      "|     Horror|  319|\n",
      "| Reality-TV|  181|\n",
      "+-----------+-----+\n",
      "\n",
      "+----------------------+\n",
      "|avg(imdbAverageRating)|\n",
      "+----------------------+\n",
      "|       6.5290979742174|\n",
      "+----------------------+\n",
      "\n"
     ]
    }
   ],
   "source": [
    "# Filter data for Netflix\n",
    "netflix_data = all_data.filter(all_data.Company == \"Netflix\")\n",
    "\n",
    "# Top 10 Netflix Movies by IMDb Average Rating\n",
    "top_netflix_movies = netflix_data.orderBy(\"imdbAverageRating\", ascending=False).limit(10)\n",
    "top_netflix_movies.show()\n",
    "\n",
    "# Most Common Genres on Netflix\n",
    "netflix_genres = netflix_data.groupBy(\"genre1\").count().orderBy(\"count\", ascending=False).limit(10)\n",
    "netflix_genres.show()\n",
    "\n",
    "# Average IMDb Rating for Netflix Content\n",
    "avg_netflix_rating = netflix_data.agg({\"imdbAverageRating\": \"avg\"}).show()\n"
   ]
  },
  {
   "cell_type": "markdown",
   "id": "205b2995-7fc2-407b-888d-b01a3efe2ad5",
   "metadata": {
    "jp-MarkdownHeadingCollapsed": true
   },
   "source": [
    "##### 8. Detailed Genre Analysis Across Platforms\n"
   ]
  },
  {
   "cell_type": "markdown",
   "id": "38b9ac85-7834-44f4-ab69-7b6f4a4e1df9",
   "metadata": {},
   "source": [
    "he table shows the genre distribution across different platforms, with Netflix leading in genres like Comedy, Drama, and Action. This indicates that Netflix prioritizes content that appeals to a broad audience, while other genres such as Musical and Sci-Fi are less represented. \n",
    "\n",
    " Platforms could identify opportunities to expand their content libraries by focusing on underrepresented genres to capture niche audiences and differentiate their offerings."
   ]
  },
  {
   "cell_type": "code",
   "execution_count": 25,
   "id": "602bbe6f-2e1f-41ba-886f-9159fc372fa8",
   "metadata": {},
   "outputs": [
    {
     "name": "stdout",
     "output_type": "stream",
     "text": [
      "+-------+-----------+-----+\n",
      "|Company|     genre1|count|\n",
      "+-------+-----------+-----+\n",
      "|Netflix|     Comedy| 3769|\n",
      "|Netflix|      Drama| 2709|\n",
      "|Netflix|     Action| 2606|\n",
      "|Netflix|      Crime| 1091|\n",
      "|Netflix|  Adventure|  880|\n",
      "|Netflix|Documentary|  631|\n",
      "|Netflix|  Biography|  599|\n",
      "|Netflix|  Animation|  460|\n",
      "|Netflix|     Horror|  319|\n",
      "|Netflix| Reality-TV|  181|\n",
      "|Netflix|  Game-Show|   67|\n",
      "|Netflix|     Family|   64|\n",
      "|Netflix|    Romance|   64|\n",
      "|Netflix|   Thriller|   53|\n",
      "|Netflix|    Fantasy|   51|\n",
      "|Netflix|    Mystery|   43|\n",
      "|Netflix|    Musical|   14|\n",
      "|Netflix|      Music|   12|\n",
      "|Netflix|     Sci-Fi|   10|\n",
      "|Netflix|  Talk-Show|    9|\n",
      "+-------+-----------+-----+\n",
      "only showing top 20 rows\n",
      "\n"
     ]
    },
    {
     "name": "stderr",
     "output_type": "stream",
     "text": [
      "                                                                                \r"
     ]
    }
   ],
   "source": [
    "# Group by platform and genre to count occurrences\n",
    "genre_distribution = all_data.groupBy(\"Company\", \"genre1\").count().orderBy(\"Company\", \"count\", ascending=False)\n",
    "genre_distribution.show()\n"
   ]
  },
  {
   "cell_type": "markdown",
   "id": "fcb9c0ae-7f9d-4d9d-85a7-c3b6e811daab",
   "metadata": {
    "jp-MarkdownHeadingCollapsed": true
   },
   "source": [
    "#####  9. Release Year Trends\n"
   ]
  },
  {
   "cell_type": "markdown",
   "id": "0957475c-bde7-4b39-a4e7-11a3a662276d",
   "metadata": {},
   "source": [
    "he number of movie releases per decade shows a significant increase from the 1980s onwards, with the 2010s and 2020s having the highest counts. This trend highlights the rapid growth in content production over the past few decades.\n",
    "\n",
    "Platforms should continue investing in new content production while also maintaining a library of classic films that have retained popularity over time.\n",
    "\n"
   ]
  },
  {
   "cell_type": "code",
   "execution_count": 26,
   "id": "6c6e8dad-ba71-4c85-a832-2e6458cc74b9",
   "metadata": {},
   "outputs": [
    {
     "name": "stdout",
     "output_type": "stream",
     "text": [
      "+-------------+-----+\n",
      "|releaseDecade|count|\n",
      "+-------------+-----+\n",
      "|        1890s|    1|\n",
      "|        1900s|   10|\n",
      "|        1910s|   40|\n",
      "|        1920s|  165|\n",
      "|        1930s|  826|\n",
      "|        1940s| 1077|\n",
      "|        1950s| 1820|\n",
      "|        1960s| 2437|\n",
      "|        1970s| 3449|\n",
      "|        1980s| 4881|\n",
      "|        1990s| 6770|\n",
      "|        2000s|15020|\n",
      "|        2010s|38843|\n",
      "|        2020s| 9126|\n",
      "+-------------+-----+\n",
      "\n"
     ]
    }
   ],
   "source": [
    "# Number of releases per year\n",
    "releases_per_decade = all_data.groupBy(\"releaseDecade\").count().orderBy(\"releaseDecade\")\n",
    "releases_per_decade.show()"
   ]
  },
  {
   "cell_type": "markdown",
   "id": "e4a991ef-75e5-4260-82cf-cf48d6a98444",
   "metadata": {
    "jp-MarkdownHeadingCollapsed": true
   },
   "source": [
    "##### 10. Top Companies by Number of Releases\n"
   ]
  },
  {
   "cell_type": "markdown",
   "id": "81c505ee-de65-48ce-9e55-1e859e7b9354",
   "metadata": {},
   "source": [
    "Amazon has the highest number of releases, followed by Netflix, which aligns with these platforms' strategy to provide a vast range of content. HBO has fewer releases, suggesting a more selective approach to content production. \n",
    "\n",
    "Companies with a smaller number of releases like HBO could focus on maintaining high-quality content to compete, while platforms like Amazon and Netflix should analyze viewer engagement metrics to prioritize and promote successful content types"
   ]
  },
  {
   "cell_type": "code",
   "execution_count": 27,
   "id": "84facf27-cd88-49e2-97af-d0cb233bb889",
   "metadata": {},
   "outputs": [
    {
     "name": "stdout",
     "output_type": "stream",
     "text": [
      "+-------+-----+\n",
      "|Company|count|\n",
      "+-------+-----+\n",
      "| Amazon|44222|\n",
      "|Netflix|13647|\n",
      "|AppleTV|12647|\n",
      "|   Hulu| 7020|\n",
      "|    HBO| 6929|\n",
      "+-------+-----+\n",
      "\n"
     ]
    }
   ],
   "source": [
    "# Top platforms by number of releases\n",
    "releases_per_platform = all_data.groupBy(\"Company\").count().orderBy(\"count\", ascending=False)\n",
    "releases_per_platform.show()"
   ]
  },
  {
   "cell_type": "markdown",
   "id": "5aedb27f-6048-4d2a-8eaa-ba6bc7219ff3",
   "metadata": {
    "jp-MarkdownHeadingCollapsed": true
   },
   "source": [
    "##### 11. Correlation between Rating and Votes"
   ]
  },
  {
   "cell_type": "markdown",
   "id": "ff3588ca-f499-4fe9-a16e-783cb3a4e619",
   "metadata": {},
   "source": [
    "The correlation between IMDb average rating and the number of votes is approximately 0.20, indicating a weak positive correlation. This suggests that while higher-rated movies tend to receive more votes, the relationship is not strong enough to assume a direct link between the two. \n",
    "\n",
    "Platforms should promote high-rated content to increase viewer engagement and ratings, but they should also focus on marketing strategies that encourage audience participation and feedback for content with fewer votes."
   ]
  },
  {
   "cell_type": "code",
   "execution_count": 28,
   "id": "f9e1c418-d37b-4462-a0f8-d898cf3b436b",
   "metadata": {},
   "outputs": [
    {
     "name": "stdout",
     "output_type": "stream",
     "text": [
      "Correlation between IMDb average rating and number of votes: 0.20404805665286863\n"
     ]
    }
   ],
   "source": [
    "# Correlation between numerical features\n",
    "correlation_rating_votes = all_data.stat.corr(\"imdbAverageRating\", \"imdbNumVotes\")\n",
    "print(f\"Correlation between IMDb average rating and number of votes: {correlation_rating_votes}\")"
   ]
  },
  {
   "cell_type": "markdown",
   "id": "ff587429-d44e-461c-8da3-f7f71f4d3ef0",
   "metadata": {},
   "source": [
    "##### 12. Top-rated content by genre"
   ]
  },
  {
   "cell_type": "markdown",
   "id": "d74171cc-79a8-4f55-b775-226a8c003179",
   "metadata": {},
   "source": [
    "The top-rated genres include Documentary, Comedy, and Crime, all with maximum IMDb ratings above 9.0. This highlights that these genres are well-received and often deliver exceptional content that garners high user satisfaction.\n",
    "\n",
    "Platforms should prioritize acquiring or producing content in these high-rated genres to attract audiences looking for top-quality entertainment."
   ]
  },
  {
   "cell_type": "code",
   "execution_count": 21,
   "id": "c0ba3fd4-a865-4747-81b6-ab59880b1687",
   "metadata": {},
   "outputs": [
    {
     "name": "stderr",
     "output_type": "stream",
     "text": [
      "                                                                                \r"
     ]
    },
    {
     "name": "stdout",
     "output_type": "stream",
     "text": [
      "+-----------+--------------+----------+\n",
      "|     genre1|max_imdbRating|num_movies|\n",
      "+-----------+--------------+----------+\n",
      "|Documentary|           9.9|         1|\n",
      "|     Comedy|           9.7|         1|\n",
      "|     Action|           9.5|         1|\n",
      "|  Biography|           9.5|         1|\n",
      "|      Crime|           9.5|         1|\n",
      "|     Family|           9.5|         1|\n",
      "|      Drama|           9.4|         4|\n",
      "|    History|           9.4|         1|\n",
      "|       Kids|           9.4|         1|\n",
      "| Reality-TV|           9.4|         2|\n",
      "|      Sport|           9.4|         1|\n",
      "|  Adventure|           9.3|         1|\n",
      "|  Animation|           9.3|         1|\n",
      "|      Adult|           9.2|         1|\n",
      "|    Reality|           9.2|         1|\n",
      "|      Music|           9.1|         1|\n",
      "|        NEG|           9.1|         1|\n",
      "|  Talk-Show|             9|         1|\n",
      "|    Romance|           8.9|         1|\n",
      "|   Thriller|           8.8|         1|\n",
      "+-----------+--------------+----------+\n",
      "only showing top 20 rows\n",
      "\n"
     ]
    }
   ],
   "source": [
    "# Max rating per genre\n",
    "top_ratings_per_genre = all_data.groupBy(\"genre1\").agg(F.max(\"imdbAverageRating\").alias(\"max_imdbRating\"))\n",
    "\n",
    "# Join count movies with max rating\n",
    "top_rated_per_genre = top_ratings_per_genre.join(\n",
    "    all_data,\n",
    "    (all_data[\"genre1\"] == top_ratings_per_genre[\"genre1\"]) & (all_data[\"imdbAverageRating\"] == top_ratings_per_genre[\"max_imdbRating\"]),\n",
    "    \"inner\"\n",
    ").groupBy(top_ratings_per_genre[\"genre1\"], \"max_imdbRating\").count().withColumnRenamed(\"count\", \"num_movies\")\n",
    "\n",
    "top_rated_per_genre.orderBy(\"max_imdbRating\", ascending=False).show()\n"
   ]
  },
  {
   "cell_type": "markdown",
   "id": "9d013818-e354-4521-9f33-34112112979e",
   "metadata": {
    "jp-MarkdownHeadingCollapsed": true
   },
   "source": [
    "##### 13.Average number of votes per platform"
   ]
  },
  {
   "cell_type": "markdown",
   "id": "1c6269d1-06c0-4e93-a946-bc4fb79d1174",
   "metadata": {},
   "source": [
    "HBO has the highest average number of votes per movie, suggesting a strong viewer base for its content, followed by Hulu and Netflix. Amazon has the lowest average number of votes, indicating potentially lower engagement or fewer widely recognized titles.\n",
    "\n",
    "Platforms like Amazon could benefit from boosting viewer interaction and visibility for their content through strategic marketing and partnerships. HBO and Hulu should maintain their current strategies that drive viewer interest, while Netflix could focus on leveraging popular titles to sustain or increase its vote averages."
   ]
  },
  {
   "cell_type": "code",
   "execution_count": 30,
   "id": "8a4f6d86-f45e-431c-96a8-e678916b4e22",
   "metadata": {},
   "outputs": [
    {
     "name": "stdout",
     "output_type": "stream",
     "text": [
      "+-------+------------------+\n",
      "|Company| avg(imdbNumVotes)|\n",
      "+-------+------------------+\n",
      "|    HBO| 68751.80632125848|\n",
      "|   Hulu| 43769.74017094017|\n",
      "|Netflix| 41676.82545614421|\n",
      "|AppleTV|30861.936348541156|\n",
      "| Amazon|17440.991814029217|\n",
      "+-------+------------------+\n",
      "\n"
     ]
    }
   ],
   "source": [
    "# Average number of votes per platform\n",
    "avg_votes_per_platform = all_data.groupBy(\"Company\").avg(\"imdbNumVotes\").orderBy(\"avg(imdbNumVotes)\", ascending=False)\n",
    "avg_votes_per_platform.show()"
   ]
  },
  {
   "cell_type": "markdown",
   "id": "c84eb8e7-dad3-4a59-aa08-94d0571a45e4",
   "metadata": {},
   "source": [
    "##### EDA Conclusion"
   ]
  },
  {
   "cell_type": "markdown",
   "id": "0094e24b-a434-484f-9c34-158b7a7a1571",
   "metadata": {},
   "source": [
    "The EDA conducted on the merged dataset of movies across different streaming platforms has revealed significant insights into content trends, audience engagement, and platform-specific strengths. \n",
    "\n",
    "**Key takeaways** \n",
    "- the dominance of popular genres like Comedy, Drama, and Action, which attract large audience\n",
    "- the presence of high-rated content in genres such as Documentary and Crime.\n",
    "- Platforms like HBO and Netflix have consistently high average IMDb ratings and viewer engagement\n",
    "- Amazon show room for growth in content quality and audience interaction.\n",
    "- There is some relationship between movie ratings and the number of votes, it is not strong enough to make direct assumptions. \n",
    "- Highlight of the rapid increase in content production in recent decades\n",
    "\n",
    "**Recommendations** \n",
    "- **Diversify Content Offerings:** Platforms should focus on diversifying their content libraries by exploring underrepresented but high-rated genres, such as Biography and Family, to capture niche audiences and differentiate themselves.\n",
    "- **Invest in High-Quality Productions:** Emphasize investing in genres that are consistently high-rated, like Documentaries and Crime, to attract audiences seeking top-quality content.\n",
    "- **Promote Engagement:** Platforms with lower average votes, such as Amazon, should develop marketing strategies to increase viewer engagement and ratings. \n",
    "- **Leverage Data-Driven Content Acquisition:** Use insights from the EDA to inform decisions on content acquisition and production. Focus on genres and types of content that have historically performed well in terms of ratings and viewer engagement.\n",
    "- **Balance Between Popular and Niche Content:** While it’s important to invest in popular genres, offering niche content can help platforms attract specific audience segments and boost retention."
   ]
  },
  {
   "cell_type": "code",
   "execution_count": null,
   "id": "de77775f-06a4-45d9-afc8-9ae5ea9b422e",
   "metadata": {},
   "outputs": [],
   "source": []
  }
 ],
 "metadata": {
  "kernelspec": {
   "display_name": "Python 3 (ipykernel)",
   "language": "python",
   "name": "python3"
  },
  "language_info": {
   "codemirror_mode": {
    "name": "ipython",
    "version": 3
   },
   "file_extension": ".py",
   "mimetype": "text/x-python",
   "name": "python",
   "nbconvert_exporter": "python",
   "pygments_lexer": "ipython3",
   "version": "3.11.2"
  }
 },
 "nbformat": 4,
 "nbformat_minor": 5
}
